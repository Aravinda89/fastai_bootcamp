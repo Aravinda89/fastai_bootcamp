{
  "nbformat": 4,
  "nbformat_minor": 0,
  "metadata": {
    "colab": {
      "name": "BC2_1_MNIST_scratch.ipynb",
      "provenance": [],
      "collapsed_sections": [],
      "authorship_tag": "ABX9TyNmSmYEHBeldcKlEPPHJO8C",
      "include_colab_link": true
    },
    "kernelspec": {
      "name": "python3",
      "display_name": "Python 3"
    },
    "language_info": {
      "name": "python"
    }
  },
  "cells": [
    {
      "cell_type": "markdown",
      "metadata": {
        "id": "view-in-github",
        "colab_type": "text"
      },
      "source": [
        "<a href=\"https://colab.research.google.com/github/Aravinda89/fastai_bootcamp/blob/main/BC2_1_MNIST_scratch.ipynb\" target=\"_parent\"><img src=\"https://colab.research.google.com/assets/colab-badge.svg\" alt=\"Open In Colab\"/></a>"
      ]
    },
    {
      "cell_type": "code",
      "metadata": {
        "id": "Rtd5vUKApYTO"
      },
      "source": [
        "!pip install -Uqq fastbook\n",
        "import fastbook\n",
        "fastbook.setup_book()"
      ],
      "execution_count": 2,
      "outputs": []
    },
    {
      "cell_type": "code",
      "metadata": {
        "id": "sKQw9k2TqBDb"
      },
      "source": [
        "from fastai.vision.all import *\n",
        "from fastbook import *\n",
        "import matplotlib.pyplot as plt\n",
        "import numpy as np\n",
        "from random import shuffle\n",
        "\n",
        "matplotlib.rc('image', cmap='Greys')"
      ],
      "execution_count": 3,
      "outputs": []
    },
    {
      "cell_type": "code",
      "metadata": {
        "id": "3vtpH9wGqMnY",
        "colab": {
          "base_uri": "https://localhost:8080/",
          "height": 17
        },
        "outputId": "617b0e34-bf3d-448d-b531-58f65e1587d3"
      },
      "source": [
        "#Load full MNIST dataset\n",
        "\n",
        "path = untar_data(URLs.MNIST)    # Full dataset (0s to 9s)\n",
        "Path.BASE_PATH = path"
      ],
      "execution_count": 4,
      "outputs": [
        {
          "output_type": "display_data",
          "data": {
            "text/html": [
              ""
            ],
            "text/plain": [
              "<IPython.core.display.HTML object>"
            ]
          },
          "metadata": {
            "tags": []
          }
        }
      ]
    },
    {
      "cell_type": "code",
      "metadata": {
        "colab": {
          "base_uri": "https://localhost:8080/"
        },
        "id": "qUJit640qp8P",
        "outputId": "fffa2062-63be-408c-baf1-bc67221c1efa"
      },
      "source": [
        "path.ls()"
      ],
      "execution_count": 5,
      "outputs": [
        {
          "output_type": "execute_result",
          "data": {
            "text/plain": [
              "(#2) [Path('testing'),Path('training')]"
            ]
          },
          "metadata": {
            "tags": []
          },
          "execution_count": 5
        }
      ]
    },
    {
      "cell_type": "code",
      "metadata": {
        "colab": {
          "base_uri": "https://localhost:8080/"
        },
        "id": "72_-PfYeq3_R",
        "outputId": "c04d597f-ff79-4015-8e79-ca6e8700d698"
      },
      "source": [
        "(path/'training').ls()"
      ],
      "execution_count": 6,
      "outputs": [
        {
          "output_type": "execute_result",
          "data": {
            "text/plain": [
              "(#10) [Path('training/2'),Path('training/3'),Path('training/8'),Path('training/5'),Path('training/6'),Path('training/4'),Path('training/0'),Path('training/1'),Path('training/7'),Path('training/9')]"
            ]
          },
          "metadata": {
            "tags": []
          },
          "execution_count": 6
        }
      ]
    },
    {
      "cell_type": "code",
      "metadata": {
        "colab": {
          "base_uri": "https://localhost:8080/"
        },
        "id": "YC9jkOtMrJuJ",
        "outputId": "8fbc2491-2b6c-47b1-a643-41fd72db3422"
      },
      "source": [
        "len((path/'training/5').ls())"
      ],
      "execution_count": 7,
      "outputs": [
        {
          "output_type": "execute_result",
          "data": {
            "text/plain": [
              "5421"
            ]
          },
          "metadata": {
            "tags": []
          },
          "execution_count": 7
        }
      ]
    },
    {
      "cell_type": "code",
      "metadata": {
        "colab": {
          "base_uri": "https://localhost:8080/"
        },
        "id": "6ejsNAO7q6tH",
        "outputId": "aafada48-f6d9-4f19-a9d0-9e04343ffd6d"
      },
      "source": [
        "paths_dict = {}         # Create an empty dictionary to hold the paths list for each digit\n",
        "num_imgs_dict = {}        # Number of images for each class\n",
        "\n",
        "for i in range(10):\n",
        "    paths_dict[i] = (path/'training'/f\"{i}\").ls().sorted()   # add the list of path for digit i to the dict\n",
        "    num_imgs_dict[i] = len((path/'training'/f\"{i}\").ls())   # Get number of images for each class\n",
        "\n",
        "paths_dict"
      ],
      "execution_count": 8,
      "outputs": [
        {
          "output_type": "execute_result",
          "data": {
            "text/plain": [
              "{0: (#5923) [Path('training/0/1.png'),Path('training/0/1000.png'),Path('training/0/10005.png'),Path('training/0/10010.png'),Path('training/0/10022.png'),Path('training/0/10025.png'),Path('training/0/10026.png'),Path('training/0/10045.png'),Path('training/0/10069.png'),Path('training/0/10071.png')...],\n",
              " 1: (#6742) [Path('training/1/10006.png'),Path('training/1/10007.png'),Path('training/1/1002.png'),Path('training/1/10020.png'),Path('training/1/10027.png'),Path('training/1/1003.png'),Path('training/1/10040.png'),Path('training/1/10048.png'),Path('training/1/10058.png'),Path('training/1/10067.png')...],\n",
              " 2: (#5958) [Path('training/2/10009.png'),Path('training/2/10016.png'),Path('training/2/10024.png'),Path('training/2/10029.png'),Path('training/2/10072.png'),Path('training/2/10073.png'),Path('training/2/10075.png'),Path('training/2/10078.png'),Path('training/2/10081.png'),Path('training/2/10082.png')...],\n",
              " 3: (#6131) [Path('training/3/10.png'),Path('training/3/10000.png'),Path('training/3/10011.png'),Path('training/3/10031.png'),Path('training/3/10034.png'),Path('training/3/10042.png'),Path('training/3/10052.png'),Path('training/3/1007.png'),Path('training/3/10074.png'),Path('training/3/10091.png')...],\n",
              " 4: (#5842) [Path('training/4/10013.png'),Path('training/4/10018.png'),Path('training/4/10033.png'),Path('training/4/1004.png'),Path('training/4/1006.png'),Path('training/4/10060.png'),Path('training/4/1008.png'),Path('training/4/10103.png'),Path('training/4/10104.png'),Path('training/4/10114.png')...],\n",
              " 5: (#5421) [Path('training/5/0.png'),Path('training/5/100.png'),Path('training/5/10008.png'),Path('training/5/10015.png'),Path('training/5/10030.png'),Path('training/5/10035.png'),Path('training/5/10049.png'),Path('training/5/10051.png'),Path('training/5/10056.png'),Path('training/5/10062.png')...],\n",
              " 6: (#5918) [Path('training/6/10017.png'),Path('training/6/10032.png'),Path('training/6/10036.png'),Path('training/6/10037.png'),Path('training/6/10044.png'),Path('training/6/10053.png'),Path('training/6/10076.png'),Path('training/6/10089.png'),Path('training/6/10101.png'),Path('training/6/10108.png')...],\n",
              " 7: (#6265) [Path('training/7/10002.png'),Path('training/7/1001.png'),Path('training/7/10014.png'),Path('training/7/10019.png'),Path('training/7/10039.png'),Path('training/7/10046.png'),Path('training/7/10050.png'),Path('training/7/10063.png'),Path('training/7/10077.png'),Path('training/7/10086.png')...],\n",
              " 8: (#5851) [Path('training/8/10001.png'),Path('training/8/10012.png'),Path('training/8/10021.png'),Path('training/8/10041.png'),Path('training/8/10054.png'),Path('training/8/10057.png'),Path('training/8/10061.png'),Path('training/8/10064.png'),Path('training/8/10066.png'),Path('training/8/10079.png')...],\n",
              " 9: (#5949) [Path('training/9/10003.png'),Path('training/9/10004.png'),Path('training/9/10023.png'),Path('training/9/10028.png'),Path('training/9/10038.png'),Path('training/9/10043.png'),Path('training/9/10047.png'),Path('training/9/1005.png'),Path('training/9/10055.png'),Path('training/9/10059.png')...]}"
            ]
          },
          "metadata": {
            "tags": []
          },
          "execution_count": 8
        }
      ]
    },
    {
      "cell_type": "code",
      "metadata": {
        "colab": {
          "base_uri": "https://localhost:8080/",
          "height": 297
        },
        "id": "o3X4GbNJsiQQ",
        "outputId": "9e0031d3-28a0-4280-be0f-eb343f866e0a"
      },
      "source": [
        "for i in range(10):\n",
        "    img_paths = paths_dict[i][10]\n",
        "    img = Image.open(img_paths)\n",
        "    display(img)"
      ],
      "execution_count": 9,
      "outputs": [
        {
          "output_type": "display_data",
          "data": {
            "image/png": "[encoded data removed]",
            "text/plain": [
              "<PIL.PngImagePlugin.PngImageFile image mode=L size=28x28 at 0x7F4D59809590>"
            ]
          },
          "metadata": {
            "tags": []
          }
        },
        {
          "output_type": "display_data",
          "data": {
            "image/png": "[encoded data removed]",
            "text/plain": [
              "<PIL.PngImagePlugin.PngImageFile image mode=L size=28x28 at 0x7F4D59775A50>"
            ]
          },
          "metadata": {
            "tags": []
          }
        },
        {
          "output_type": "display_data",
          "data": {
            "image/png": "[encoded data removed]",
            "text/plain": [
              "<PIL.PngImagePlugin.PngImageFile image mode=L size=28x28 at 0x7F4D59775B90>"
            ]
          },
          "metadata": {
            "tags": []
          }
        },
        {
          "output_type": "display_data",
          "data": {
            "image/png": "[encoded data removed]",
            "text/plain": [
              "<PIL.PngImagePlugin.PngImageFile image mode=L size=28x28 at 0x7F4D59775CD0>"
            ]
          },
          "metadata": {
            "tags": []
          }
        },
        {
          "output_type": "display_data",
          "data": {
            "image/png": "[encoded data removed]",
            "text/plain": [
              "<PIL.PngImagePlugin.PngImageFile image mode=L size=28x28 at 0x7F4D59775E10>"
            ]
          },
          "metadata": {
            "tags": []
          }
        },
        {
          "output_type": "display_data",
          "data": {
            "image/png": "[encoded data removed]",
            "text/plain": [
              "<PIL.PngImagePlugin.PngImageFile image mode=L size=28x28 at 0x7F4D59775F50>"
            ]
          },
          "metadata": {
            "tags": []
          }
        },
        {
          "output_type": "display_data",
          "data": {
            "image/png": "[encoded data removed]",
            "text/plain": [
              "<PIL.PngImagePlugin.PngImageFile image mode=L size=28x28 at 0x7F4D59775ED0>"
            ]
          },
          "metadata": {
            "tags": []
          }
        },
        {
          "output_type": "display_data",
          "data": {
            "image/png": "[encoded data removed]",
            "text/plain": [
              "<PIL.PngImagePlugin.PngImageFile image mode=L size=28x28 at 0x7F4D59775F10>"
            ]
          },
          "metadata": {
            "tags": []
          }
        },
        {
          "output_type": "display_data",
          "data": {
            "image/png": "[encoded data removed]",
            "text/plain": [
              "<PIL.PngImagePlugin.PngImageFile image mode=L size=28x28 at 0x7F4D59775A90>"
            ]
          },
          "metadata": {
            "tags": []
          }
        },
        {
          "output_type": "display_data",
          "data": {
            "image/png": "[encoded data removed]",
            "text/plain": [
              "<PIL.PngImagePlugin.PngImageFile image mode=L size=28x28 at 0x7F4D5977C450>"
            ]
          },
          "metadata": {
            "tags": []
          }
        }
      ]
    },
    {
      "cell_type": "code",
      "metadata": {
        "colab": {
          "base_uri": "https://localhost:8080/"
        },
        "id": "x859l-NEslsA",
        "outputId": "b1f8ed7e-f665-481b-872f-5507e1791282"
      },
      "source": [
        "# Number of images for each class\n",
        "num_imgs_dict"
      ],
      "execution_count": 10,
      "outputs": [
        {
          "output_type": "execute_result",
          "data": {
            "text/plain": [
              "{0: 5923,\n",
              " 1: 6742,\n",
              " 2: 5958,\n",
              " 3: 6131,\n",
              " 4: 5842,\n",
              " 5: 5421,\n",
              " 6: 5918,\n",
              " 7: 6265,\n",
              " 8: 5851,\n",
              " 9: 5949}"
            ]
          },
          "metadata": {
            "tags": []
          },
          "execution_count": 10
        }
      ]
    },
    {
      "cell_type": "code",
      "metadata": {
        "colab": {
          "base_uri": "https://localhost:8080/",
          "height": 466
        },
        "id": "zZj7swXsuwd4",
        "outputId": "1677835b-e840-4955-f219-1b9557cf5af2"
      },
      "source": [
        "plt.bar(num_imgs_dict.keys(), num_imgs_dict.values(), label=\"Distribution\")\n",
        "plt.ylabel ('Number of Images')\n",
        "plt.xlabel ('Number')\n",
        "plt.xticks(list(num_imgs_dict.keys()))"
      ],
      "execution_count": 11,
      "outputs": [
        {
          "output_type": "execute_result",
          "data": {
            "text/plain": [
              "([<matplotlib.axis.XTick at 0x7f4d5a8e7510>,\n",
              "  <matplotlib.axis.XTick at 0x7f4d59722fd0>,\n",
              "  <matplotlib.axis.XTick at 0x7f4d59722b90>,\n",
              "  <matplotlib.axis.XTick at 0x7f4d596f2c90>,\n",
              "  <matplotlib.axis.XTick at 0x7f4d59705290>,\n",
              "  <matplotlib.axis.XTick at 0x7f4d59705750>,\n",
              "  <matplotlib.axis.XTick at 0x7f4d59705cd0>,\n",
              "  <matplotlib.axis.XTick at 0x7f4d5970d2d0>,\n",
              "  <matplotlib.axis.XTick at 0x7f4d5970d790>,\n",
              "  <matplotlib.axis.XTick at 0x7f4d5970dcd0>],\n",
              " <a list of 10 Text major ticklabel objects>)"
            ]
          },
          "metadata": {
            "tags": []
          },
          "execution_count": 11
        },
        {
          "output_type": "display_data",
          "data": {
            "image/png": "[encoded data removed]",
            "text/plain": [
              "<Figure size 432x288 with 1 Axes>"
            ]
          },
          "metadata": {
            "tags": [],
            "needs_background": "light"
          }
        }
      ]
    },
    {
      "cell_type": "code",
      "metadata": {
        "colab": {
          "base_uri": "https://localhost:8080/",
          "height": 145
        },
        "id": "I5xL12SvuWa3",
        "outputId": "62126e61-da28-44b3-a0b8-27fe8c9b3052"
      },
      "source": [
        "# Stochastic Gradient Descent (SGD)\n",
        "gv('''\n",
        "\"1. init\"->\"2. predict\"->\"3. loss\"->\"4. gradient\"->\"5. step\"->\"7. stop\"\n",
        "\"5. step\"->\"2. predict\"[label=\"6. repeat\"]\n",
        "''')"
      ],
      "execution_count": 12,
      "outputs": [
        {
          "output_type": "execute_result",
          "data": {
            "text/plain": [
              "<graphviz.files.Source at 0x7f4d59785350>"
            ],
            "image/svg+xml": "<?xml version=\"1.0\" encoding=\"UTF-8\" standalone=\"no\"?>\n<!DOCTYPE svg PUBLIC \"-//W3C//DTD SVG 1.1//EN\"\n \"http://www.w3.org/Graphics/SVG/1.1/DTD/svg11.dtd\">\n<!-- Generated by graphviz version 2.40.1 (20161225.0304)\n -->\n<!-- Title: G Pages: 1 -->\n<svg width=\"712pt\" height=\"78pt\"\n viewBox=\"0.00 0.00 711.56 78.00\" xmlns=\"http://www.w3.org/2000/svg\" xmlns:xlink=\"http://www.w3.org/1999/xlink\">\n<g id=\"graph0\" class=\"graph\" transform=\"scale(1 1) rotate(0) translate(4 74)\">\n<title>G</title>\n<polygon fill=\"#ffffff\" stroke=\"transparent\" points=\"-4,4 -4,-74 707.5582,-74 707.5582,4 -4,4\"/>\n<!-- 1. init -->\n<g id=\"node1\" class=\"node\">\n<title>1. init</title>\n<ellipse fill=\"none\" stroke=\"#000000\" cx=\"32.4971\" cy=\"-18\" rx=\"32.4942\" ry=\"18\"/>\n<text text-anchor=\"middle\" x=\"32.4971\" y=\"-14.3\" font-family=\"Times,serif\" font-size=\"14.00\" fill=\"#000000\">1. init</text>\n</g>\n<!-- 2. predict -->\n<g id=\"node2\" class=\"node\">\n<title>2. predict</title>\n<ellipse fill=\"none\" stroke=\"#000000\" cx=\"148.1401\" cy=\"-18\" rx=\"46.2923\" ry=\"18\"/>\n<text text-anchor=\"middle\" x=\"148.1401\" y=\"-14.3\" font-family=\"Times,serif\" font-size=\"14.00\" fill=\"#000000\">2. predict</text>\n</g>\n<!-- 1. init&#45;&gt;2. predict -->\n<g id=\"edge1\" class=\"edge\">\n<title>1. init&#45;&gt;2. predict</title>\n<path fill=\"none\" stroke=\"#000000\" d=\"M65.0179,-18C73.2694,-18 82.3772,-18 91.4479,-18\"/>\n<polygon fill=\"#000000\" stroke=\"#000000\" points=\"91.6257,-21.5001 101.6257,-18 91.6257,-14.5001 91.6257,-21.5001\"/>\n</g>\n<!-- 3. loss -->\n<g id=\"node3\" class=\"node\">\n<title>3. loss</title>\n<ellipse fill=\"none\" stroke=\"#000000\" cx=\"265.733\" cy=\"-52\" rx=\"34.394\" ry=\"18\"/>\n<text text-anchor=\"middle\" x=\"265.733\" y=\"-48.3\" font-family=\"Times,serif\" font-size=\"14.00\" fill=\"#000000\">3. loss</text>\n</g>\n<!-- 2. predict&#45;&gt;3. loss -->\n<g id=\"edge2\" class=\"edge\">\n<title>2. predict&#45;&gt;3. loss</title>\n<path fill=\"none\" stroke=\"#000000\" d=\"M185.3473,-28.7578C198.2159,-32.4786 212.6869,-36.6626 225.7676,-40.4447\"/>\n<polygon fill=\"#000000\" stroke=\"#000000\" points=\"224.8712,-43.8288 235.4499,-43.2442 226.8156,-37.1042 224.8712,-43.8288\"/>\n</g>\n<!-- 4. gradient -->\n<g id=\"node4\" class=\"node\">\n<title>4. gradient</title>\n<ellipse fill=\"none\" stroke=\"#000000\" cx=\"435.8754\" cy=\"-52\" rx=\"50.8918\" ry=\"18\"/>\n<text text-anchor=\"middle\" x=\"435.8754\" y=\"-48.3\" font-family=\"Times,serif\" font-size=\"14.00\" fill=\"#000000\">4. gradient</text>\n</g>\n<!-- 3. loss&#45;&gt;4. gradient -->\n<g id=\"edge3\" class=\"edge\">\n<title>3. loss&#45;&gt;4. gradient</title>\n<path fill=\"none\" stroke=\"#000000\" d=\"M300.5744,-52C321.9366,-52 349.8822,-52 374.8263,-52\"/>\n<polygon fill=\"#000000\" stroke=\"#000000\" points=\"374.9406,-55.5001 384.9406,-52 374.9405,-48.5001 374.9406,-55.5001\"/>\n</g>\n<!-- 5. step -->\n<g id=\"node5\" class=\"node\">\n<title>5. step</title>\n<ellipse fill=\"none\" stroke=\"#000000\" cx=\"558.6678\" cy=\"-18\" rx=\"35.194\" ry=\"18\"/>\n<text text-anchor=\"middle\" x=\"558.6678\" y=\"-14.3\" font-family=\"Times,serif\" font-size=\"14.00\" fill=\"#000000\">5. step</text>\n</g>\n<!-- 4. gradient&#45;&gt;5. step -->\n<g id=\"edge4\" class=\"edge\">\n<title>4. gradient&#45;&gt;5. step</title>\n<path fill=\"none\" stroke=\"#000000\" d=\"M476.0823,-40.8671C489.4591,-37.1632 504.3655,-33.0358 517.7924,-29.318\"/>\n<polygon fill=\"#000000\" stroke=\"#000000\" points=\"519.0184,-32.6103 527.7218,-26.5687 517.1504,-25.8641 519.0184,-32.6103\"/>\n</g>\n<!-- 5. step&#45;&gt;2. predict -->\n<g id=\"edge6\" class=\"edge\">\n<title>5. step&#45;&gt;2. predict</title>\n<path fill=\"none\" stroke=\"#000000\" d=\"M523.5577,-18C452.405,-18 290.668,-18 204.5509,-18\"/>\n<polygon fill=\"#000000\" stroke=\"#000000\" points=\"204.4349,-14.5001 194.4349,-18 204.4348,-21.5001 204.4349,-14.5001\"/>\n<text text-anchor=\"middle\" x=\"342.6799\" y=\"-21.8\" font-family=\"Times,serif\" font-size=\"14.00\" fill=\"#000000\">6. repeat</text>\n</g>\n<!-- 7. stop -->\n<g id=\"node6\" class=\"node\">\n<title>7. stop</title>\n<ellipse fill=\"none\" stroke=\"#000000\" cx=\"667.1615\" cy=\"-18\" rx=\"36.2938\" ry=\"18\"/>\n<text text-anchor=\"middle\" x=\"667.1615\" y=\"-14.3\" font-family=\"Times,serif\" font-size=\"14.00\" fill=\"#000000\">7. stop</text>\n</g>\n<!-- 5. step&#45;&gt;7. stop -->\n<g id=\"edge5\" class=\"edge\">\n<title>5. step&#45;&gt;7. stop</title>\n<path fill=\"none\" stroke=\"#000000\" d=\"M593.8926,-18C602.3423,-18 611.4969,-18 620.3794,-18\"/>\n<polygon fill=\"#000000\" stroke=\"#000000\" points=\"620.6231,-21.5001 630.6231,-18 620.623,-14.5001 620.6231,-21.5001\"/>\n</g>\n</g>\n</svg>\n"
          },
          "metadata": {
            "tags": []
          },
          "execution_count": 12
        }
      ]
    },
    {
      "cell_type": "code",
      "metadata": {
        "id": "5EyTEZRgwO7h"
      },
      "source": [
        "# Prepare datasets and dataloaders"
      ],
      "execution_count": null,
      "outputs": []
    },
    {
      "cell_type": "code",
      "metadata": {
        "colab": {
          "base_uri": "https://localhost:8080/"
        },
        "id": "I8i3-78Vxq24",
        "outputId": "d1c03161-bcad-4751-efb4-865633baf95d"
      },
      "source": [
        "paths_dict"
      ],
      "execution_count": 13,
      "outputs": [
        {
          "output_type": "execute_result",
          "data": {
            "text/plain": [
              "{0: (#5923) [Path('training/0/1.png'),Path('training/0/1000.png'),Path('training/0/10005.png'),Path('training/0/10010.png'),Path('training/0/10022.png'),Path('training/0/10025.png'),Path('training/0/10026.png'),Path('training/0/10045.png'),Path('training/0/10069.png'),Path('training/0/10071.png')...],\n",
              " 1: (#6742) [Path('training/1/10006.png'),Path('training/1/10007.png'),Path('training/1/1002.png'),Path('training/1/10020.png'),Path('training/1/10027.png'),Path('training/1/1003.png'),Path('training/1/10040.png'),Path('training/1/10048.png'),Path('training/1/10058.png'),Path('training/1/10067.png')...],\n",
              " 2: (#5958) [Path('training/2/10009.png'),Path('training/2/10016.png'),Path('training/2/10024.png'),Path('training/2/10029.png'),Path('training/2/10072.png'),Path('training/2/10073.png'),Path('training/2/10075.png'),Path('training/2/10078.png'),Path('training/2/10081.png'),Path('training/2/10082.png')...],\n",
              " 3: (#6131) [Path('training/3/10.png'),Path('training/3/10000.png'),Path('training/3/10011.png'),Path('training/3/10031.png'),Path('training/3/10034.png'),Path('training/3/10042.png'),Path('training/3/10052.png'),Path('training/3/1007.png'),Path('training/3/10074.png'),Path('training/3/10091.png')...],\n",
              " 4: (#5842) [Path('training/4/10013.png'),Path('training/4/10018.png'),Path('training/4/10033.png'),Path('training/4/1004.png'),Path('training/4/1006.png'),Path('training/4/10060.png'),Path('training/4/1008.png'),Path('training/4/10103.png'),Path('training/4/10104.png'),Path('training/4/10114.png')...],\n",
              " 5: (#5421) [Path('training/5/0.png'),Path('training/5/100.png'),Path('training/5/10008.png'),Path('training/5/10015.png'),Path('training/5/10030.png'),Path('training/5/10035.png'),Path('training/5/10049.png'),Path('training/5/10051.png'),Path('training/5/10056.png'),Path('training/5/10062.png')...],\n",
              " 6: (#5918) [Path('training/6/10017.png'),Path('training/6/10032.png'),Path('training/6/10036.png'),Path('training/6/10037.png'),Path('training/6/10044.png'),Path('training/6/10053.png'),Path('training/6/10076.png'),Path('training/6/10089.png'),Path('training/6/10101.png'),Path('training/6/10108.png')...],\n",
              " 7: (#6265) [Path('training/7/10002.png'),Path('training/7/1001.png'),Path('training/7/10014.png'),Path('training/7/10019.png'),Path('training/7/10039.png'),Path('training/7/10046.png'),Path('training/7/10050.png'),Path('training/7/10063.png'),Path('training/7/10077.png'),Path('training/7/10086.png')...],\n",
              " 8: (#5851) [Path('training/8/10001.png'),Path('training/8/10012.png'),Path('training/8/10021.png'),Path('training/8/10041.png'),Path('training/8/10054.png'),Path('training/8/10057.png'),Path('training/8/10061.png'),Path('training/8/10064.png'),Path('training/8/10066.png'),Path('training/8/10079.png')...],\n",
              " 9: (#5949) [Path('training/9/10003.png'),Path('training/9/10004.png'),Path('training/9/10023.png'),Path('training/9/10028.png'),Path('training/9/10038.png'),Path('training/9/10043.png'),Path('training/9/10047.png'),Path('training/9/1005.png'),Path('training/9/10055.png'),Path('training/9/10059.png')...]}"
            ]
          },
          "metadata": {
            "tags": []
          },
          "execution_count": 13
        }
      ]
    },
    {
      "cell_type": "code",
      "metadata": {
        "id": "h9fDwRYuxelJ"
      },
      "source": [
        "# Open images in each class , create tensor dict\n",
        "tensors_dict = {}\n",
        "\n",
        "for i in range(10):\n",
        "    tensors_dict[i] = [tensor(Image.open(o)) for o in paths_dict[i]]"
      ],
      "execution_count": 14,
      "outputs": []
    },
    {
      "cell_type": "code",
      "metadata": {
        "colab": {
          "base_uri": "https://localhost:8080/"
        },
        "id": "xzQ-TmGsyx2B",
        "outputId": "a9916a8b-5af3-4ef4-9820-5f5e68ca44b1"
      },
      "source": [
        "tensors_dict[0][0]"
      ],
      "execution_count": 15,
      "outputs": [
        {
          "output_type": "execute_result",
          "data": {
            "text/plain": [
              "tensor([[  0,   0,   0,   0,   0,   0,   0,   0,   0,   0,   0,   0,   0,   0,   0,   0,   0,   0,   0,   0,   0,   0,   0,   0,   0,   0,   0,   0],\n",
              "        [  0,   0,   0,   0,   0,   0,   0,   0,   0,   0,   0,   0,   0,   0,   0,   0,   0,   0,   0,   0,   0,   0,   0,   0,   0,   0,   0,   0],\n",
              "        [  0,   0,   0,   0,   0,   0,   0,   0,   0,   0,   0,   0,   0,   0,   0,   0,   0,   0,   0,   0,   0,   0,   0,   0,   0,   0,   0,   0],\n",
              "        [  0,   0,   0,   0,   0,   0,   0,   0,   0,   0,   0,   0,   0,   0,   0,   0,   0,   0,   0,   0,   0,   0,   0,   0,   0,   0,   0,   0],\n",
              "        [  0,   0,   0,   0,   0,   0,   0,   0,   0,   0,   0,   0,   0,   0,   0,  51, 159, 253, 159,  50,   0,   0,   0,   0,   0,   0,   0,   0],\n",
              "        [  0,   0,   0,   0,   0,   0,   0,   0,   0,   0,   0,   0,   0,   0,  48, 238, 252, 252, 252, 237,   0,   0,   0,   0,   0,   0,   0,   0],\n",
              "        [  0,   0,   0,   0,   0,   0,   0,   0,   0,   0,   0,   0,   0,  54, 227, 253, 252, 239, 233, 252,  57,   6,   0,   0,   0,   0,   0,   0],\n",
              "        [  0,   0,   0,   0,   0,   0,   0,   0,   0,   0,   0,  10,  60, 224, 252, 253, 252, 202,  84, 252, 253, 122,   0,   0,   0,   0,   0,   0],\n",
              "        [  0,   0,   0,   0,   0,   0,   0,   0,   0,   0,   0, 163, 252, 252, 252, 253, 252, 252,  96, 189, 253, 167,   0,   0,   0,   0,   0,   0],\n",
              "        [  0,   0,   0,   0,   0,   0,   0,   0,   0,   0,  51, 238, 253, 253, 190, 114, 253, 228,  47,  79, 255, 168,   0,   0,   0,   0,   0,   0],\n",
              "        [  0,   0,   0,   0,   0,   0,   0,   0,   0,  48, 238, 252, 252, 179,  12,  75, 121,  21,   0,   0, 253, 243,  50,   0,   0,   0,   0,   0],\n",
              "        [  0,   0,   0,   0,   0,   0,   0,   0,  38, 165, 253, 233, 208,  84,   0,   0,   0,   0,   0,   0, 253, 252, 165,   0,   0,   0,   0,   0],\n",
              "        [  0,   0,   0,   0,   0,   0,   0,   7, 178, 252, 240,  71,  19,  28,   0,   0,   0,   0,   0,   0, 253, 252, 195,   0,   0,   0,   0,   0],\n",
              "        [  0,   0,   0,   0,   0,   0,   0,  57, 252, 252,  63,   0,   0,   0,   0,   0,   0,   0,   0,   0, 253, 252, 195,   0,   0,   0,   0,   0],\n",
              "        [  0,   0,   0,   0,   0,   0,   0, 198, 253, 190,   0,   0,   0,   0,   0,   0,   0,   0,   0,   0, 255, 253, 196,   0,   0,   0,   0,   0],\n",
              "        [  0,   0,   0,   0,   0,   0,  76, 246, 252, 112,   0,   0,   0,   0,   0,   0,   0,   0,   0,   0, 253, 252, 148,   0,   0,   0,   0,   0],\n",
              "        [  0,   0,   0,   0,   0,   0,  85, 252, 230,  25,   0,   0,   0,   0,   0,   0,   0,   0,   7, 135, 253, 186,  12,   0,   0,   0,   0,   0],\n",
              "        [  0,   0,   0,   0,   0,   0,  85, 252, 223,   0,   0,   0,   0,   0,   0,   0,   0,   7, 131, 252, 225,  71,   0,   0,   0,   0,   0,   0],\n",
              "        [  0,   0,   0,   0,   0,   0,  85, 252, 145,   0,   0,   0,   0,   0,   0,   0,  48, 165, 252, 173,   0,   0,   0,   0,   0,   0,   0,   0],\n",
              "        [  0,   0,   0,   0,   0,   0,  86, 253, 225,   0,   0,   0,   0,   0,   0, 114, 238, 253, 162,   0,   0,   0,   0,   0,   0,   0,   0,   0],\n",
              "        [  0,   0,   0,   0,   0,   0,  85, 252, 249, 146,  48,  29,  85, 178, 225, 253, 223, 167,  56,   0,   0,   0,   0,   0,   0,   0,   0,   0],\n",
              "        [  0,   0,   0,   0,   0,   0,  85, 252, 252, 252, 229, 215, 252, 252, 252, 196, 130,   0,   0,   0,   0,   0,   0,   0,   0,   0,   0,   0],\n",
              "        [  0,   0,   0,   0,   0,   0,  28, 199, 252, 252, 253, 252, 252, 233, 145,   0,   0,   0,   0,   0,   0,   0,   0,   0,   0,   0,   0,   0],\n",
              "        [  0,   0,   0,   0,   0,   0,   0,  25, 128, 252, 253, 252, 141,  37,   0,   0,   0,   0,   0,   0,   0,   0,   0,   0,   0,   0,   0,   0],\n",
              "        [  0,   0,   0,   0,   0,   0,   0,   0,   0,   0,   0,   0,   0,   0,   0,   0,   0,   0,   0,   0,   0,   0,   0,   0,   0,   0,   0,   0],\n",
              "        [  0,   0,   0,   0,   0,   0,   0,   0,   0,   0,   0,   0,   0,   0,   0,   0,   0,   0,   0,   0,   0,   0,   0,   0,   0,   0,   0,   0],\n",
              "        [  0,   0,   0,   0,   0,   0,   0,   0,   0,   0,   0,   0,   0,   0,   0,   0,   0,   0,   0,   0,   0,   0,   0,   0,   0,   0,   0,   0],\n",
              "        [  0,   0,   0,   0,   0,   0,   0,   0,   0,   0,   0,   0,   0,   0,   0,   0,   0,   0,   0,   0,   0,   0,   0,   0,   0,   0,   0,   0]], dtype=torch.uint8)"
            ]
          },
          "metadata": {
            "tags": []
          },
          "execution_count": 15
        }
      ]
    },
    {
      "cell_type": "code",
      "metadata": {
        "colab": {
          "base_uri": "https://localhost:8080/",
          "height": 282
        },
        "id": "2dDQ6i5JzVLi",
        "outputId": "5954d642-36f0-4ccc-f2c1-edfe91dc5707"
      },
      "source": [
        "plt.imshow( tensors_dict[0][0].permute(1, 0))"
      ],
      "execution_count": 16,
      "outputs": [
        {
          "output_type": "execute_result",
          "data": {
            "text/plain": [
              "<matplotlib.image.AxesImage at 0x7f4d5a8f4210>"
            ]
          },
          "metadata": {
            "tags": []
          },
          "execution_count": 16
        },
        {
          "output_type": "display_data",
          "data": {
            "image/png": "[encoded data removed]",
            "text/plain": [
              "<Figure size 432x288 with 1 Axes>"
            ]
          },
          "metadata": {
            "tags": [],
            "needs_background": "light"
          }
        }
      ]
    },
    {
      "cell_type": "code",
      "metadata": {
        "colab": {
          "base_uri": "https://localhost:8080/",
          "height": 102
        },
        "id": "1byP8Tex1t3K",
        "outputId": "1573d897-7c2f-4aa3-b2df-dc58aed6acfa"
      },
      "source": [
        "show_image(tensors_dict[0][0])"
      ],
      "execution_count": 17,
      "outputs": [
        {
          "output_type": "execute_result",
          "data": {
            "text/plain": [
              "<matplotlib.axes._subplots.AxesSubplot at 0x7f4d57edbcd0>"
            ]
          },
          "metadata": {
            "tags": []
          },
          "execution_count": 17
        },
        {
          "output_type": "display_data",
          "data": {
            "image/png": "[encoded data removed]",
            "text/plain": [
              "<Figure size 72x72 with 1 Axes>"
            ]
          },
          "metadata": {
            "tags": [],
            "needs_background": "light"
          }
        }
      ]
    },
    {
      "cell_type": "code",
      "metadata": {
        "colab": {
          "base_uri": "https://localhost:8080/"
        },
        "id": "KmePQHaXI5yJ",
        "outputId": "6838f998-2c61-4860-d7fa-21c1567ec8b0"
      },
      "source": [
        "tensors_dict[0][0].shape"
      ],
      "execution_count": 18,
      "outputs": [
        {
          "output_type": "execute_result",
          "data": {
            "text/plain": [
              "torch.Size([28, 28])"
            ]
          },
          "metadata": {
            "tags": []
          },
          "execution_count": 18
        }
      ]
    },
    {
      "cell_type": "code",
      "metadata": {
        "id": "kh-pqezPw5yA"
      },
      "source": [
        "# Calculate the stacked tensor for each of the digit and store that tensor in a dictionary index by digit\n",
        "stacked_tensors_dict = {}\n",
        "\n",
        "for digit, img_tensor in tensors_dict.items():\n",
        "    stacked_tensors_dict[digit] = torch.stack(img_tensor).float()/255"
      ],
      "execution_count": 19,
      "outputs": []
    },
    {
      "cell_type": "code",
      "metadata": {
        "colab": {
          "base_uri": "https://localhost:8080/"
        },
        "id": "Z-FrrLD_I28N",
        "outputId": "b40a16d3-64f9-41a2-c0d3-307289b246ec"
      },
      "source": [
        "stacked_tensors_dict[0].shape"
      ],
      "execution_count": 20,
      "outputs": [
        {
          "output_type": "execute_result",
          "data": {
            "text/plain": [
              "torch.Size([5923, 28, 28])"
            ]
          },
          "metadata": {
            "tags": []
          },
          "execution_count": 20
        }
      ]
    },
    {
      "cell_type": "code",
      "metadata": {
        "id": "4Ow3frHrwsL4"
      },
      "source": [
        "train_x = torch.cat([stacked_tensors_dict[i] for i in range(0,10)]).view(-1, 28*28)"
      ],
      "execution_count": 21,
      "outputs": []
    },
    {
      "cell_type": "code",
      "metadata": {
        "colab": {
          "base_uri": "https://localhost:8080/"
        },
        "id": "f3oO8YnhwszX",
        "outputId": "5ec12569-ed53-42cd-df71-a78c50a29768"
      },
      "source": [
        "train_x.shape"
      ],
      "execution_count": 22,
      "outputs": [
        {
          "output_type": "execute_result",
          "data": {
            "text/plain": [
              "torch.Size([60000, 784])"
            ]
          },
          "metadata": {
            "tags": []
          },
          "execution_count": 22
        }
      ]
    },
    {
      "cell_type": "code",
      "metadata": {
        "colab": {
          "base_uri": "https://localhost:8080/"
        },
        "id": "iDeqhjXiXgdi",
        "outputId": "a9a5109a-fcee-41a8-ca34-11ef3235eebe"
      },
      "source": [
        "stacked_tensors_dict[0].shape"
      ],
      "execution_count": 23,
      "outputs": [
        {
          "output_type": "execute_result",
          "data": {
            "text/plain": [
              "torch.Size([5923, 28, 28])"
            ]
          },
          "metadata": {
            "tags": []
          },
          "execution_count": 23
        }
      ]
    },
    {
      "cell_type": "code",
      "metadata": {
        "colab": {
          "base_uri": "https://localhost:8080/"
        },
        "id": "4QrPOPZrXWLz",
        "outputId": "72353d10-652b-49dd-dd3a-5d40951397c8"
      },
      "source": [
        "stacked_tensors_dict[0].shape[0]"
      ],
      "execution_count": 24,
      "outputs": [
        {
          "output_type": "execute_result",
          "data": {
            "text/plain": [
              "5923"
            ]
          },
          "metadata": {
            "tags": []
          },
          "execution_count": 24
        }
      ]
    },
    {
      "cell_type": "code",
      "metadata": {
        "id": "AdFf_hSIXPZd"
      },
      "source": [
        "# Returns a list of 10 sublists, where each sublist consists of as many times digit as the number of image in the category\n",
        "l = [ [i] * stacked_tensors_dict[i].shape[0] for i in range(0,10) ]\n",
        "\n",
        "# check the the total number of labels is equal to the numer of images\n",
        "assert sum([len(sublist) for sublist in l]) == train_x.shape[0]"
      ],
      "execution_count": 25,
      "outputs": []
    },
    {
      "cell_type": "code",
      "metadata": {
        "id": "aslsBqE8YeUw"
      },
      "source": [
        "# Create a tensor based on the list of labels\n",
        "\n",
        "label_list = []\n",
        "\n",
        "for i in range(10):\n",
        "    label_list.extend(l[i])\n",
        "\n",
        "assert len(label_list) == train_x.shape[0]"
      ],
      "execution_count": 26,
      "outputs": []
    },
    {
      "cell_type": "code",
      "metadata": {
        "colab": {
          "base_uri": "https://localhost:8080/"
        },
        "id": "GuNOVgJxa8s5",
        "outputId": "819a4ee9-6e43-4d76-95df-cad5ecbe2b6b"
      },
      "source": [
        "train_y = torch.tensor(label_list).unsqueeze(1)\n",
        "train_x.shape, train_y.shape"
      ],
      "execution_count": 27,
      "outputs": [
        {
          "output_type": "execute_result",
          "data": {
            "text/plain": [
              "(torch.Size([60000, 784]), torch.Size([60000, 1]))"
            ]
          },
          "metadata": {
            "tags": []
          },
          "execution_count": 27
        }
      ]
    },
    {
      "cell_type": "code",
      "metadata": {
        "colab": {
          "base_uri": "https://localhost:8080/",
          "height": 102
        },
        "id": "53OY26SIf4ii",
        "outputId": "11e7b1b5-f459-4c48-f493-f9276a4247ca"
      },
      "source": [
        "show_image(train_x[5].view(-1, 28,28))"
      ],
      "execution_count": 28,
      "outputs": [
        {
          "output_type": "execute_result",
          "data": {
            "text/plain": [
              "<matplotlib.axes._subplots.AxesSubplot at 0x7f4d596161d0>"
            ]
          },
          "metadata": {
            "tags": []
          },
          "execution_count": 28
        },
        {
          "output_type": "display_data",
          "data": {
            "image/png": "[encoded data removed]",
            "text/plain": [
              "<Figure size 72x72 with 1 Axes>"
            ]
          },
          "metadata": {
            "tags": [],
            "needs_background": "light"
          }
        }
      ]
    },
    {
      "cell_type": "code",
      "metadata": {
        "colab": {
          "base_uri": "https://localhost:8080/"
        },
        "id": "aTsGhvu1dGLL",
        "outputId": "22bbc26c-6ac0-4433-c0e1-0162b7b7d27c"
      },
      "source": [
        "train_y[0]"
      ],
      "execution_count": 29,
      "outputs": [
        {
          "output_type": "execute_result",
          "data": {
            "text/plain": [
              "tensor([0])"
            ]
          },
          "metadata": {
            "tags": []
          },
          "execution_count": 29
        }
      ]
    },
    {
      "cell_type": "code",
      "metadata": {
        "id": "j1sgZfWif1uo"
      },
      "source": [
        "dset = list(zip(train_x, train_y))\n",
        "\n",
        "# Shuffle the dset so that digits are mixed\n",
        "shuffle(dset)"
      ],
      "execution_count": 30,
      "outputs": []
    },
    {
      "cell_type": "code",
      "metadata": {
        "id": "g2nQyCcXg6lX"
      },
      "source": [
        "x, y = dset[0]"
      ],
      "execution_count": 31,
      "outputs": []
    },
    {
      "cell_type": "code",
      "metadata": {
        "colab": {
          "base_uri": "https://localhost:8080/"
        },
        "id": "U7ejCGxGhgna",
        "outputId": "da329f2f-9bb4-4af6-c98e-25cf3db093b9"
      },
      "source": [
        "x.shape"
      ],
      "execution_count": 32,
      "outputs": [
        {
          "output_type": "execute_result",
          "data": {
            "text/plain": [
              "torch.Size([784])"
            ]
          },
          "metadata": {
            "tags": []
          },
          "execution_count": 32
        }
      ]
    },
    {
      "cell_type": "code",
      "metadata": {
        "colab": {
          "base_uri": "https://localhost:8080/"
        },
        "id": "SjDqRYNThhcY",
        "outputId": "2eb831ef-e531-452f-d30f-ca916ae01ba7"
      },
      "source": [
        "y.shape"
      ],
      "execution_count": 33,
      "outputs": [
        {
          "output_type": "execute_result",
          "data": {
            "text/plain": [
              "torch.Size([1])"
            ]
          },
          "metadata": {
            "tags": []
          },
          "execution_count": 33
        }
      ]
    },
    {
      "cell_type": "code",
      "metadata": {
        "colab": {
          "base_uri": "https://localhost:8080/"
        },
        "id": "qB1vzJNbsOXp",
        "outputId": "2004a297-485b-473a-a38e-da8f11b20f01"
      },
      "source": [
        "stacked_tensors_dict[0].shape"
      ],
      "execution_count": 34,
      "outputs": [
        {
          "output_type": "execute_result",
          "data": {
            "text/plain": [
              "torch.Size([5923, 28, 28])"
            ]
          },
          "metadata": {
            "tags": []
          },
          "execution_count": 34
        }
      ]
    },
    {
      "cell_type": "code",
      "metadata": {
        "id": "SQrV-pOChmKR",
        "colab": {
          "base_uri": "https://localhost:8080/"
        },
        "outputId": "0f210ad1-6eec-4974-9fd4-1f8eb29cfd7e"
      },
      "source": [
        "valid_tensors_dict = {}\n",
        "\n",
        "for digit, tnrs in stacked_tensors_dict.items():\n",
        "  \n",
        "    valid_tensors_dict[digit] = torch.stack([tensor(Image.open(o)) for o in (path/'testing'/f\"{digit}\").ls()])\n",
        "    valid_tensors_dict[digit] = valid_tensors_dict[digit].float()/255\n",
        "\n",
        "    print('shape for',digit, ':', valid_tensors_dict[digit].shape)"
      ],
      "execution_count": 35,
      "outputs": [
        {
          "output_type": "stream",
          "text": [
            "shape for 0 : torch.Size([980, 28, 28])\n",
            "shape for 1 : torch.Size([1135, 28, 28])\n",
            "shape for 2 : torch.Size([1032, 28, 28])\n",
            "shape for 3 : torch.Size([1010, 28, 28])\n",
            "shape for 4 : torch.Size([982, 28, 28])\n",
            "shape for 5 : torch.Size([892, 28, 28])\n",
            "shape for 6 : torch.Size([958, 28, 28])\n",
            "shape for 7 : torch.Size([1028, 28, 28])\n",
            "shape for 8 : torch.Size([974, 28, 28])\n",
            "shape for 9 : torch.Size([1009, 28, 28])\n"
          ],
          "name": "stdout"
        }
      ]
    },
    {
      "cell_type": "code",
      "metadata": {
        "colab": {
          "base_uri": "https://localhost:8080/"
        },
        "id": "txAt5SdSt2z6",
        "outputId": "2116a3dd-5bb6-4f63-b368-8be637e12a2e"
      },
      "source": [
        "valid_tensors_dict[0].shape"
      ],
      "execution_count": 36,
      "outputs": [
        {
          "output_type": "execute_result",
          "data": {
            "text/plain": [
              "torch.Size([980, 28, 28])"
            ]
          },
          "metadata": {
            "tags": []
          },
          "execution_count": 36
        }
      ]
    },
    {
      "cell_type": "code",
      "metadata": {
        "id": "xVo5KuxLs25H"
      },
      "source": [
        "valid_x = torch.cat([valid_tensors_dict[i] for i in range(0,10)]).view(-1, 28*28)"
      ],
      "execution_count": 37,
      "outputs": []
    },
    {
      "cell_type": "code",
      "metadata": {
        "id": "SlHArY4JtZce"
      },
      "source": [
        "# Returns a list of 10 sublists, where each sublist consists of a as many times digit as the number of image in the category\n",
        "l = [ [i] * valid_tensors_dict[i].shape[0] for i in range(0,10)]"
      ],
      "execution_count": 38,
      "outputs": []
    },
    {
      "cell_type": "code",
      "metadata": {
        "colab": {
          "base_uri": "https://localhost:8080/"
        },
        "id": "t3T9WcpxvxQf",
        "outputId": "a7a79c32-f5aa-4994-ba20-b68868b1d761"
      },
      "source": [
        "# check the the total number of labels is equal to the numer of images\n",
        "assert sum([len(sublist) for sublist in l]) == valid_x.shape[0] \n",
        "print(valid_x.shape)"
      ],
      "execution_count": 39,
      "outputs": [
        {
          "output_type": "stream",
          "text": [
            "torch.Size([10000, 784])\n"
          ],
          "name": "stdout"
        }
      ]
    },
    {
      "cell_type": "code",
      "metadata": {
        "colab": {
          "base_uri": "https://localhost:8080/"
        },
        "id": "VA5SsYmywHkv",
        "outputId": "1bb32770-10dd-46ed-9e15-7bc4c5214d80"
      },
      "source": [
        "# Create a tensor based on the list of labels\n",
        "\n",
        "label_list = []\n",
        "\n",
        "for i in range(10):\n",
        "    label_list.extend(l[i])\n",
        "assert len(label_list) == valid_x.shape[0]\n",
        "\n",
        "valid_y = torch.tensor(label_list).unsqueeze(1)\n",
        "print(valid_y.shape)\n",
        "\n",
        "valid_dset = list(zip(valid_x, valid_y))"
      ],
      "execution_count": 40,
      "outputs": [
        {
          "output_type": "stream",
          "text": [
            "torch.Size([10000, 1])\n"
          ],
          "name": "stdout"
        }
      ]
    },
    {
      "cell_type": "code",
      "metadata": {
        "id": "KtW0wW_a_LrM"
      },
      "source": [
        "dl = DataLoader(dset, batch_size=256)\n",
        "valid_dl = DataLoader(valid_dset, batch_size=5)"
      ],
      "execution_count": 46,
      "outputs": []
    },
    {
      "cell_type": "code",
      "metadata": {
        "colab": {
          "base_uri": "https://localhost:8080/"
        },
        "id": "tq4rX_G8wYhP",
        "outputId": "bdc6202b-ab9b-4a1e-8adb-fa3db751a896"
      },
      "source": [
        "def init_params(size, std=1.0): \n",
        "    return (torch.randn(size)*std).requires_grad_()\n",
        "\n",
        "weights = init_params((28*28, 10))\n",
        "bias = init_params(10)\n",
        "\n",
        "weights.shape, bias.shape"
      ],
      "execution_count": 42,
      "outputs": [
        {
          "output_type": "execute_result",
          "data": {
            "text/plain": [
              "(torch.Size([784, 10]), torch.Size([10]))"
            ]
          },
          "metadata": {
            "tags": []
          },
          "execution_count": 42
        }
      ]
    },
    {
      "cell_type": "code",
      "metadata": {
        "id": "YMgOEuUU3Bcw"
      },
      "source": [
        "def linear(xb):\n",
        "    outputs =  xb @ weights + bias\n",
        "    probs = F.log_softmax(outputs, dim=1)\n",
        "    return probs\n",
        "\n",
        "def evaluate_preds(xb):\n",
        "    probs = linear(xb)\n",
        "    return probs.argmax(dim=1).unsqueeze(dim=1)\n",
        "\n",
        "loss_fct = F.nll_loss\n",
        "\n",
        "def calc_grad(xb, yb, model):\n",
        "    preds = model(xb)\n",
        "    loss = loss_fct(preds, yb.squeeze())\n",
        "    loss.backward()\n",
        "\n",
        "def train_epoch(model, lr, params):\n",
        "    for xb, yb in dl:\n",
        "        calc_grad(xb, yb, model)\n",
        "\n",
        "        for p in params:\n",
        "            p.data -= p.grad * lr\n",
        "            p.grad.zero_()\n",
        "\n",
        "def batch_accuracy(xb, yb):\n",
        "    \"\"\"Determines how many of the predictions are actually correct\"\"\"\n",
        "    accuracy = torch.eq(xb, yb).sum() / xb.shape[0]\n",
        "    return accuracy\n",
        "\n",
        "def validate_epoch(model):\n",
        "    \"\"\"Collects the accuracy from each element in the dataloader and displays it\"\"\"\n",
        "    accs = [batch_accuracy(model(xb), yb) for xb, yb in valid_dl]\n",
        "    return round(torch.stack(accs).mean().item(), 4)\n"
      ],
      "execution_count": 44,
      "outputs": []
    },
    {
      "cell_type": "code",
      "metadata": {
        "colab": {
          "base_uri": "https://localhost:8080/"
        },
        "id": "t8aXRwyR91RR",
        "outputId": "c20ef3ac-9182-4cd0-f66c-80053bfab8d7"
      },
      "source": [
        "weights = init_params((28*28, 10))\n",
        "bias = init_params(10)\n",
        "\n",
        "params = weights, bias\n",
        "\n",
        "lr = 1\n",
        "\n",
        "train_epoch(linear, lr, params)\n",
        "\n",
        "validate_epoch(evaluate_preds)"
      ],
      "execution_count": 47,
      "outputs": [
        {
          "output_type": "execute_result",
          "data": {
            "text/plain": [
              "0.847"
            ]
          },
          "metadata": {
            "tags": []
          },
          "execution_count": 47
        }
      ]
    },
    {
      "cell_type": "code",
      "metadata": {
        "colab": {
          "base_uri": "https://localhost:8080/"
        },
        "id": "IhLRRn6g93zN",
        "outputId": "647860ef-96b5-4f06-e858-508d4aea4fbd"
      },
      "source": [
        "n_epochs = 20\n",
        "\n",
        "for i in range(n_epochs):\n",
        "    train_epoch(linear, lr, params)\n",
        "\n",
        "    if i%10 == 0:\n",
        "        print(f\"{i}:{validate_epoch(evaluate_preds):1.4f}\", end=' ')\n",
        "        \n",
        "print(validate_epoch(evaluate_preds))"
      ],
      "execution_count": 48,
      "outputs": [
        {
          "output_type": "stream",
          "text": [
            "0:0.8682 10:0.9022 0.9101\n"
          ],
          "name": "stdout"
        }
      ]
    },
    {
      "cell_type": "code",
      "metadata": {
        "colab": {
          "base_uri": "https://localhost:8080/",
          "height": 102
        },
        "id": "cqV39oeAAHAg",
        "outputId": "9ba1eee5-8393-4561-dd42-1a21684bb3cc"
      },
      "source": [
        "img = valid_tensors_dict[7][957]\n",
        "show_image(img)\n",
        "plt.show()\n",
        "\n",
        "evaluate_preds(img.view(28*28).unsqueeze(dim=0))"
      ],
      "execution_count": 50,
      "outputs": [
        {
          "output_type": "display_data",
          "data": {
            "image/png": "[encoded data removed]",
            "text/plain": [
              "<Figure size 72x72 with 1 Axes>"
            ]
          },
          "metadata": {
            "tags": [],
            "needs_background": "light"
          }
        },
        {
          "output_type": "execute_result",
          "data": {
            "text/plain": [
              "tensor([[7]])"
            ]
          },
          "metadata": {
            "tags": []
          },
          "execution_count": 50
        }
      ]
    },
    {
      "cell_type": "code",
      "metadata": {
        "id": "lsoFt32sAk-C"
      },
      "source": [
        "# ReLu and two layers"
      ],
      "execution_count": 51,
      "outputs": []
    },
    {
      "cell_type": "code",
      "metadata": {
        "colab": {
          "base_uri": "https://localhost:8080/"
        },
        "id": "WiAK8dF8ALv4",
        "outputId": "29d6e06c-3359-490f-d275-a1f84ed66e9e"
      },
      "source": [
        "def init_params(size, std=1.0): \n",
        "  return (torch.randn(size)*std).requires_grad_()\n",
        "\n",
        "w1 = init_params((28*28, 100))\n",
        "b1 = init_params(100)\n",
        "\n",
        "w2 = init_params((100, 10))\n",
        "b2 = init_params(10)\n",
        "\n",
        "w1.shape, b1.shape, w2.shape, b2.shape"
      ],
      "execution_count": 52,
      "outputs": [
        {
          "output_type": "execute_result",
          "data": {
            "text/plain": [
              "(torch.Size([784, 100]),\n",
              " torch.Size([100]),\n",
              " torch.Size([100, 10]),\n",
              " torch.Size([10]))"
            ]
          },
          "metadata": {
            "tags": []
          },
          "execution_count": 52
        }
      ]
    },
    {
      "cell_type": "code",
      "metadata": {
        "id": "NNTH5lTqDSkj"
      },
      "source": [
        "activ1 = nn.ReLU()\n",
        "\n",
        "def linear1(xb):\n",
        "    outputs =  xb @ w1 + b1\n",
        "    return activ1(outputs)\n",
        "\n",
        "def linear2(xb):\n",
        "    outputs =  xb @ w2 + b2\n",
        "    probs = F.log_softmax(outputs, dim=1)\n",
        "    return probs\n",
        "\n",
        "def model(xb):\n",
        "    xb = linear1(xb)\n",
        "    xb = linear2(xb)\n",
        "    return xb\n",
        "\n",
        "def classifier(xb):\n",
        "    xb = model(xb)\n",
        "    return xb.argmax(dim=1).unsqueeze(dim=1)\n",
        "\n",
        "loss_fct = F.nll_loss"
      ],
      "execution_count": 58,
      "outputs": []
    },
    {
      "cell_type": "code",
      "metadata": {
        "id": "fJpljLtIDyF9"
      },
      "source": [
        "def calc_grad(xb, yb, model):\n",
        "    preds = model(xb)\n",
        "    loss = loss_fct(preds, yb.squeeze())\n",
        "    # print(loss)\n",
        "    loss.backward()\n",
        "\n",
        "def train_epoch(model, lr, params):\n",
        "    for xb, yb in dl:\n",
        "        calc_grad(xb, yb, model)\n",
        "        for p in params:\n",
        "            p.data -= p.grad * lr\n",
        "            p.grad.zero_()\n",
        "\n",
        "#Determines how many of the predictions are actually correct \n",
        "def batch_accuracy(xb, yb):\n",
        "    accuracy = torch.eq(xb, yb).sum() / xb.shape[0]\n",
        "    return accuracy\n",
        "\n",
        "def validate_epoch(model):\n",
        "    accs = [batch_accuracy(model(xb), yb) for xb, yb in valid_dl]\n",
        "    return round(torch.stack(accs).mean().item(), 4)\n",
        "\n",
        "from math import log10\n",
        "\n",
        "def run_n_epochs(model, lr, params, n_epochs):\n",
        "    trigger = 10**(int(log10(n_epochs))-1)\n",
        "    cols = 10\n",
        "    starting_i = metric_results['epochs'][-1] + 1\n",
        "    for i in range(starting_i, starting_i + n_epochs):\n",
        "        train_epoch(model, lr, params)\n",
        "        if i%trigger == 0:\n",
        "            v = validate_epoch(classifier)\n",
        "\n",
        "            metric_results['epochs'].append(i)\n",
        "            metric_results['values'].append(v)\n",
        "            \n",
        "            end_str = '\\n' if i//trigger%cols == 0 else ' ' \n",
        "            print(f\"{i:3d}:{v:1.4f}\", end=end_str)\n",
        "    print(f\"\\nLast:{v:1.4f}\")\n",
        "    fig, ax = plt.subplots(1, 1, figsize=(12,4))\n",
        "    ax.scatter(metric_results['epochs'], metric_results['values'])\n",
        "    return metric_results"
      ],
      "execution_count": 59,
      "outputs": []
    },
    {
      "cell_type": "code",
      "metadata": {
        "colab": {
          "base_uri": "https://localhost:8080/"
        },
        "id": "DowIEbWfD8GV",
        "outputId": "09d83a89-ae40-4de7-83a4-a670ebab0609"
      },
      "source": [
        "shuffle(dset)\n",
        "dl = DataLoader(dset, batch_size=256)\n",
        "valid_dl = DataLoader(valid_dset, batch_size=5)\n",
        "\n",
        "w1 = init_params((28*28, 100))\n",
        "b1 = init_params(100)\n",
        "w2 = init_params((100, 10))\n",
        "b2 = init_params(10)\n",
        "\n",
        "lr = 1\n",
        "params = w1, b1, w2, b2\n",
        "\n",
        "metric_results = {}\n",
        "metric_results['epochs'] = [0]\n",
        "metric_results['values'] = [0]\n",
        "\n",
        "train_epoch(model, lr, params)\n",
        "validate_epoch(classifier)"
      ],
      "execution_count": 60,
      "outputs": [
        {
          "output_type": "execute_result",
          "data": {
            "text/plain": [
              "0.766"
            ]
          },
          "metadata": {
            "tags": []
          },
          "execution_count": 60
        }
      ]
    },
    {
      "cell_type": "code",
      "metadata": {
        "colab": {
          "base_uri": "https://localhost:8080/",
          "height": 352
        },
        "id": "UOt_gq8CD-7D",
        "outputId": "3f9084df-00d5-4096-c566-1425ff105613"
      },
      "source": [
        "metric_results = run_n_epochs(model, lr, params, 20)"
      ],
      "execution_count": 61,
      "outputs": [
        {
          "output_type": "stream",
          "text": [
            "  1:0.8292   2:0.8440   3:0.8612   4:0.8698   5:0.8713   6:0.8719   7:0.8779   8:0.8843   9:0.8902  10:0.8926\n",
            " 11:0.8963  12:0.9000  13:0.9032  14:0.9058  15:0.9085  16:0.9109  17:0.9143  18:0.9168  19:0.9221  20:0.9246\n",
            "\n",
            "Last:0.9246\n"
          ],
          "name": "stdout"
        },
        {
          "output_type": "display_data",
          "data": {
            "image/png": "[encoded data removed]",
            "text/plain": [
              "<Figure size 864x288 with 1 Axes>"
            ]
          },
          "metadata": {
            "tags": [],
            "needs_background": "light"
          }
        }
      ]
    },
    {
      "cell_type": "code",
      "metadata": {
        "colab": {
          "base_uri": "https://localhost:8080/",
          "height": 102
        },
        "id": "TY1q8DVWET4B",
        "outputId": "428cbd30-0352-4fdc-df6d-1c0dd67f2538"
      },
      "source": [
        "img = valid_tensors_dict[8][49]\n",
        "show_image(img)\n",
        "plt.show()\n",
        "classifier(img.view(28*28).unsqueeze(dim=0))"
      ],
      "execution_count": 62,
      "outputs": [
        {
          "output_type": "display_data",
          "data": {
            "image/png": "[encoded data removed]",
            "text/plain": [
              "<Figure size 72x72 with 1 Axes>"
            ]
          },
          "metadata": {
            "tags": [],
            "needs_background": "light"
          }
        },
        {
          "output_type": "execute_result",
          "data": {
            "text/plain": [
              "tensor([[8]])"
            ]
          },
          "metadata": {
            "tags": []
          },
          "execution_count": 62
        }
      ]
    },
    {
      "cell_type": "code",
      "metadata": {
        "id": "O_bjH15jEUpJ"
      },
      "source": [
        "# Improvement 2 model by introducing ReLu and three layers"
      ],
      "execution_count": 63,
      "outputs": []
    },
    {
      "cell_type": "code",
      "metadata": {
        "colab": {
          "base_uri": "https://localhost:8080/"
        },
        "id": "dkZnWN6TEeDn",
        "outputId": "78d30f16-7522-487f-b2e4-ad6c731c2aec"
      },
      "source": [
        "def init_params(size, std=1.0): \n",
        "    return (torch.randn(size)*std).requires_grad_()\n",
        "\n",
        "w1 = init_params((28*28, 250))\n",
        "b1 = init_params(250)\n",
        "\n",
        "w2 = init_params((250, 100))\n",
        "b2 = init_params(100)\n",
        "\n",
        "w3 = init_params((100, 10))\n",
        "b3 = init_params(10)\n",
        "\n",
        "w1.shape, b1.shape, w2.shape, b2.shape, w3.shape, b3.shape"
      ],
      "execution_count": 64,
      "outputs": [
        {
          "output_type": "execute_result",
          "data": {
            "text/plain": [
              "(torch.Size([784, 250]),\n",
              " torch.Size([250]),\n",
              " torch.Size([250, 100]),\n",
              " torch.Size([100]),\n",
              " torch.Size([100, 10]),\n",
              " torch.Size([10]))"
            ]
          },
          "metadata": {
            "tags": []
          },
          "execution_count": 64
        }
      ]
    },
    {
      "cell_type": "code",
      "metadata": {
        "id": "KEehkdubEgYP"
      },
      "source": [
        "activ1 = nn.ReLU()\n",
        "\n",
        "def linear1(xb):\n",
        "    outputs =  xb @ w1 + b1\n",
        "    return activ1(outputs)\n",
        "\n",
        "def linear2(xb):\n",
        "    outputs =  xb @ w2 + b2\n",
        "    return activ1(outputs)\n",
        "\n",
        "def linear3(xb):\n",
        "    \"\"\"https://pytorch.org/docs/stable/nn.functional.html#torch.nn.functional.log_softmax\"\"\"\n",
        "    outputs =  xb @ w3 + b3\n",
        "    probs = torch.log_softmax(outputs, dim=1)\n",
        "    return probs\n",
        "\n",
        "def model(xb):\n",
        "    xb = linear1(xb)\n",
        "    xb = linear2(xb)\n",
        "    xb = linear3(xb)\n",
        "    return xb\n",
        "\n",
        "def classifier(xb):\n",
        "    xb = model(xb)\n",
        "    return xb.argmax(dim=1).unsqueeze(dim=1)\n"
      ],
      "execution_count": 65,
      "outputs": []
    },
    {
      "cell_type": "code",
      "metadata": {
        "id": "MYiW0-9YElNp"
      },
      "source": [
        "loss_fct = F.nll_loss\n",
        "\n",
        "def calc_grad(xb, yb, model):\n",
        "    preds = model(xb)\n",
        "    loss = loss_fct(preds, yb.squeeze())\n",
        "    # print(loss)\n",
        "    loss.backward()\n",
        "\n",
        "def train_epoch(model, lr, params):\n",
        "    for xb, yb in dl:\n",
        "        calc_grad(xb, yb, model)\n",
        "        for p in params:\n",
        "            p.data -= p.grad * lr\n",
        "            p.grad.zero_()\n",
        "\n",
        "def batch_accuracy(xb, yb):\n",
        "    accuracy = torch.eq(xb, yb).sum() / xb.shape[0]\n",
        "    return accuracy\n",
        "\n",
        "def validate_epoch(model):\n",
        "    accs = [batch_accuracy(model(xb), yb) for xb, yb in valid_dl]\n",
        "    return round(torch.stack(accs).mean().item(), 4)"
      ],
      "execution_count": 66,
      "outputs": []
    },
    {
      "cell_type": "code",
      "metadata": {
        "id": "UrXu8N_hEuTW"
      },
      "source": [
        "from math import log10\n",
        "\n",
        "def run_n_epochs(model, lr, params, n_epochs):\n",
        "    trigger = 10**(int(log10(n_epochs))-1)\n",
        "    cols = 10\n",
        "    starting_i = metric_results['epochs'][-1] + 1\n",
        "    for i in range(starting_i, starting_i + n_epochs):\n",
        "        train_epoch(model, lr, params)\n",
        "        if i%trigger == 0:\n",
        "            v = validate_epoch(classifier)\n",
        "\n",
        "            metric_results['epochs'].append(i)\n",
        "            metric_results['values'].append(v)\n",
        "            \n",
        "            end_str = '\\n' if i//trigger%cols == 0 else ' ' \n",
        "            print(f\"{i:3d}:{v:1.4f}\", end=end_str)\n",
        "    print(f\"\\nLast:{v:1.4f}\")\n",
        "    fig, ax = plt.subplots(1, 1, figsize=(12,4))\n",
        "    ax.scatter(metric_results['epochs'], metric_results['values'])\n",
        "    return metric_results"
      ],
      "execution_count": 67,
      "outputs": []
    },
    {
      "cell_type": "code",
      "metadata": {
        "colab": {
          "base_uri": "https://localhost:8080/"
        },
        "id": "Ky_9FnMmEw4m",
        "outputId": "19249e91-763a-46b9-b73e-d4e993b1b95e"
      },
      "source": [
        "shuffle(dset)\n",
        "dl = DataLoader(dset, batch_size=256)\n",
        "valid_dl = DataLoader(valid_dset, batch_size=5)\n",
        "\n",
        "w1 = init_params((28*28, 250))\n",
        "b1 = init_params(250)\n",
        "w2 = init_params((250, 100))\n",
        "b2 = init_params(100)\n",
        "w3 = init_params((100, 10))\n",
        "b3 = init_params(10)\n",
        "\n",
        "lr = 1\n",
        "params = w1, b1, w2, b2\n",
        "\n",
        "metric_results = {}\n",
        "metric_results['epochs'] = [0]\n",
        "metric_results['values'] = [0]\n",
        "\n",
        "train_epoch(model, lr, params)\n",
        "validate_epoch(classifier)"
      ],
      "execution_count": 68,
      "outputs": [
        {
          "output_type": "execute_result",
          "data": {
            "text/plain": [
              "0.1438"
            ]
          },
          "metadata": {
            "tags": []
          },
          "execution_count": 68
        }
      ]
    },
    {
      "cell_type": "code",
      "metadata": {
        "colab": {
          "base_uri": "https://localhost:8080/",
          "height": 352
        },
        "id": "drYppsjMEzPm",
        "outputId": "bd2683fd-5a60-40b6-b51e-3d9dad86637b"
      },
      "source": [
        "metric_results = run_n_epochs(model, lr, params, 20)\n"
      ],
      "execution_count": 69,
      "outputs": [
        {
          "output_type": "stream",
          "text": [
            "  1:0.1804   2:0.2528   3:0.2394   4:0.2987   5:0.3327   6:0.3349   7:0.3250   8:0.3445   9:0.3394  10:0.3477\n",
            " 11:0.3347  12:0.3771  13:0.4138  14:0.4160  15:0.4772  16:0.4813  17:0.5302  18:0.5277  19:0.5254  20:0.5260\n",
            "\n",
            "Last:0.5260\n"
          ],
          "name": "stdout"
        },
        {
          "output_type": "display_data",
          "data": {
            "image/png": "[encoded data removed]",
            "text/plain": [
              "<Figure size 864x288 with 1 Axes>"
            ]
          },
          "metadata": {
            "tags": [],
            "needs_background": "light"
          }
        }
      ]
    },
    {
      "cell_type": "code",
      "metadata": {
        "id": "QUQpRBtZE0mG"
      },
      "source": [
        ""
      ],
      "execution_count": null,
      "outputs": []
    }
  ]
}