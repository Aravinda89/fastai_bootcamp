{
  "nbformat": 4,
  "nbformat_minor": 0,
  "metadata": {
    "colab": {
      "name": "BC2_1_MNIST_scratch.ipynb",
      "provenance": [],
      "collapsed_sections": [],
      "authorship_tag": "ABX9TyOPBOaoyTZLnbO+xfPh3T9c",
      "include_colab_link": true
    },
    "kernelspec": {
      "name": "python3",
      "display_name": "Python 3"
    },
    "language_info": {
      "name": "python"
    }
  },
  "cells": [
    {
      "cell_type": "markdown",
      "metadata": {
        "id": "view-in-github",
        "colab_type": "text"
      },
      "source": [
        "<a href=\"https://colab.research.google.com/github/Aravinda89/fastai_bootcamp/blob/main/BC2_1_MNIST_scratch.ipynb\" target=\"_parent\"><img src=\"https://colab.research.google.com/assets/colab-badge.svg\" alt=\"Open In Colab\"/></a>"
      ]
    },
    {
      "cell_type": "code",
      "metadata": {
        "colab": {
          "base_uri": "https://localhost:8080/"
        },
        "id": "Rtd5vUKApYTO",
        "outputId": "7593e6d5-7c36-49e1-eaa5-29ce7b26f11b"
      },
      "source": [
        "!pip install -Uqq fastbook\n",
        "import fastbook\n",
        "fastbook.setup_book()"
      ],
      "execution_count": 1,
      "outputs": [
        {
          "output_type": "stream",
          "text": [
            "\u001b[K     |████████████████████████████████| 727kB 7.3MB/s \n",
            "\u001b[K     |████████████████████████████████| 51kB 6.5MB/s \n",
            "\u001b[K     |████████████████████████████████| 204kB 14.5MB/s \n",
            "\u001b[K     |████████████████████████████████| 1.2MB 23.5MB/s \n",
            "\u001b[K     |████████████████████████████████| 61kB 6.8MB/s \n",
            "\u001b[K     |████████████████████████████████| 51kB 5.7MB/s \n",
            "\u001b[?25hMounted at /content/gdrive\n"
          ],
          "name": "stdout"
        }
      ]
    },
    {
      "cell_type": "code",
      "metadata": {
        "id": "sKQw9k2TqBDb"
      },
      "source": [
        "from fastai.vision.all import *\n",
        "from fastbook import *\n",
        "import matplotlib.pyplot as plt\n",
        "import numpy as np\n",
        "from random import shuffle\n",
        "\n",
        "matplotlib.rc('image', cmap='Greys')"
      ],
      "execution_count": 2,
      "outputs": []
    },
    {
      "cell_type": "code",
      "metadata": {
        "id": "3vtpH9wGqMnY",
        "colab": {
          "base_uri": "https://localhost:8080/",
          "height": 17
        },
        "outputId": "eb095cd3-2673-4116-a7a6-1fa4ec75c92d"
      },
      "source": [
        "#Load full MNIST dataset\n",
        "\n",
        "path = untar_data(URLs.MNIST)    # Full dataset (0s to 9s)\n",
        "Path.BASE_PATH = path"
      ],
      "execution_count": 3,
      "outputs": [
        {
          "output_type": "display_data",
          "data": {
            "text/html": [
              ""
            ],
            "text/plain": [
              "<IPython.core.display.HTML object>"
            ]
          },
          "metadata": {
            "tags": []
          }
        }
      ]
    },
    {
      "cell_type": "code",
      "metadata": {
        "colab": {
          "base_uri": "https://localhost:8080/"
        },
        "id": "qUJit640qp8P",
        "outputId": "32ab8fc4-8f83-4477-8730-6291d4543434"
      },
      "source": [
        "path.ls()"
      ],
      "execution_count": 4,
      "outputs": [
        {
          "output_type": "execute_result",
          "data": {
            "text/plain": [
              "(#2) [Path('testing'),Path('training')]"
            ]
          },
          "metadata": {
            "tags": []
          },
          "execution_count": 4
        }
      ]
    },
    {
      "cell_type": "code",
      "metadata": {
        "colab": {
          "base_uri": "https://localhost:8080/"
        },
        "id": "72_-PfYeq3_R",
        "outputId": "4ddffa14-7e74-4bfb-aa21-674c0177e2cd"
      },
      "source": [
        "(path/'training').ls()"
      ],
      "execution_count": 5,
      "outputs": [
        {
          "output_type": "execute_result",
          "data": {
            "text/plain": [
              "(#10) [Path('training/4'),Path('training/8'),Path('training/5'),Path('training/0'),Path('training/9'),Path('training/3'),Path('training/6'),Path('training/1'),Path('training/2'),Path('training/7')]"
            ]
          },
          "metadata": {
            "tags": []
          },
          "execution_count": 5
        }
      ]
    },
    {
      "cell_type": "code",
      "metadata": {
        "colab": {
          "base_uri": "https://localhost:8080/"
        },
        "id": "YC9jkOtMrJuJ",
        "outputId": "6d907373-ddaa-42c2-e8a9-bc2618a69212"
      },
      "source": [
        "len((path/'training/5').ls())"
      ],
      "execution_count": 6,
      "outputs": [
        {
          "output_type": "execute_result",
          "data": {
            "text/plain": [
              "5421"
            ]
          },
          "metadata": {
            "tags": []
          },
          "execution_count": 6
        }
      ]
    },
    {
      "cell_type": "code",
      "metadata": {
        "colab": {
          "base_uri": "https://localhost:8080/"
        },
        "id": "6ejsNAO7q6tH",
        "outputId": "4d51a01f-d7f7-48ab-aa40-1c39b399373f"
      },
      "source": [
        "paths_dict = {}         # Create an empty dictionary to hold the paths list for each digit\n",
        "num_imgs_dict = {}        # Number of images for each class\n",
        "\n",
        "for i in range(10):\n",
        "    paths_dict[i] = (path/'training'/f\"{i}\").ls().sorted()   # add the list of path for digit i to the dict\n",
        "    num_imgs_dict[i] = len((path/'training'/f\"{i}\").ls())   # Get number of images for each class\n",
        "\n",
        "paths_dict"
      ],
      "execution_count": 7,
      "outputs": [
        {
          "output_type": "execute_result",
          "data": {
            "text/plain": [
              "{0: (#5923) [Path('training/0/1.png'),Path('training/0/1000.png'),Path('training/0/10005.png'),Path('training/0/10010.png'),Path('training/0/10022.png'),Path('training/0/10025.png'),Path('training/0/10026.png'),Path('training/0/10045.png'),Path('training/0/10069.png'),Path('training/0/10071.png')...],\n",
              " 1: (#6742) [Path('training/1/10006.png'),Path('training/1/10007.png'),Path('training/1/1002.png'),Path('training/1/10020.png'),Path('training/1/10027.png'),Path('training/1/1003.png'),Path('training/1/10040.png'),Path('training/1/10048.png'),Path('training/1/10058.png'),Path('training/1/10067.png')...],\n",
              " 2: (#5958) [Path('training/2/10009.png'),Path('training/2/10016.png'),Path('training/2/10024.png'),Path('training/2/10029.png'),Path('training/2/10072.png'),Path('training/2/10073.png'),Path('training/2/10075.png'),Path('training/2/10078.png'),Path('training/2/10081.png'),Path('training/2/10082.png')...],\n",
              " 3: (#6131) [Path('training/3/10.png'),Path('training/3/10000.png'),Path('training/3/10011.png'),Path('training/3/10031.png'),Path('training/3/10034.png'),Path('training/3/10042.png'),Path('training/3/10052.png'),Path('training/3/1007.png'),Path('training/3/10074.png'),Path('training/3/10091.png')...],\n",
              " 4: (#5842) [Path('training/4/10013.png'),Path('training/4/10018.png'),Path('training/4/10033.png'),Path('training/4/1004.png'),Path('training/4/1006.png'),Path('training/4/10060.png'),Path('training/4/1008.png'),Path('training/4/10103.png'),Path('training/4/10104.png'),Path('training/4/10114.png')...],\n",
              " 5: (#5421) [Path('training/5/0.png'),Path('training/5/100.png'),Path('training/5/10008.png'),Path('training/5/10015.png'),Path('training/5/10030.png'),Path('training/5/10035.png'),Path('training/5/10049.png'),Path('training/5/10051.png'),Path('training/5/10056.png'),Path('training/5/10062.png')...],\n",
              " 6: (#5918) [Path('training/6/10017.png'),Path('training/6/10032.png'),Path('training/6/10036.png'),Path('training/6/10037.png'),Path('training/6/10044.png'),Path('training/6/10053.png'),Path('training/6/10076.png'),Path('training/6/10089.png'),Path('training/6/10101.png'),Path('training/6/10108.png')...],\n",
              " 7: (#6265) [Path('training/7/10002.png'),Path('training/7/1001.png'),Path('training/7/10014.png'),Path('training/7/10019.png'),Path('training/7/10039.png'),Path('training/7/10046.png'),Path('training/7/10050.png'),Path('training/7/10063.png'),Path('training/7/10077.png'),Path('training/7/10086.png')...],\n",
              " 8: (#5851) [Path('training/8/10001.png'),Path('training/8/10012.png'),Path('training/8/10021.png'),Path('training/8/10041.png'),Path('training/8/10054.png'),Path('training/8/10057.png'),Path('training/8/10061.png'),Path('training/8/10064.png'),Path('training/8/10066.png'),Path('training/8/10079.png')...],\n",
              " 9: (#5949) [Path('training/9/10003.png'),Path('training/9/10004.png'),Path('training/9/10023.png'),Path('training/9/10028.png'),Path('training/9/10038.png'),Path('training/9/10043.png'),Path('training/9/10047.png'),Path('training/9/1005.png'),Path('training/9/10055.png'),Path('training/9/10059.png')...]}"
            ]
          },
          "metadata": {
            "tags": []
          },
          "execution_count": 7
        }
      ]
    },
    {
      "cell_type": "code",
      "metadata": {
        "colab": {
          "base_uri": "https://localhost:8080/",
          "height": 297
        },
        "id": "o3X4GbNJsiQQ",
        "outputId": "e5bba140-9a9e-4325-8b66-e253d84edab0"
      },
      "source": [
        "for i in range(10):\n",
        "    img_paths = paths_dict[i][10]\n",
        "    img = Image.open(img_paths)\n",
        "    display(img)"
      ],
      "execution_count": 8,
      "outputs": [
        {
          "output_type": "display_data",
          "data": {
            "image/png": "[encoded data removed]",
            "text/plain": [
              "<PIL.PngImagePlugin.PngImageFile image mode=L size=28x28 at 0x7FA078803210>"
            ]
          },
          "metadata": {
            "tags": []
          }
        },
        {
          "output_type": "display_data",
          "data": {
            "image/png": "[encoded data removed]",
            "text/plain": [
              "<PIL.PngImagePlugin.PngImageFile image mode=L size=28x28 at 0x7FA07876D950>"
            ]
          },
          "metadata": {
            "tags": []
          }
        },
        {
          "output_type": "display_data",
          "data": {
            "image/png": "[encoded data removed]",
            "text/plain": [
              "<PIL.PngImagePlugin.PngImageFile image mode=L size=28x28 at 0x7FA07876DB90>"
            ]
          },
          "metadata": {
            "tags": []
          }
        },
        {
          "output_type": "display_data",
          "data": {
            "image/png": "[encoded data removed]",
            "text/plain": [
              "<PIL.PngImagePlugin.PngImageFile image mode=L size=28x28 at 0x7FA07876DCD0>"
            ]
          },
          "metadata": {
            "tags": []
          }
        },
        {
          "output_type": "display_data",
          "data": {
            "image/png": "[encoded data removed]",
            "text/plain": [
              "<PIL.PngImagePlugin.PngImageFile image mode=L size=28x28 at 0x7FA0788031D0>"
            ]
          },
          "metadata": {
            "tags": []
          }
        },
        {
          "output_type": "display_data",
          "data": {
            "image/png": "[encoded data removed]",
            "text/plain": [
              "<PIL.PngImagePlugin.PngImageFile image mode=L size=28x28 at 0x7FA078803390>"
            ]
          },
          "metadata": {
            "tags": []
          }
        },
        {
          "output_type": "display_data",
          "data": {
            "image/png": "[encoded data removed]",
            "text/plain": [
              "<PIL.PngImagePlugin.PngImageFile image mode=L size=28x28 at 0x7FA07876DFD0>"
            ]
          },
          "metadata": {
            "tags": []
          }
        },
        {
          "output_type": "display_data",
          "data": {
            "image/png": "[encoded data removed]",
            "text/plain": [
              "<PIL.PngImagePlugin.PngImageFile image mode=L size=28x28 at 0x7FA07876DE90>"
            ]
          },
          "metadata": {
            "tags": []
          }
        },
        {
          "output_type": "display_data",
          "data": {
            "image/png": "[encoded data removed]",
            "text/plain": [
              "<PIL.PngImagePlugin.PngImageFile image mode=L size=28x28 at 0x7FA078770250>"
            ]
          },
          "metadata": {
            "tags": []
          }
        },
        {
          "output_type": "display_data",
          "data": {
            "image/png": "[encoded data removed]",
            "text/plain": [
              "<PIL.PngImagePlugin.PngImageFile image mode=L size=28x28 at 0x7FA0787703D0>"
            ]
          },
          "metadata": {
            "tags": []
          }
        }
      ]
    },
    {
      "cell_type": "code",
      "metadata": {
        "colab": {
          "base_uri": "https://localhost:8080/"
        },
        "id": "x859l-NEslsA",
        "outputId": "7f34f318-c8b5-4879-88d1-5c4be8e71209"
      },
      "source": [
        "# Number of images for each class\n",
        "num_imgs_dict"
      ],
      "execution_count": 9,
      "outputs": [
        {
          "output_type": "execute_result",
          "data": {
            "text/plain": [
              "{0: 5923,\n",
              " 1: 6742,\n",
              " 2: 5958,\n",
              " 3: 6131,\n",
              " 4: 5842,\n",
              " 5: 5421,\n",
              " 6: 5918,\n",
              " 7: 6265,\n",
              " 8: 5851,\n",
              " 9: 5949}"
            ]
          },
          "metadata": {
            "tags": []
          },
          "execution_count": 9
        }
      ]
    },
    {
      "cell_type": "code",
      "metadata": {
        "colab": {
          "base_uri": "https://localhost:8080/",
          "height": 468
        },
        "id": "zZj7swXsuwd4",
        "outputId": "d218b083-a94e-444b-fc5d-f3c746262383"
      },
      "source": [
        "plt.bar(num_imgs_dict.keys(), num_imgs_dict.values(), label=\"Distribution\")\n",
        "plt.ylabel ('Number of Images')\n",
        "plt.xlabel ('Number')\n",
        "plt.xticks(list(num_imgs_dict.keys()))"
      ],
      "execution_count": 10,
      "outputs": [
        {
          "output_type": "execute_result",
          "data": {
            "text/plain": [
              "([<matplotlib.axis.XTick at 0x7fa07878ee50>,\n",
              "  <matplotlib.axis.XTick at 0x7fa07878ee10>,\n",
              "  <matplotlib.axis.XTick at 0x7fa07878e9d0>,\n",
              "  <matplotlib.axis.XTick at 0x7fa0786e3ad0>,\n",
              "  <matplotlib.axis.XTick at 0x7fa0786e3d10>,\n",
              "  <matplotlib.axis.XTick at 0x7fa0786f85d0>,\n",
              "  <matplotlib.axis.XTick at 0x7fa0786f8b50>,\n",
              "  <matplotlib.axis.XTick at 0x7fa0786f8d90>,\n",
              "  <matplotlib.axis.XTick at 0x7fa0786f8690>,\n",
              "  <matplotlib.axis.XTick at 0x7fa0786e3b50>],\n",
              " <a list of 10 Text major ticklabel objects>)"
            ]
          },
          "metadata": {
            "tags": []
          },
          "execution_count": 10
        },
        {
          "output_type": "display_data",
          "data": {
            "image/png": "[encoded data removed]",
            "text/plain": [
              "<Figure size 432x288 with 1 Axes>"
            ]
          },
          "metadata": {
            "tags": [],
            "needs_background": "light"
          }
        }
      ]
    },
    {
      "cell_type": "code",
      "metadata": {
        "colab": {
          "base_uri": "https://localhost:8080/",
          "height": 145
        },
        "id": "I5xL12SvuWa3",
        "outputId": "1ae17e38-1535-4c16-c946-0f5e156b8461"
      },
      "source": [
        "# Stochastic Gradient Descent (SGD)\n",
        "gv('''\n",
        "\"1. init\"->\"2. predict\"->\"3. loss\"->\"4. gradient\"->\"5. step\"->\"7. stop\"\n",
        "\"5. step\"->\"2. predict\"[label=\"6. repeat\"]\n",
        "''')"
      ],
      "execution_count": 11,
      "outputs": [
        {
          "output_type": "execute_result",
          "data": {
            "text/plain": [
              "<graphviz.files.Source at 0x7fa078700590>"
            ],
            "image/svg+xml": "<?xml version=\"1.0\" encoding=\"UTF-8\" standalone=\"no\"?>\n<!DOCTYPE svg PUBLIC \"-//W3C//DTD SVG 1.1//EN\"\n \"http://www.w3.org/Graphics/SVG/1.1/DTD/svg11.dtd\">\n<!-- Generated by graphviz version 2.40.1 (20161225.0304)\n -->\n<!-- Title: G Pages: 1 -->\n<svg width=\"712pt\" height=\"78pt\"\n viewBox=\"0.00 0.00 711.56 78.00\" xmlns=\"http://www.w3.org/2000/svg\" xmlns:xlink=\"http://www.w3.org/1999/xlink\">\n<g id=\"graph0\" class=\"graph\" transform=\"scale(1 1) rotate(0) translate(4 74)\">\n<title>G</title>\n<polygon fill=\"#ffffff\" stroke=\"transparent\" points=\"-4,4 -4,-74 707.5582,-74 707.5582,4 -4,4\"/>\n<!-- 1. init -->\n<g id=\"node1\" class=\"node\">\n<title>1. init</title>\n<ellipse fill=\"none\" stroke=\"#000000\" cx=\"32.4971\" cy=\"-18\" rx=\"32.4942\" ry=\"18\"/>\n<text text-anchor=\"middle\" x=\"32.4971\" y=\"-14.3\" font-family=\"Times,serif\" font-size=\"14.00\" fill=\"#000000\">1. init</text>\n</g>\n<!-- 2. predict -->\n<g id=\"node2\" class=\"node\">\n<title>2. predict</title>\n<ellipse fill=\"none\" stroke=\"#000000\" cx=\"148.1401\" cy=\"-18\" rx=\"46.2923\" ry=\"18\"/>\n<text text-anchor=\"middle\" x=\"148.1401\" y=\"-14.3\" font-family=\"Times,serif\" font-size=\"14.00\" fill=\"#000000\">2. predict</text>\n</g>\n<!-- 1. init&#45;&gt;2. predict -->\n<g id=\"edge1\" class=\"edge\">\n<title>1. init&#45;&gt;2. predict</title>\n<path fill=\"none\" stroke=\"#000000\" d=\"M65.0179,-18C73.2694,-18 82.3772,-18 91.4479,-18\"/>\n<polygon fill=\"#000000\" stroke=\"#000000\" points=\"91.6257,-21.5001 101.6257,-18 91.6257,-14.5001 91.6257,-21.5001\"/>\n</g>\n<!-- 3. loss -->\n<g id=\"node3\" class=\"node\">\n<title>3. loss</title>\n<ellipse fill=\"none\" stroke=\"#000000\" cx=\"265.733\" cy=\"-52\" rx=\"34.394\" ry=\"18\"/>\n<text text-anchor=\"middle\" x=\"265.733\" y=\"-48.3\" font-family=\"Times,serif\" font-size=\"14.00\" fill=\"#000000\">3. loss</text>\n</g>\n<!-- 2. predict&#45;&gt;3. loss -->\n<g id=\"edge2\" class=\"edge\">\n<title>2. predict&#45;&gt;3. loss</title>\n<path fill=\"none\" stroke=\"#000000\" d=\"M185.3473,-28.7578C198.2159,-32.4786 212.6869,-36.6626 225.7676,-40.4447\"/>\n<polygon fill=\"#000000\" stroke=\"#000000\" points=\"224.8712,-43.8288 235.4499,-43.2442 226.8156,-37.1042 224.8712,-43.8288\"/>\n</g>\n<!-- 4. gradient -->\n<g id=\"node4\" class=\"node\">\n<title>4. gradient</title>\n<ellipse fill=\"none\" stroke=\"#000000\" cx=\"435.8754\" cy=\"-52\" rx=\"50.8918\" ry=\"18\"/>\n<text text-anchor=\"middle\" x=\"435.8754\" y=\"-48.3\" font-family=\"Times,serif\" font-size=\"14.00\" fill=\"#000000\">4. gradient</text>\n</g>\n<!-- 3. loss&#45;&gt;4. gradient -->\n<g id=\"edge3\" class=\"edge\">\n<title>3. loss&#45;&gt;4. gradient</title>\n<path fill=\"none\" stroke=\"#000000\" d=\"M300.5744,-52C321.9366,-52 349.8822,-52 374.8263,-52\"/>\n<polygon fill=\"#000000\" stroke=\"#000000\" points=\"374.9406,-55.5001 384.9406,-52 374.9405,-48.5001 374.9406,-55.5001\"/>\n</g>\n<!-- 5. step -->\n<g id=\"node5\" class=\"node\">\n<title>5. step</title>\n<ellipse fill=\"none\" stroke=\"#000000\" cx=\"558.6678\" cy=\"-18\" rx=\"35.194\" ry=\"18\"/>\n<text text-anchor=\"middle\" x=\"558.6678\" y=\"-14.3\" font-family=\"Times,serif\" font-size=\"14.00\" fill=\"#000000\">5. step</text>\n</g>\n<!-- 4. gradient&#45;&gt;5. step -->\n<g id=\"edge4\" class=\"edge\">\n<title>4. gradient&#45;&gt;5. step</title>\n<path fill=\"none\" stroke=\"#000000\" d=\"M476.0823,-40.8671C489.4591,-37.1632 504.3655,-33.0358 517.7924,-29.318\"/>\n<polygon fill=\"#000000\" stroke=\"#000000\" points=\"519.0184,-32.6103 527.7218,-26.5687 517.1504,-25.8641 519.0184,-32.6103\"/>\n</g>\n<!-- 5. step&#45;&gt;2. predict -->\n<g id=\"edge6\" class=\"edge\">\n<title>5. step&#45;&gt;2. predict</title>\n<path fill=\"none\" stroke=\"#000000\" d=\"M523.5577,-18C452.405,-18 290.668,-18 204.5509,-18\"/>\n<polygon fill=\"#000000\" stroke=\"#000000\" points=\"204.4349,-14.5001 194.4349,-18 204.4348,-21.5001 204.4349,-14.5001\"/>\n<text text-anchor=\"middle\" x=\"342.6799\" y=\"-21.8\" font-family=\"Times,serif\" font-size=\"14.00\" fill=\"#000000\">6. repeat</text>\n</g>\n<!-- 7. stop -->\n<g id=\"node6\" class=\"node\">\n<title>7. stop</title>\n<ellipse fill=\"none\" stroke=\"#000000\" cx=\"667.1615\" cy=\"-18\" rx=\"36.2938\" ry=\"18\"/>\n<text text-anchor=\"middle\" x=\"667.1615\" y=\"-14.3\" font-family=\"Times,serif\" font-size=\"14.00\" fill=\"#000000\">7. stop</text>\n</g>\n<!-- 5. step&#45;&gt;7. stop -->\n<g id=\"edge5\" class=\"edge\">\n<title>5. step&#45;&gt;7. stop</title>\n<path fill=\"none\" stroke=\"#000000\" d=\"M593.8926,-18C602.3423,-18 611.4969,-18 620.3794,-18\"/>\n<polygon fill=\"#000000\" stroke=\"#000000\" points=\"620.6231,-21.5001 630.6231,-18 620.623,-14.5001 620.6231,-21.5001\"/>\n</g>\n</g>\n</svg>\n"
          },
          "metadata": {
            "tags": []
          },
          "execution_count": 11
        }
      ]
    },
    {
      "cell_type": "code",
      "metadata": {
        "id": "5EyTEZRgwO7h"
      },
      "source": [
        "# Prepare datasets and dataloaders"
      ],
      "execution_count": null,
      "outputs": []
    },
    {
      "cell_type": "code",
      "metadata": {
        "colab": {
          "base_uri": "https://localhost:8080/"
        },
        "id": "I8i3-78Vxq24",
        "outputId": "767e66c9-5414-438c-cdab-7af46c077819"
      },
      "source": [
        "paths_dict"
      ],
      "execution_count": 12,
      "outputs": [
        {
          "output_type": "execute_result",
          "data": {
            "text/plain": [
              "{0: (#5923) [Path('training/0/1.png'),Path('training/0/1000.png'),Path('training/0/10005.png'),Path('training/0/10010.png'),Path('training/0/10022.png'),Path('training/0/10025.png'),Path('training/0/10026.png'),Path('training/0/10045.png'),Path('training/0/10069.png'),Path('training/0/10071.png')...],\n",
              " 1: (#6742) [Path('training/1/10006.png'),Path('training/1/10007.png'),Path('training/1/1002.png'),Path('training/1/10020.png'),Path('training/1/10027.png'),Path('training/1/1003.png'),Path('training/1/10040.png'),Path('training/1/10048.png'),Path('training/1/10058.png'),Path('training/1/10067.png')...],\n",
              " 2: (#5958) [Path('training/2/10009.png'),Path('training/2/10016.png'),Path('training/2/10024.png'),Path('training/2/10029.png'),Path('training/2/10072.png'),Path('training/2/10073.png'),Path('training/2/10075.png'),Path('training/2/10078.png'),Path('training/2/10081.png'),Path('training/2/10082.png')...],\n",
              " 3: (#6131) [Path('training/3/10.png'),Path('training/3/10000.png'),Path('training/3/10011.png'),Path('training/3/10031.png'),Path('training/3/10034.png'),Path('training/3/10042.png'),Path('training/3/10052.png'),Path('training/3/1007.png'),Path('training/3/10074.png'),Path('training/3/10091.png')...],\n",
              " 4: (#5842) [Path('training/4/10013.png'),Path('training/4/10018.png'),Path('training/4/10033.png'),Path('training/4/1004.png'),Path('training/4/1006.png'),Path('training/4/10060.png'),Path('training/4/1008.png'),Path('training/4/10103.png'),Path('training/4/10104.png'),Path('training/4/10114.png')...],\n",
              " 5: (#5421) [Path('training/5/0.png'),Path('training/5/100.png'),Path('training/5/10008.png'),Path('training/5/10015.png'),Path('training/5/10030.png'),Path('training/5/10035.png'),Path('training/5/10049.png'),Path('training/5/10051.png'),Path('training/5/10056.png'),Path('training/5/10062.png')...],\n",
              " 6: (#5918) [Path('training/6/10017.png'),Path('training/6/10032.png'),Path('training/6/10036.png'),Path('training/6/10037.png'),Path('training/6/10044.png'),Path('training/6/10053.png'),Path('training/6/10076.png'),Path('training/6/10089.png'),Path('training/6/10101.png'),Path('training/6/10108.png')...],\n",
              " 7: (#6265) [Path('training/7/10002.png'),Path('training/7/1001.png'),Path('training/7/10014.png'),Path('training/7/10019.png'),Path('training/7/10039.png'),Path('training/7/10046.png'),Path('training/7/10050.png'),Path('training/7/10063.png'),Path('training/7/10077.png'),Path('training/7/10086.png')...],\n",
              " 8: (#5851) [Path('training/8/10001.png'),Path('training/8/10012.png'),Path('training/8/10021.png'),Path('training/8/10041.png'),Path('training/8/10054.png'),Path('training/8/10057.png'),Path('training/8/10061.png'),Path('training/8/10064.png'),Path('training/8/10066.png'),Path('training/8/10079.png')...],\n",
              " 9: (#5949) [Path('training/9/10003.png'),Path('training/9/10004.png'),Path('training/9/10023.png'),Path('training/9/10028.png'),Path('training/9/10038.png'),Path('training/9/10043.png'),Path('training/9/10047.png'),Path('training/9/1005.png'),Path('training/9/10055.png'),Path('training/9/10059.png')...]}"
            ]
          },
          "metadata": {
            "tags": []
          },
          "execution_count": 12
        }
      ]
    },
    {
      "cell_type": "code",
      "metadata": {
        "id": "h9fDwRYuxelJ"
      },
      "source": [
        "# Open images in each class , create tensor dict\n",
        "tensors_dict = {}\n",
        "\n",
        "for i in range(10):\n",
        "    tensors_dict[i] = [tensor(Image.open(o)) for o in paths_dict[i]]"
      ],
      "execution_count": 13,
      "outputs": []
    },
    {
      "cell_type": "code",
      "metadata": {
        "colab": {
          "base_uri": "https://localhost:8080/"
        },
        "id": "xzQ-TmGsyx2B",
        "outputId": "a97a3d95-3533-4b99-af9a-95ec50e87e43"
      },
      "source": [
        "tensors_dict[0][0]"
      ],
      "execution_count": 14,
      "outputs": [
        {
          "output_type": "execute_result",
          "data": {
            "text/plain": [
              "tensor([[  0,   0,   0,   0,   0,   0,   0,   0,   0,   0,   0,   0,   0,   0,   0,   0,   0,   0,   0,   0,   0,   0,   0,   0,   0,   0,   0,   0],\n",
              "        [  0,   0,   0,   0,   0,   0,   0,   0,   0,   0,   0,   0,   0,   0,   0,   0,   0,   0,   0,   0,   0,   0,   0,   0,   0,   0,   0,   0],\n",
              "        [  0,   0,   0,   0,   0,   0,   0,   0,   0,   0,   0,   0,   0,   0,   0,   0,   0,   0,   0,   0,   0,   0,   0,   0,   0,   0,   0,   0],\n",
              "        [  0,   0,   0,   0,   0,   0,   0,   0,   0,   0,   0,   0,   0,   0,   0,   0,   0,   0,   0,   0,   0,   0,   0,   0,   0,   0,   0,   0],\n",
              "        [  0,   0,   0,   0,   0,   0,   0,   0,   0,   0,   0,   0,   0,   0,   0,  51, 159, 253, 159,  50,   0,   0,   0,   0,   0,   0,   0,   0],\n",
              "        [  0,   0,   0,   0,   0,   0,   0,   0,   0,   0,   0,   0,   0,   0,  48, 238, 252, 252, 252, 237,   0,   0,   0,   0,   0,   0,   0,   0],\n",
              "        [  0,   0,   0,   0,   0,   0,   0,   0,   0,   0,   0,   0,   0,  54, 227, 253, 252, 239, 233, 252,  57,   6,   0,   0,   0,   0,   0,   0],\n",
              "        [  0,   0,   0,   0,   0,   0,   0,   0,   0,   0,   0,  10,  60, 224, 252, 253, 252, 202,  84, 252, 253, 122,   0,   0,   0,   0,   0,   0],\n",
              "        [  0,   0,   0,   0,   0,   0,   0,   0,   0,   0,   0, 163, 252, 252, 252, 253, 252, 252,  96, 189, 253, 167,   0,   0,   0,   0,   0,   0],\n",
              "        [  0,   0,   0,   0,   0,   0,   0,   0,   0,   0,  51, 238, 253, 253, 190, 114, 253, 228,  47,  79, 255, 168,   0,   0,   0,   0,   0,   0],\n",
              "        [  0,   0,   0,   0,   0,   0,   0,   0,   0,  48, 238, 252, 252, 179,  12,  75, 121,  21,   0,   0, 253, 243,  50,   0,   0,   0,   0,   0],\n",
              "        [  0,   0,   0,   0,   0,   0,   0,   0,  38, 165, 253, 233, 208,  84,   0,   0,   0,   0,   0,   0, 253, 252, 165,   0,   0,   0,   0,   0],\n",
              "        [  0,   0,   0,   0,   0,   0,   0,   7, 178, 252, 240,  71,  19,  28,   0,   0,   0,   0,   0,   0, 253, 252, 195,   0,   0,   0,   0,   0],\n",
              "        [  0,   0,   0,   0,   0,   0,   0,  57, 252, 252,  63,   0,   0,   0,   0,   0,   0,   0,   0,   0, 253, 252, 195,   0,   0,   0,   0,   0],\n",
              "        [  0,   0,   0,   0,   0,   0,   0, 198, 253, 190,   0,   0,   0,   0,   0,   0,   0,   0,   0,   0, 255, 253, 196,   0,   0,   0,   0,   0],\n",
              "        [  0,   0,   0,   0,   0,   0,  76, 246, 252, 112,   0,   0,   0,   0,   0,   0,   0,   0,   0,   0, 253, 252, 148,   0,   0,   0,   0,   0],\n",
              "        [  0,   0,   0,   0,   0,   0,  85, 252, 230,  25,   0,   0,   0,   0,   0,   0,   0,   0,   7, 135, 253, 186,  12,   0,   0,   0,   0,   0],\n",
              "        [  0,   0,   0,   0,   0,   0,  85, 252, 223,   0,   0,   0,   0,   0,   0,   0,   0,   7, 131, 252, 225,  71,   0,   0,   0,   0,   0,   0],\n",
              "        [  0,   0,   0,   0,   0,   0,  85, 252, 145,   0,   0,   0,   0,   0,   0,   0,  48, 165, 252, 173,   0,   0,   0,   0,   0,   0,   0,   0],\n",
              "        [  0,   0,   0,   0,   0,   0,  86, 253, 225,   0,   0,   0,   0,   0,   0, 114, 238, 253, 162,   0,   0,   0,   0,   0,   0,   0,   0,   0],\n",
              "        [  0,   0,   0,   0,   0,   0,  85, 252, 249, 146,  48,  29,  85, 178, 225, 253, 223, 167,  56,   0,   0,   0,   0,   0,   0,   0,   0,   0],\n",
              "        [  0,   0,   0,   0,   0,   0,  85, 252, 252, 252, 229, 215, 252, 252, 252, 196, 130,   0,   0,   0,   0,   0,   0,   0,   0,   0,   0,   0],\n",
              "        [  0,   0,   0,   0,   0,   0,  28, 199, 252, 252, 253, 252, 252, 233, 145,   0,   0,   0,   0,   0,   0,   0,   0,   0,   0,   0,   0,   0],\n",
              "        [  0,   0,   0,   0,   0,   0,   0,  25, 128, 252, 253, 252, 141,  37,   0,   0,   0,   0,   0,   0,   0,   0,   0,   0,   0,   0,   0,   0],\n",
              "        [  0,   0,   0,   0,   0,   0,   0,   0,   0,   0,   0,   0,   0,   0,   0,   0,   0,   0,   0,   0,   0,   0,   0,   0,   0,   0,   0,   0],\n",
              "        [  0,   0,   0,   0,   0,   0,   0,   0,   0,   0,   0,   0,   0,   0,   0,   0,   0,   0,   0,   0,   0,   0,   0,   0,   0,   0,   0,   0],\n",
              "        [  0,   0,   0,   0,   0,   0,   0,   0,   0,   0,   0,   0,   0,   0,   0,   0,   0,   0,   0,   0,   0,   0,   0,   0,   0,   0,   0,   0],\n",
              "        [  0,   0,   0,   0,   0,   0,   0,   0,   0,   0,   0,   0,   0,   0,   0,   0,   0,   0,   0,   0,   0,   0,   0,   0,   0,   0,   0,   0]], dtype=torch.uint8)"
            ]
          },
          "metadata": {
            "tags": []
          },
          "execution_count": 14
        }
      ]
    },
    {
      "cell_type": "code",
      "metadata": {
        "colab": {
          "base_uri": "https://localhost:8080/",
          "height": 282
        },
        "id": "2dDQ6i5JzVLi",
        "outputId": "21d54720-8539-4e06-d433-9b6b6549c34f"
      },
      "source": [
        "plt.imshow( tensors_dict[0][0].permute(1, 0))"
      ],
      "execution_count": 15,
      "outputs": [
        {
          "output_type": "execute_result",
          "data": {
            "text/plain": [
              "<matplotlib.image.AxesImage at 0x7fa078658ad0>"
            ]
          },
          "metadata": {
            "tags": []
          },
          "execution_count": 15
        },
        {
          "output_type": "display_data",
          "data": {
            "image/png": "[encoded data removed]",
            "text/plain": [
              "<Figure size 432x288 with 1 Axes>"
            ]
          },
          "metadata": {
            "tags": [],
            "needs_background": "light"
          }
        }
      ]
    },
    {
      "cell_type": "code",
      "metadata": {
        "colab": {
          "base_uri": "https://localhost:8080/",
          "height": 102
        },
        "id": "1byP8Tex1t3K",
        "outputId": "d2285f27-1cc5-4107-95dc-eaa998d8831f"
      },
      "source": [
        "show_image(tensors_dict[0][0])"
      ],
      "execution_count": 16,
      "outputs": [
        {
          "output_type": "execute_result",
          "data": {
            "text/plain": [
              "<matplotlib.axes._subplots.AxesSubplot at 0x7fa077088b10>"
            ]
          },
          "metadata": {
            "tags": []
          },
          "execution_count": 16
        },
        {
          "output_type": "display_data",
          "data": {
            "image/png": "[encoded data removed]",
            "text/plain": [
              "<Figure size 72x72 with 1 Axes>"
            ]
          },
          "metadata": {
            "tags": [],
            "needs_background": "light"
          }
        }
      ]
    },
    {
      "cell_type": "code",
      "metadata": {
        "colab": {
          "base_uri": "https://localhost:8080/"
        },
        "id": "KmePQHaXI5yJ",
        "outputId": "2385adbd-0201-4ea5-e14b-f8dd61a79ee9"
      },
      "source": [
        "tensors_dict[0][0].shape"
      ],
      "execution_count": 22,
      "outputs": [
        {
          "output_type": "execute_result",
          "data": {
            "text/plain": [
              "torch.Size([28, 28])"
            ]
          },
          "metadata": {
            "tags": []
          },
          "execution_count": 22
        }
      ]
    },
    {
      "cell_type": "code",
      "metadata": {
        "id": "kh-pqezPw5yA"
      },
      "source": [
        "# Calculate the stacked tensor for each of the digit and store that tensor in a dictionary index by digit\n",
        "stacked_tensors_dict = {}\n",
        "\n",
        "for digit, img_tensor in tensors_dict.items():\n",
        "    stacked_tensors_dict[digit] = torch.stack(img_tensor).float()/255"
      ],
      "execution_count": 23,
      "outputs": []
    },
    {
      "cell_type": "code",
      "metadata": {
        "colab": {
          "base_uri": "https://localhost:8080/"
        },
        "id": "Z-FrrLD_I28N",
        "outputId": "bda515c5-beff-479c-ce52-1f6a6aaf5bc5"
      },
      "source": [
        "stacked_tensors_dict[0].shape"
      ],
      "execution_count": 24,
      "outputs": [
        {
          "output_type": "execute_result",
          "data": {
            "text/plain": [
              "torch.Size([5923, 28, 28])"
            ]
          },
          "metadata": {
            "tags": []
          },
          "execution_count": 24
        }
      ]
    },
    {
      "cell_type": "code",
      "metadata": {
        "id": "4Ow3frHrwsL4"
      },
      "source": [
        "train_x = torch.cat([stacked_tensors_dict[i] for i in range(0,10)]).view(-1, 28*28)"
      ],
      "execution_count": 25,
      "outputs": []
    },
    {
      "cell_type": "code",
      "metadata": {
        "colab": {
          "base_uri": "https://localhost:8080/"
        },
        "id": "f3oO8YnhwszX",
        "outputId": "a0d41b46-8fea-4906-9d6a-e67e4cf43fd4"
      },
      "source": [
        "train_x.shape"
      ],
      "execution_count": 26,
      "outputs": [
        {
          "output_type": "execute_result",
          "data": {
            "text/plain": [
              "torch.Size([60000, 784])"
            ]
          },
          "metadata": {
            "tags": []
          },
          "execution_count": 26
        }
      ]
    },
    {
      "cell_type": "code",
      "metadata": {
        "colab": {
          "base_uri": "https://localhost:8080/"
        },
        "id": "iDeqhjXiXgdi",
        "outputId": "eba4e730-4500-44a9-e73f-181f8cdcad35"
      },
      "source": [
        "stacked_tensors_dict[0].shape"
      ],
      "execution_count": 27,
      "outputs": [
        {
          "output_type": "execute_result",
          "data": {
            "text/plain": [
              "torch.Size([5923, 28, 28])"
            ]
          },
          "metadata": {
            "tags": []
          },
          "execution_count": 27
        }
      ]
    },
    {
      "cell_type": "code",
      "metadata": {
        "colab": {
          "base_uri": "https://localhost:8080/"
        },
        "id": "4QrPOPZrXWLz",
        "outputId": "bdf16a43-2167-42aa-94a8-52e492704eed"
      },
      "source": [
        "stacked_tensors_dict[0].shape[0]"
      ],
      "execution_count": 28,
      "outputs": [
        {
          "output_type": "execute_result",
          "data": {
            "text/plain": [
              "5923"
            ]
          },
          "metadata": {
            "tags": []
          },
          "execution_count": 28
        }
      ]
    },
    {
      "cell_type": "code",
      "metadata": {
        "id": "AdFf_hSIXPZd"
      },
      "source": [
        "# Returns a list of 10 sublists, where each sublist consists of as many times digit as the number of image in the category\n",
        "l = [ [i] * stacked_tensors_dict[i].shape[0] for i in range(0,10) ]\n",
        "\n",
        "# check the the total number of labels is equal to the numer of images\n",
        "assert sum([len(sublist) for sublist in l]) == train_x.shape[0]"
      ],
      "execution_count": 29,
      "outputs": []
    },
    {
      "cell_type": "code",
      "metadata": {
        "id": "aslsBqE8YeUw"
      },
      "source": [
        "# Create a tensor based on the list of labels\n",
        "\n",
        "label_list = []\n",
        "\n",
        "for i in range(10):\n",
        "    label_list.extend(l[i])\n",
        "\n",
        "assert len(label_list) == train_x.shape[0]"
      ],
      "execution_count": 30,
      "outputs": []
    },
    {
      "cell_type": "code",
      "metadata": {
        "colab": {
          "base_uri": "https://localhost:8080/"
        },
        "id": "GuNOVgJxa8s5",
        "outputId": "a2dfcaca-1f5a-4ce1-8d52-a6c6f98cb78d"
      },
      "source": [
        "train_y = torch.tensor(label_list).unsqueeze(1)\n",
        "train_x.shape, train_y.shape"
      ],
      "execution_count": 31,
      "outputs": [
        {
          "output_type": "execute_result",
          "data": {
            "text/plain": [
              "(torch.Size([60000, 784]), torch.Size([60000, 1]))"
            ]
          },
          "metadata": {
            "tags": []
          },
          "execution_count": 31
        }
      ]
    },
    {
      "cell_type": "code",
      "metadata": {
        "colab": {
          "base_uri": "https://localhost:8080/",
          "height": 102
        },
        "id": "53OY26SIf4ii",
        "outputId": "8c86a90c-9554-4a9d-829e-39f4ad28ef8b"
      },
      "source": [
        "show_image(train_x[5].view(-1, 28,28))"
      ],
      "execution_count": 29,
      "outputs": [
        {
          "output_type": "execute_result",
          "data": {
            "text/plain": [
              "<matplotlib.axes._subplots.AxesSubplot at 0x7fa1ad9f3850>"
            ]
          },
          "metadata": {
            "tags": []
          },
          "execution_count": 29
        },
        {
          "output_type": "display_data",
          "data": {
            "image/png": "[encoded data removed]",
            "text/plain": [
              "<Figure size 72x72 with 1 Axes>"
            ]
          },
          "metadata": {
            "tags": [],
            "needs_background": "light"
          }
        }
      ]
    },
    {
      "cell_type": "code",
      "metadata": {
        "colab": {
          "base_uri": "https://localhost:8080/"
        },
        "id": "aTsGhvu1dGLL",
        "outputId": "446f4a0e-bbc8-4002-9618-43affd4cb420"
      },
      "source": [
        "train_y[0]"
      ],
      "execution_count": 32,
      "outputs": [
        {
          "output_type": "execute_result",
          "data": {
            "text/plain": [
              "tensor([0])"
            ]
          },
          "metadata": {
            "tags": []
          },
          "execution_count": 32
        }
      ]
    },
    {
      "cell_type": "code",
      "metadata": {
        "id": "j1sgZfWif1uo"
      },
      "source": [
        "dset = list(zip(train_x, train_y))\n",
        "\n",
        "# Shuffle the dset so that digits are mixed\n",
        "shuffle(dset)"
      ],
      "execution_count": 33,
      "outputs": []
    },
    {
      "cell_type": "code",
      "metadata": {
        "id": "g2nQyCcXg6lX"
      },
      "source": [
        "x, y = dset[0]"
      ],
      "execution_count": 34,
      "outputs": []
    },
    {
      "cell_type": "code",
      "metadata": {
        "colab": {
          "base_uri": "https://localhost:8080/"
        },
        "id": "U7ejCGxGhgna",
        "outputId": "27b94f1b-344b-4d23-b02b-3f2835092569"
      },
      "source": [
        "x.shape"
      ],
      "execution_count": 35,
      "outputs": [
        {
          "output_type": "execute_result",
          "data": {
            "text/plain": [
              "torch.Size([784])"
            ]
          },
          "metadata": {
            "tags": []
          },
          "execution_count": 35
        }
      ]
    },
    {
      "cell_type": "code",
      "metadata": {
        "colab": {
          "base_uri": "https://localhost:8080/"
        },
        "id": "SjDqRYNThhcY",
        "outputId": "81ebe8b5-7d3a-4cbc-e271-1777af793ffd"
      },
      "source": [
        "y.shape"
      ],
      "execution_count": 36,
      "outputs": [
        {
          "output_type": "execute_result",
          "data": {
            "text/plain": [
              "torch.Size([1])"
            ]
          },
          "metadata": {
            "tags": []
          },
          "execution_count": 36
        }
      ]
    },
    {
      "cell_type": "code",
      "metadata": {
        "colab": {
          "base_uri": "https://localhost:8080/"
        },
        "id": "qB1vzJNbsOXp",
        "outputId": "71a85595-ee02-4bd5-b065-c99a47fae6c8"
      },
      "source": [
        "stacked_tensors_dict[0].shape"
      ],
      "execution_count": 37,
      "outputs": [
        {
          "output_type": "execute_result",
          "data": {
            "text/plain": [
              "torch.Size([5923, 28, 28])"
            ]
          },
          "metadata": {
            "tags": []
          },
          "execution_count": 37
        }
      ]
    },
    {
      "cell_type": "code",
      "metadata": {
        "id": "SQrV-pOChmKR",
        "colab": {
          "base_uri": "https://localhost:8080/"
        },
        "outputId": "6c5a7978-f326-4c9c-aecd-54afd2fdf9b6"
      },
      "source": [
        "valid_tensors_dict = {}\n",
        "\n",
        "for digit, tnrs in stacked_tensors_dict.items():\n",
        "  \n",
        "    valid_tensors_dict[digit] = torch.stack([tensor(Image.open(o)) for o in (path/'testing'/f\"{digit}\").ls()])\n",
        "    valid_tensors_dict[digit] = valid_tensors_dict[digit].float()/255\n",
        "\n",
        "    print('shape for',digit, ':', valid_tensors_dict[digit].shape)"
      ],
      "execution_count": 38,
      "outputs": [
        {
          "output_type": "stream",
          "text": [
            "shape for 0 : torch.Size([980, 28, 28])\n",
            "shape for 1 : torch.Size([1135, 28, 28])\n",
            "shape for 2 : torch.Size([1032, 28, 28])\n",
            "shape for 3 : torch.Size([1010, 28, 28])\n",
            "shape for 4 : torch.Size([982, 28, 28])\n",
            "shape for 5 : torch.Size([892, 28, 28])\n",
            "shape for 6 : torch.Size([958, 28, 28])\n",
            "shape for 7 : torch.Size([1028, 28, 28])\n",
            "shape for 8 : torch.Size([974, 28, 28])\n",
            "shape for 9 : torch.Size([1009, 28, 28])\n"
          ],
          "name": "stdout"
        }
      ]
    },
    {
      "cell_type": "code",
      "metadata": {
        "colab": {
          "base_uri": "https://localhost:8080/"
        },
        "id": "txAt5SdSt2z6",
        "outputId": "285598a1-8a7f-46a3-b0d6-344578d6e26e"
      },
      "source": [
        "valid_tensors_dict[0].shape"
      ],
      "execution_count": 39,
      "outputs": [
        {
          "output_type": "execute_result",
          "data": {
            "text/plain": [
              "torch.Size([980, 28, 28])"
            ]
          },
          "metadata": {
            "tags": []
          },
          "execution_count": 39
        }
      ]
    },
    {
      "cell_type": "code",
      "metadata": {
        "id": "xVo5KuxLs25H"
      },
      "source": [
        "valid_x = torch.cat([valid_tensors_dict[i] for i in range(0,10)]).view(-1, 28*28)"
      ],
      "execution_count": 40,
      "outputs": []
    },
    {
      "cell_type": "code",
      "metadata": {
        "id": "SlHArY4JtZce"
      },
      "source": [
        "# Returns a list of 10 sublists, where each sublist consists of a as many times digit as the number of image in the category\n",
        "l = [ [i] * valid_tensors_dict[i].shape[0] for i in range(0,10)]"
      ],
      "execution_count": 41,
      "outputs": []
    },
    {
      "cell_type": "code",
      "metadata": {
        "colab": {
          "base_uri": "https://localhost:8080/"
        },
        "id": "t3T9WcpxvxQf",
        "outputId": "9cb6cd30-e88a-4b57-ea56-f53a5e79dfed"
      },
      "source": [
        "# check the the total number of labels is equal to the numer of images\n",
        "assert sum([len(sublist) for sublist in l]) == valid_x.shape[0] \n",
        "print(valid_x.shape)"
      ],
      "execution_count": 42,
      "outputs": [
        {
          "output_type": "stream",
          "text": [
            "torch.Size([10000, 784])\n"
          ],
          "name": "stdout"
        }
      ]
    },
    {
      "cell_type": "code",
      "metadata": {
        "colab": {
          "base_uri": "https://localhost:8080/"
        },
        "id": "VA5SsYmywHkv",
        "outputId": "651d43bd-d0a4-4815-c51a-8ed02ed0e23d"
      },
      "source": [
        "# Create a tensor based on the list of labels\n",
        "\n",
        "label_list = []\n",
        "\n",
        "for i in range(10):\n",
        "    label_list.extend(l[i])\n",
        "assert len(label_list) == valid_x.shape[0]\n",
        "\n",
        "valid_y = torch.tensor(label_list).unsqueeze(1)\n",
        "print(valid_y.shape)\n",
        "\n",
        "valid_dset = list(zip(valid_x, valid_y))"
      ],
      "execution_count": 43,
      "outputs": [
        {
          "output_type": "stream",
          "text": [
            "torch.Size([10000, 1])\n"
          ],
          "name": "stdout"
        }
      ]
    },
    {
      "cell_type": "code",
      "metadata": {
        "id": "KtW0wW_a_LrM"
      },
      "source": [
        "dl = DataLoader(dset, batch_size=256)\n",
        "valid_dl = DataLoader(valid_dset, batch_size=5)"
      ],
      "execution_count": 44,
      "outputs": []
    },
    {
      "cell_type": "code",
      "metadata": {
        "colab": {
          "base_uri": "https://localhost:8080/"
        },
        "id": "tq4rX_G8wYhP",
        "outputId": "c3cc413f-840e-41d2-bc3f-ec99b4c779c6"
      },
      "source": [
        "def init_params(size, std=1.0): \n",
        "    return (torch.randn(size)*std).requires_grad_()\n",
        "\n",
        "weights = init_params((28*28, 10))\n",
        "bias = init_params(10)\n",
        "\n",
        "weights.shape, bias.shape"
      ],
      "execution_count": 45,
      "outputs": [
        {
          "output_type": "execute_result",
          "data": {
            "text/plain": [
              "(torch.Size([784, 10]), torch.Size([10]))"
            ]
          },
          "metadata": {
            "tags": []
          },
          "execution_count": 45
        }
      ]
    },
    {
      "cell_type": "code",
      "metadata": {
        "id": "YMgOEuUU3Bcw"
      },
      "source": [
        "def linear(xb):\n",
        "    outputs =  xb @ weights + bias\n",
        "    probs = F.log_softmax(outputs, dim=1)\n",
        "    return probs\n",
        "\n",
        "def evaluate_preds(xb):\n",
        "    probs = linear(xb)\n",
        "    return probs.argmax(dim=1).unsqueeze(dim=1)\n",
        "\n",
        "loss_fct = F.nll_loss\n",
        "\n",
        "def calc_grad(xb, yb, model):\n",
        "    preds = model(xb)\n",
        "    loss = loss_fct(preds, yb.squeeze())\n",
        "    loss.backward()\n",
        "\n",
        "def train_epoch(model, lr, params):\n",
        "    for xb, yb in dl:\n",
        "        calc_grad(xb, yb, model)\n",
        "\n",
        "        for p in params:\n",
        "            p.data -= p.grad * lr\n",
        "            p.grad.zero_()\n",
        "\n",
        "def batch_accuracy(xb, yb):\n",
        "    \"\"\"Determines how many of the predictions are actually correct\"\"\"\n",
        "    accuracy = torch.eq(xb, yb).sum() / xb.shape[0]\n",
        "    return accuracy\n",
        "\n",
        "def validate_epoch(model):\n",
        "    \"\"\"Collects the accuracy from each element in the dataloader and displays it\"\"\"\n",
        "    accs = [batch_accuracy(model(xb), yb) for xb, yb in valid_dl]\n",
        "    return round(torch.stack(accs).mean().item(), 4)\n"
      ],
      "execution_count": 46,
      "outputs": []
    },
    {
      "cell_type": "code",
      "metadata": {
        "colab": {
          "base_uri": "https://localhost:8080/"
        },
        "id": "t8aXRwyR91RR",
        "outputId": "7fee5e81-8cd1-4940-8bb1-c0272067853a"
      },
      "source": [
        "weights = init_params((28*28, 10))\n",
        "bias = init_params(10)\n",
        "\n",
        "params = weights, bias\n",
        "\n",
        "lr = 1\n",
        "\n",
        "train_epoch(linear, lr, params)\n",
        "\n",
        "validate_epoch(evaluate_preds)"
      ],
      "execution_count": 49,
      "outputs": [
        {
          "output_type": "execute_result",
          "data": {
            "text/plain": [
              "0.8416"
            ]
          },
          "metadata": {
            "tags": []
          },
          "execution_count": 49
        }
      ]
    },
    {
      "cell_type": "code",
      "metadata": {
        "colab": {
          "base_uri": "https://localhost:8080/"
        },
        "id": "IhLRRn6g93zN",
        "outputId": "2f6b9774-5051-4354-c75d-710cd81174d0"
      },
      "source": [
        "n_epochs = 20\n",
        "\n",
        "for i in range(n_epochs):\n",
        "    train_epoch(linear, lr, params)\n",
        "\n",
        "    if i%10 == 0:\n",
        "        print(f\"{i}:{validate_epoch(evaluate_preds):1.4f}\", end=' ')\n",
        "        \n",
        "print(validate_epoch(evaluate_preds))"
      ],
      "execution_count": 50,
      "outputs": [
        {
          "output_type": "stream",
          "text": [
            "0:0.8668 10:0.8998 0.9094\n"
          ],
          "name": "stdout"
        }
      ]
    },
    {
      "cell_type": "code",
      "metadata": {
        "colab": {
          "base_uri": "https://localhost:8080/",
          "height": 102
        },
        "id": "cqV39oeAAHAg",
        "outputId": "5a748b29-458c-4bab-91a4-65d0943c463c"
      },
      "source": [
        "img = valid_tensors_dict[7][957]\n",
        "show_image(img)\n",
        "plt.show()\n",
        "\n",
        "evaluate_preds(img.view(28*28).unsqueeze(dim=0))"
      ],
      "execution_count": 51,
      "outputs": [
        {
          "output_type": "display_data",
          "data": {
            "image/png": "[encoded data removed]",
            "text/plain": [
              "<Figure size 72x72 with 1 Axes>"
            ]
          },
          "metadata": {
            "tags": [],
            "needs_background": "light"
          }
        },
        {
          "output_type": "execute_result",
          "data": {
            "text/plain": [
              "tensor([[7]])"
            ]
          },
          "metadata": {
            "tags": []
          },
          "execution_count": 51
        }
      ]
    },
    {
      "cell_type": "code",
      "metadata": {
        "id": "lsoFt32sAk-C"
      },
      "source": [
        "# ReLu and two layers"
      ],
      "execution_count": 51,
      "outputs": []
    },
    {
      "cell_type": "code",
      "metadata": {
        "colab": {
          "base_uri": "https://localhost:8080/"
        },
        "id": "WiAK8dF8ALv4",
        "outputId": "4e905507-2ba4-4ad3-e825-f72a560308a5"
      },
      "source": [
        "def init_params(size, std=1.0): \n",
        "  return (torch.randn(size)*std).requires_grad_()\n",
        "\n",
        "w1 = init_params((28*28, 100))\n",
        "b1 = init_params(100)\n",
        "\n",
        "w2 = init_params((100, 10))\n",
        "b2 = init_params(10)\n",
        "\n",
        "w1.shape, b1.shape, w2.shape, b2.shape"
      ],
      "execution_count": 52,
      "outputs": [
        {
          "output_type": "execute_result",
          "data": {
            "text/plain": [
              "(torch.Size([784, 100]),\n",
              " torch.Size([100]),\n",
              " torch.Size([100, 10]),\n",
              " torch.Size([10]))"
            ]
          },
          "metadata": {
            "tags": []
          },
          "execution_count": 52
        }
      ]
    },
    {
      "cell_type": "code",
      "metadata": {
        "id": "NNTH5lTqDSkj"
      },
      "source": [
        "activ1 = nn.ReLU()\n",
        "\n",
        "def linear1(xb):\n",
        "    outputs =  xb @ w1 + b1\n",
        "    return activ1(outputs)\n",
        "\n",
        "def linear2(xb):\n",
        "    outputs =  xb @ w2 + b2\n",
        "    probs = F.log_softmax(outputs, dim=1)\n",
        "    return probs\n",
        "\n",
        "def model(xb):\n",
        "    xb = linear1(xb)\n",
        "    xb = linear2(xb)\n",
        "    return xb\n",
        "\n",
        "def classifier(xb):\n",
        "    xb = model(xb)\n",
        "    return xb.argmax(dim=1).unsqueeze(dim=1)\n",
        "\n",
        "loss_fct = F.nll_loss"
      ],
      "execution_count": 53,
      "outputs": []
    },
    {
      "cell_type": "code",
      "metadata": {
        "id": "fJpljLtIDyF9"
      },
      "source": [
        "def calc_grad(xb, yb, model):\n",
        "    preds = model(xb)\n",
        "    loss = loss_fct(preds, yb.squeeze())\n",
        "    # print(loss)\n",
        "    loss.backward()\n",
        "\n",
        "def train_epoch(model, lr, params):\n",
        "    for xb, yb in dl:\n",
        "        calc_grad(xb, yb, model)\n",
        "        for p in params:\n",
        "            p.data -= p.grad * lr\n",
        "            p.grad.zero_()\n",
        "\n",
        "#Determines how many of the predictions are actually correct \n",
        "def batch_accuracy(xb, yb):\n",
        "    accuracy = torch.eq(xb, yb).sum() / xb.shape[0]\n",
        "    return accuracy\n",
        "\n",
        "def validate_epoch(model):\n",
        "    accs = [batch_accuracy(model(xb), yb) for xb, yb in valid_dl]\n",
        "    return round(torch.stack(accs).mean().item(), 4)\n",
        "\n",
        "from math import log10\n",
        "\n",
        "def run_n_epochs(model, lr, params, n_epochs):\n",
        "    trigger = 10**(int(log10(n_epochs))-1)\n",
        "    cols = 10\n",
        "    starting_i = metric_results['epochs'][-1] + 1\n",
        "    for i in range(starting_i, starting_i + n_epochs):\n",
        "        train_epoch(model, lr, params)\n",
        "        if i%trigger == 0:\n",
        "            v = validate_epoch(classifier)\n",
        "\n",
        "            metric_results['epochs'].append(i)\n",
        "            metric_results['values'].append(v)\n",
        "            \n",
        "            end_str = '\\n' if i//trigger%cols == 0 else ' ' \n",
        "            print(f\"{i:3d}:{v:1.4f}\", end=end_str)\n",
        "    print(f\"\\nLast:{v:1.4f}\")\n",
        "    fig, ax = plt.subplots(1, 1, figsize=(12,4))\n",
        "    ax.scatter(metric_results['epochs'], metric_results['values'])\n",
        "    return metric_results"
      ],
      "execution_count": 54,
      "outputs": []
    },
    {
      "cell_type": "code",
      "metadata": {
        "colab": {
          "base_uri": "https://localhost:8080/"
        },
        "id": "DowIEbWfD8GV",
        "outputId": "9518d981-44b7-4190-eedd-e5e33c6267eb"
      },
      "source": [
        "shuffle(dset)\n",
        "dl = DataLoader(dset, batch_size=256)\n",
        "valid_dl = DataLoader(valid_dset, batch_size=5)\n",
        "\n",
        "w1 = init_params((28*28, 100))\n",
        "b1 = init_params(100)\n",
        "w2 = init_params((100, 10))\n",
        "b2 = init_params(10)\n",
        "\n",
        "lr = 1\n",
        "params = w1, b1, w2, b2\n",
        "\n",
        "metric_results = {}\n",
        "metric_results['epochs'] = [0]\n",
        "metric_results['values'] = [0]\n",
        "\n",
        "train_epoch(model, lr, params)\n",
        "validate_epoch(classifier)"
      ],
      "execution_count": 55,
      "outputs": [
        {
          "output_type": "execute_result",
          "data": {
            "text/plain": [
              "0.7301"
            ]
          },
          "metadata": {
            "tags": []
          },
          "execution_count": 55
        }
      ]
    },
    {
      "cell_type": "code",
      "metadata": {
        "colab": {
          "base_uri": "https://localhost:8080/",
          "height": 333
        },
        "id": "UOt_gq8CD-7D",
        "outputId": "fdaf716e-680d-48ff-c132-7a5d6f6cf11c"
      },
      "source": [
        "metric_results = run_n_epochs(model, lr, params, 20)"
      ],
      "execution_count": 56,
      "outputs": [
        {
          "output_type": "stream",
          "text": [
            "  1:0.8017   2:0.8406   3:0.8565   4:0.8680   5:0.8710   6:0.8640   7:0.8635   8:0.8728   9:0.8788  10:0.8860\n",
            " 11:0.8912  12:0.8942  13:0.8960  14:0.8959  15:0.8996  16:0.9034  17:0.9062  18:0.9115  19:0.9137  20:0.9160\n",
            "\n",
            "Last:0.9160\n"
          ],
          "name": "stdout"
        },
        {
          "output_type": "display_data",
          "data": {
            "image/png": "[encoded data removed]",
            "text/plain": [
              "<Figure size 864x288 with 1 Axes>"
            ]
          },
          "metadata": {
            "tags": [],
            "needs_background": "light"
          }
        }
      ]
    },
    {
      "cell_type": "code",
      "metadata": {
        "colab": {
          "base_uri": "https://localhost:8080/",
          "height": 384
        },
        "id": "pJKO2DHnZj3g",
        "outputId": "8583290a-26e9-4bbe-e0bf-959dc06e28e6"
      },
      "source": [
        "metric_results = run_n_epochs(model, lr, params, 50)"
      ],
      "execution_count": 58,
      "outputs": [
        {
          "output_type": "stream",
          "text": [
            " 21:0.9179  22:0.9201  23:0.9206  24:0.9217  25:0.9224  26:0.9235  27:0.9253  28:0.9256  29:0.9269  30:0.9279\n",
            " 31:0.9280  32:0.9289  33:0.9291  34:0.9303  35:0.9315  36:0.9316  37:0.9318  38:0.9323  39:0.9321  40:0.9325\n",
            " 41:0.9333  42:0.9333  43:0.9337  44:0.9338  45:0.9343  46:0.9335  47:0.9350  48:0.9352  49:0.9347  50:0.9356\n",
            " 51:0.9368  52:0.9369  53:0.9374  54:0.9378  55:0.9379  56:0.9382  57:0.9382  58:0.9384  59:0.9385  60:0.9382\n",
            " 61:0.9385  62:0.9388  63:0.9396  64:0.9399  65:0.9398  66:0.9400  67:0.9406  68:0.9402  69:0.9405  70:0.9416\n",
            "\n",
            "Last:0.9416\n"
          ],
          "name": "stdout"
        },
        {
          "output_type": "display_data",
          "data": {
            "image/png": "[encoded data removed]",
            "text/plain": [
              "<Figure size 864x288 with 1 Axes>"
            ]
          },
          "metadata": {
            "tags": [],
            "needs_background": "light"
          }
        }
      ]
    },
    {
      "cell_type": "code",
      "metadata": {
        "colab": {
          "base_uri": "https://localhost:8080/",
          "height": 102
        },
        "id": "TY1q8DVWET4B",
        "outputId": "bf142c59-b1e1-4ee9-fdd7-02379872211b"
      },
      "source": [
        "img = valid_tensors_dict[8][49]\n",
        "show_image(img)\n",
        "plt.show()\n",
        "classifier(img.view(28*28).unsqueeze(dim=0))"
      ],
      "execution_count": 59,
      "outputs": [
        {
          "output_type": "display_data",
          "data": {
            "image/png": "[encoded data removed]",
            "text/plain": [
              "<Figure size 72x72 with 1 Axes>"
            ]
          },
          "metadata": {
            "tags": [],
            "needs_background": "light"
          }
        },
        {
          "output_type": "execute_result",
          "data": {
            "text/plain": [
              "tensor([[8]])"
            ]
          },
          "metadata": {
            "tags": []
          },
          "execution_count": 59
        }
      ]
    },
    {
      "cell_type": "code",
      "metadata": {
        "colab": {
          "base_uri": "https://localhost:8080/",
          "height": 102
        },
        "id": "sQRwJnyOa5hs",
        "outputId": "dad0ce8c-d651-4bf3-83f1-fedaf37b1763"
      },
      "source": [
        "img = valid_tensors_dict[4][1]\n",
        "show_image(img)\n",
        "plt.show()\n",
        "\n",
        "classifier(img.view(28*28).unsqueeze(dim=0))"
      ],
      "execution_count": 63,
      "outputs": [
        {
          "output_type": "display_data",
          "data": {
            "image/png": "[encoded data removed]",
            "text/plain": [
              "<Figure size 72x72 with 1 Axes>"
            ]
          },
          "metadata": {
            "tags": [],
            "needs_background": "light"
          }
        },
        {
          "output_type": "execute_result",
          "data": {
            "text/plain": [
              "tensor([[39]])"
            ]
          },
          "metadata": {
            "tags": []
          },
          "execution_count": 63
        }
      ]
    },
    {
      "cell_type": "code",
      "metadata": {
        "id": "O_bjH15jEUpJ"
      },
      "source": [
        "# Improvement 2 model by introducing ReLu and three layers"
      ],
      "execution_count": 65,
      "outputs": []
    },
    {
      "cell_type": "code",
      "metadata": {
        "colab": {
          "base_uri": "https://localhost:8080/"
        },
        "id": "dkZnWN6TEeDn",
        "outputId": "8fef1d22-bb61-4022-f8b3-e728fa52c86b"
      },
      "source": [
        "def init_params(size, std=1.0): \n",
        "    return (torch.randn(size)*std).requires_grad_()\n",
        "\n",
        "w1 = init_params((28*28, 250))\n",
        "b1 = init_params(250)\n",
        "\n",
        "w2 = init_params((250, 100))\n",
        "b2 = init_params(100)\n",
        "\n",
        "w3 = init_params((100, 10))\n",
        "b3 = init_params(10)\n",
        "\n",
        "w1.shape, b1.shape, w2.shape, b2.shape, w3.shape, b3.shape"
      ],
      "execution_count": 66,
      "outputs": [
        {
          "output_type": "execute_result",
          "data": {
            "text/plain": [
              "(torch.Size([784, 250]),\n",
              " torch.Size([250]),\n",
              " torch.Size([250, 100]),\n",
              " torch.Size([100]),\n",
              " torch.Size([100, 10]),\n",
              " torch.Size([10]))"
            ]
          },
          "metadata": {
            "tags": []
          },
          "execution_count": 66
        }
      ]
    },
    {
      "cell_type": "code",
      "metadata": {
        "id": "KEehkdubEgYP"
      },
      "source": [
        "activ1 = nn.ReLU()\n",
        "\n",
        "def linear1(xb):\n",
        "    outputs =  xb @ w1 + b1\n",
        "    return activ1(outputs)\n",
        "\n",
        "def linear2(xb):\n",
        "    outputs =  xb @ w2 + b2\n",
        "    return activ1(outputs)\n",
        "\n",
        "def linear3(xb):\n",
        "    \"\"\"https://pytorch.org/docs/stable/nn.functional.html#torch.nn.functional.log_softmax\"\"\"\n",
        "    outputs =  xb @ w3 + b3\n",
        "    probs = torch.log_softmax(outputs, dim=1)\n",
        "    # probs = F.log_softmax(outputs, dim=1)\n",
        "\n",
        "    return probs\n",
        "\n",
        "def model(xb):\n",
        "    xb = linear1(xb)\n",
        "    xb = linear2(xb)\n",
        "    xb = linear3(xb)\n",
        "    return xb\n",
        "\n",
        "def classifier(xb):\n",
        "    xb = model(xb)\n",
        "    return xb.argmax(dim=1).unsqueeze(dim=1)\n"
      ],
      "execution_count": 67,
      "outputs": []
    },
    {
      "cell_type": "code",
      "metadata": {
        "id": "MYiW0-9YElNp"
      },
      "source": [
        "loss_fct = F.nll_loss\n",
        "\n",
        "def calc_grad(xb, yb, model):\n",
        "    preds = model(xb)\n",
        "    loss = loss_fct(preds, yb.squeeze())\n",
        "    # print(loss)\n",
        "    loss.backward()\n",
        "\n",
        "def train_epoch(model, lr, params):\n",
        "    for xb, yb in dl:\n",
        "        calc_grad(xb, yb, model)\n",
        "        for p in params:\n",
        "            p.data -= p.grad * lr\n",
        "            p.grad.zero_()\n",
        "\n",
        "def batch_accuracy(xb, yb):\n",
        "    accuracy = torch.eq(xb, yb).sum() / xb.shape[0]\n",
        "    return accuracy\n",
        "\n",
        "def validate_epoch(model):\n",
        "    accs = [batch_accuracy(model(xb), yb) for xb, yb in valid_dl]\n",
        "    return round(torch.stack(accs).mean().item(), 4)"
      ],
      "execution_count": 68,
      "outputs": []
    },
    {
      "cell_type": "code",
      "metadata": {
        "id": "UrXu8N_hEuTW"
      },
      "source": [
        "from math import log10\n",
        "\n",
        "def run_n_epochs(model, lr, params, n_epochs):\n",
        "    trigger = 10**(int(log10(n_epochs))-1)\n",
        "    cols = 10\n",
        "    starting_i = metric_results['epochs'][-1] + 1\n",
        "    for i in range(starting_i, starting_i + n_epochs):\n",
        "        train_epoch(model, lr, params)\n",
        "        if i%trigger == 0:\n",
        "            v = validate_epoch(classifier)\n",
        "\n",
        "            metric_results['epochs'].append(i)\n",
        "            metric_results['values'].append(v)\n",
        "            \n",
        "            end_str = '\\n' if i//trigger%cols == 0 else ' ' \n",
        "            print(f\"{i:3d}:{v:1.4f}\", end=end_str)\n",
        "    print(f\"\\nLast:{v:1.4f}\")\n",
        "    fig, ax = plt.subplots(1, 1, figsize=(12,4))\n",
        "    ax.scatter(metric_results['epochs'], metric_results['values'])\n",
        "    return metric_results"
      ],
      "execution_count": 69,
      "outputs": []
    },
    {
      "cell_type": "code",
      "metadata": {
        "colab": {
          "base_uri": "https://localhost:8080/"
        },
        "id": "Ky_9FnMmEw4m",
        "outputId": "8f2c956e-05ae-4914-848f-8c0dc768aae5"
      },
      "source": [
        "shuffle(dset)\n",
        "dl = DataLoader(dset, batch_size=256)\n",
        "valid_dl = DataLoader(valid_dset, batch_size=5)\n",
        "\n",
        "w1 = init_params((28*28, 250))\n",
        "b1 = init_params(250)\n",
        "w2 = init_params((250, 100))\n",
        "b2 = init_params(100)\n",
        "w3 = init_params((100, 10))\n",
        "b3 = init_params(10)\n",
        "\n",
        "lr = 1\n",
        "params = w1, b1, w2, b2\n",
        "\n",
        "metric_results = {}\n",
        "metric_results['epochs'] = [0]\n",
        "metric_results['values'] = [0]\n",
        "\n",
        "train_epoch(model, lr, params)\n",
        "validate_epoch(classifier)"
      ],
      "execution_count": 70,
      "outputs": [
        {
          "output_type": "execute_result",
          "data": {
            "text/plain": [
              "0.3243"
            ]
          },
          "metadata": {
            "tags": []
          },
          "execution_count": 70
        }
      ]
    },
    {
      "cell_type": "code",
      "metadata": {
        "colab": {
          "base_uri": "https://localhost:8080/",
          "height": 333
        },
        "id": "drYppsjMEzPm",
        "outputId": "64f7e0a9-1d7d-4326-b00f-7374f75d2fda"
      },
      "source": [
        "metric_results = run_n_epochs(model, lr, params, 20)"
      ],
      "execution_count": 71,
      "outputs": [
        {
          "output_type": "stream",
          "text": [
            "  1:0.3480   2:0.3650   3:0.3663   4:0.3728   5:0.3752   6:0.4134   7:0.4322   8:0.4485   9:0.4619  10:0.4544\n",
            " 11:0.4790  12:0.5240  13:0.5176  14:0.5300  15:0.5301  16:0.5372  17:0.5603  18:0.4618  19:0.4730  20:0.4816\n",
            "\n",
            "Last:0.4816\n"
          ],
          "name": "stdout"
        },
        {
          "output_type": "display_data",
          "data": {
            "image/png": "[encoded data removed]",
            "text/plain": [
              "<Figure size 864x288 with 1 Axes>"
            ]
          },
          "metadata": {
            "tags": [],
            "needs_background": "light"
          }
        }
      ]
    },
    {
      "cell_type": "code",
      "metadata": {
        "colab": {
          "base_uri": "https://localhost:8080/",
          "height": 333
        },
        "id": "QUQpRBtZE0mG",
        "outputId": "893a390e-a05e-4238-e1e4-5bddd4ddcd07"
      },
      "source": [
        "lr =0.1\n",
        "metric_results = run_n_epochs(model, lr, params, 20)"
      ],
      "execution_count": 72,
      "outputs": [
        {
          "output_type": "stream",
          "text": [
            " 21:0.4864  22:0.4864  23:0.4871  24:0.4886  25:0.4888  26:0.4902  27:0.4911  28:0.4918  29:0.4914  30:0.4910\n",
            " 31:0.4916  32:0.4943  33:0.4947  34:0.4961  35:0.4959  36:0.4970  37:0.4990  38:0.4984  39:0.5020  40:0.5033\n",
            "\n",
            "Last:0.5033\n"
          ],
          "name": "stdout"
        },
        {
          "output_type": "display_data",
          "data": {
            "image/png": "[encoded data removed]",
            "text/plain": [
              "<Figure size 864x288 with 1 Axes>"
            ]
          },
          "metadata": {
            "tags": [],
            "needs_background": "light"
          }
        }
      ]
    },
    {
      "cell_type": "code",
      "metadata": {
        "colab": {
          "base_uri": "https://localhost:8080/",
          "height": 333
        },
        "id": "9-e5Xi-bc9ZE",
        "outputId": "4da5bf5c-b0aa-447c-c873-cd163a4e9c73"
      },
      "source": [
        "lr =0.5\n",
        "metric_results = run_n_epochs(model, lr, params, 20)"
      ],
      "execution_count": 73,
      "outputs": [
        {
          "output_type": "stream",
          "text": [
            " 41:0.5105  42:0.5239  43:0.5476  44:0.5951  45:0.5820  46:0.5761  47:0.6459  48:0.5898  49:0.6715  50:0.6802\n",
            " 51:0.6868  52:0.6623  53:0.6961  54:0.6915  55:0.6951  56:0.7008  57:0.6994  58:0.6936  59:0.6912  60:0.6885\n",
            "\n",
            "Last:0.6885\n"
          ],
          "name": "stdout"
        },
        {
          "output_type": "display_data",
          "data": {
            "image/png": "[encoded data removed]",
            "text/plain": [
              "<Figure size 864x288 with 1 Axes>"
            ]
          },
          "metadata": {
            "tags": [],
            "needs_background": "light"
          }
        }
      ]
    },
    {
      "cell_type": "code",
      "metadata": {
        "colab": {
          "base_uri": "https://localhost:8080/",
          "height": 333
        },
        "id": "XH5KsKUJdPK2",
        "outputId": "4ea6eaf2-1407-455e-d4cf-f9468c455655"
      },
      "source": [
        "lr =0.8\n",
        "metric_results = run_n_epochs(model, lr, params, 20)"
      ],
      "execution_count": 74,
      "outputs": [
        {
          "output_type": "stream",
          "text": [
            " 61:0.6909  62:0.6960  63:0.6886  64:0.6713  65:0.7015  66:0.7001  67:0.7104  68:0.7204  69:0.7204  70:0.7233\n",
            " 71:0.6400  72:0.7101  73:0.7183  74:0.7231  75:0.7313  76:0.7436  77:0.7556  78:0.7707  79:0.7692  80:0.7945\n",
            "\n",
            "Last:0.7945\n"
          ],
          "name": "stdout"
        },
        {
          "output_type": "display_data",
          "data": {
            "image/png": "[encoded data removed]",
            "text/plain": [
              "<Figure size 864x288 with 1 Axes>"
            ]
          },
          "metadata": {
            "tags": [],
            "needs_background": "light"
          }
        }
      ]
    },
    {
      "cell_type": "code",
      "metadata": {
        "colab": {
          "base_uri": "https://localhost:8080/",
          "height": 384
        },
        "id": "QbOG4uocdjdD",
        "outputId": "9e012e1e-7593-4626-90f8-10ea5ef53dbd"
      },
      "source": [
        "lr =0.8\n",
        "metric_results = run_n_epochs(model, lr, params, 50)"
      ],
      "execution_count": 75,
      "outputs": [
        {
          "output_type": "stream",
          "text": [
            " 81:0.7914  82:0.8048  83:0.7901  84:0.8078  85:0.8192  86:0.8180  87:0.8173  88:0.8069  89:0.8126  90:0.8170\n",
            " 91:0.8097  92:0.8274  93:0.8401  94:0.8443  95:0.8467  96:0.8468  97:0.8360  98:0.8206  99:0.8466 100:0.8571\n",
            "101:0.8428 102:0.8650 103:0.8602 104:0.8648 105:0.8527 106:0.8455 107:0.8514 108:0.8498 109:0.8292 110:0.8291\n",
            "111:0.8508 112:0.8514 113:0.8313 114:0.8001 115:0.8245 116:0.8508 117:0.8584 118:0.8403 119:0.8596 120:0.8455\n",
            "121:0.8328 122:0.8620 123:0.8704 124:0.8305 125:0.8611 126:0.8352 127:0.8276 128:0.8061 129:0.8303 130:0.8265\n",
            "\n",
            "Last:0.8265\n"
          ],
          "name": "stdout"
        },
        {
          "output_type": "display_data",
          "data": {
            "image/png": "[encoded data removed]",
            "text/plain": [
              "<Figure size 864x288 with 1 Axes>"
            ]
          },
          "metadata": {
            "tags": [],
            "needs_background": "light"
          }
        }
      ]
    },
    {
      "cell_type": "code",
      "metadata": {
        "colab": {
          "base_uri": "https://localhost:8080/",
          "height": 333
        },
        "id": "vuED5d-Md1cM",
        "outputId": "8fbbb4fd-53e3-49e9-eaf1-282362dc5ba2"
      },
      "source": [
        "lr =0.7\n",
        "metric_results = run_n_epochs(model, lr, params, 20)"
      ],
      "execution_count": 76,
      "outputs": [
        {
          "output_type": "stream",
          "text": [
            "131:0.8385 132:0.8331 133:0.8198 134:0.8307 135:0.8210 136:0.8285 137:0.8319 138:0.8238 139:0.8226 140:0.8245\n",
            "141:0.8334 142:0.8273 143:0.8404 144:0.8099 145:0.8443 146:0.8283 147:0.8373 148:0.8604 149:0.8346 150:0.8741\n",
            "\n",
            "Last:0.8741\n"
          ],
          "name": "stdout"
        },
        {
          "output_type": "display_data",
          "data": {
            "image/png": "[encoded data removed]",
            "text/plain": [
              "<Figure size 864x288 with 1 Axes>"
            ]
          },
          "metadata": {
            "tags": [],
            "needs_background": "light"
          }
        }
      ]
    },
    {
      "cell_type": "code",
      "metadata": {
        "colab": {
          "base_uri": "https://localhost:8080/",
          "height": 333
        },
        "id": "UBl3UMYvecpO",
        "outputId": "d246234e-6c36-4a58-fa20-84582ce6df8e"
      },
      "source": [
        "lr =0.7\n",
        "metric_results = run_n_epochs(model, lr, params, 20)"
      ],
      "execution_count": 77,
      "outputs": [
        {
          "output_type": "stream",
          "text": [
            "151:0.8629 152:0.8890 153:0.8435 154:0.8398 155:0.8861 156:0.8744 157:0.8371 158:0.8469 159:0.8381 160:0.8871\n",
            "161:0.8915 162:0.8548 163:0.8938 164:0.8901 165:0.8980 166:0.8983 167:0.8987 168:0.8980 169:0.8945 170:0.9028\n",
            "\n",
            "Last:0.9028\n"
          ],
          "name": "stdout"
        },
        {
          "output_type": "display_data",
          "data": {
            "image/png": "[encoded data removed]",
            "text/plain": [
              "<Figure size 864x288 with 1 Axes>"
            ]
          },
          "metadata": {
            "tags": [],
            "needs_background": "light"
          }
        }
      ]
    },
    {
      "cell_type": "code",
      "metadata": {
        "colab": {
          "base_uri": "https://localhost:8080/",
          "height": 333
        },
        "id": "dXLbvpQpe2M3",
        "outputId": "b9ad70d9-afec-47b8-c43c-1679bb7f9ee8"
      },
      "source": [
        "lr =0.6\n",
        "metric_results = run_n_epochs(model, lr, params, 20)"
      ],
      "execution_count": 78,
      "outputs": [
        {
          "output_type": "stream",
          "text": [
            "171:0.8973 172:0.9009 173:0.9005 174:0.8988 175:0.9010 176:0.8965 177:0.8975 178:0.8997 179:0.9011 180:0.8992\n",
            "181:0.9019 182:0.8991 183:0.9001 184:0.9010 185:0.9009 186:0.9025 187:0.9021 188:0.9006 189:0.9016 190:0.9012\n",
            "\n",
            "Last:0.9012\n"
          ],
          "name": "stdout"
        },
        {
          "output_type": "display_data",
          "data": {
            "image/png": "[encoded data removed]",
            "text/plain": [
              "<Figure size 864x288 with 1 Axes>"
            ]
          },
          "metadata": {
            "tags": [],
            "needs_background": "light"
          }
        }
      ]
    },
    {
      "cell_type": "code",
      "metadata": {
        "colab": {
          "base_uri": "https://localhost:8080/",
          "height": 333
        },
        "id": "3lD1K7NzfKUf",
        "outputId": "c3dd25bb-96d2-49cd-ef8e-e01dcfb1895c"
      },
      "source": [
        "lr =0.5\n",
        "metric_results = run_n_epochs(model, lr, params, 20)"
      ],
      "execution_count": 79,
      "outputs": [
        {
          "output_type": "stream",
          "text": [
            "191:0.9025 192:0.9046 193:0.9049 194:0.9060 195:0.9050 196:0.9046 197:0.9049 198:0.9048 199:0.9049 200:0.9038\n",
            "201:0.9044 202:0.9042 203:0.9063 204:0.9054 205:0.9058 206:0.9050 207:0.9051 208:0.9065 209:0.9046 210:0.9066\n",
            "\n",
            "Last:0.9066\n"
          ],
          "name": "stdout"
        },
        {
          "output_type": "display_data",
          "data": {
            "image/png": "[encoded data removed]",
            "text/plain": [
              "<Figure size 864x288 with 1 Axes>"
            ]
          },
          "metadata": {
            "tags": [],
            "needs_background": "light"
          }
        }
      ]
    },
    {
      "cell_type": "code",
      "metadata": {
        "colab": {
          "base_uri": "https://localhost:8080/",
          "height": 333
        },
        "id": "Tm4BPFQTfeuE",
        "outputId": "b689fdda-0efd-420d-fdc6-e1889c3dd312"
      },
      "source": [
        "lr =0.4\n",
        "metric_results = run_n_epochs(model, lr, params, 20)"
      ],
      "execution_count": 80,
      "outputs": [
        {
          "output_type": "stream",
          "text": [
            "211:0.9077 212:0.9087 213:0.9077 214:0.9075 215:0.9085 216:0.9081 217:0.9083 218:0.9083 219:0.9076 220:0.9078\n",
            "221:0.9078 222:0.9067 223:0.9072 224:0.9076 225:0.9086 226:0.9083 227:0.9080 228:0.9076 229:0.9073 230:0.9075\n",
            "\n",
            "Last:0.9075\n"
          ],
          "name": "stdout"
        },
        {
          "output_type": "display_data",
          "data": {
            "image/png": "[encoded data removed]",
            "text/plain": [
              "<Figure size 864x288 with 1 Axes>"
            ]
          },
          "metadata": {
            "tags": [],
            "needs_background": "light"
          }
        }
      ]
    },
    {
      "cell_type": "code",
      "metadata": {
        "colab": {
          "base_uri": "https://localhost:8080/",
          "height": 333
        },
        "id": "qxEMlFptf3ni",
        "outputId": "602ae6b9-6a8c-45dc-dc2c-8cd2c3a2f312"
      },
      "source": [
        "lr =0.1\n",
        "metric_results = run_n_epochs(model, lr, params, 20)"
      ],
      "execution_count": 81,
      "outputs": [
        {
          "output_type": "stream",
          "text": [
            "231:0.9116 232:0.9116 233:0.9114 234:0.9114 235:0.9115 236:0.9112 237:0.9116 238:0.9113 239:0.9112 240:0.9112\n",
            "241:0.9115 242:0.9115 243:0.9117 244:0.9117 245:0.9115 246:0.9113 247:0.9116 248:0.9116 249:0.9115 250:0.9118\n",
            "\n",
            "Last:0.9118\n"
          ],
          "name": "stdout"
        },
        {
          "output_type": "display_data",
          "data": {
            "image/png": "[encoded data removed]",
            "text/plain": [
              "<Figure size 864x288 with 1 Axes>"
            ]
          },
          "metadata": {
            "tags": [],
            "needs_background": "light"
          }
        }
      ]
    },
    {
      "cell_type": "code",
      "metadata": {
        "colab": {
          "base_uri": "https://localhost:8080/",
          "height": 333
        },
        "id": "XScj33rZgIqS",
        "outputId": "d76bc198-10b0-4f8f-b218-b42044b16d4f"
      },
      "source": [
        "lr =0.01\n",
        "metric_results = run_n_epochs(model, lr, params, 20)"
      ],
      "execution_count": 82,
      "outputs": [
        {
          "output_type": "stream",
          "text": [
            "251:0.9123 252:0.9122 253:0.9121 254:0.9121 255:0.9123 256:0.9123 257:0.9122 258:0.9123 259:0.9122 260:0.9123\n",
            "261:0.9123 262:0.9125 263:0.9125 264:0.9127 265:0.9127 266:0.9127 267:0.9127 268:0.9127 269:0.9127 270:0.9127\n",
            "\n",
            "Last:0.9127\n"
          ],
          "name": "stdout"
        },
        {
          "output_type": "display_data",
          "data": {
            "image/png": "[encoded data removed]",
            "text/plain": [
              "<Figure size 864x288 with 1 Axes>"
            ]
          },
          "metadata": {
            "tags": [],
            "needs_background": "light"
          }
        }
      ]
    },
    {
      "cell_type": "code",
      "metadata": {
        "colab": {
          "base_uri": "https://localhost:8080/",
          "height": 333
        },
        "id": "zLg5Gvv_gahr",
        "outputId": "08ba3997-2cb1-448c-80af-5eb49a373771"
      },
      "source": [
        "lr =0.001\n",
        "metric_results = run_n_epochs(model, lr, params, 20)"
      ],
      "execution_count": 83,
      "outputs": [
        {
          "output_type": "stream",
          "text": [
            "271:0.9126 272:0.9124 273:0.9125 274:0.9126 275:0.9125 276:0.9126 277:0.9126 278:0.9126 279:0.9126 280:0.9126\n",
            "281:0.9126 282:0.9126 283:0.9126 284:0.9126 285:0.9125 286:0.9125 287:0.9125 288:0.9125 289:0.9125 290:0.9125\n",
            "\n",
            "Last:0.9125\n"
          ],
          "name": "stdout"
        },
        {
          "output_type": "display_data",
          "data": {
            "image/png": "[encoded data removed]",
            "text/plain": [
              "<Figure size 864x288 with 1 Axes>"
            ]
          },
          "metadata": {
            "tags": [],
            "needs_background": "light"
          }
        }
      ]
    },
    {
      "cell_type": "code",
      "metadata": {
        "colab": {
          "base_uri": "https://localhost:8080/",
          "height": 333
        },
        "id": "uN2dxGAGgr_3",
        "outputId": "e33aa1f1-d130-49fe-f1c2-eaa6745f4910"
      },
      "source": [
        "lr =0.0001\n",
        "metric_results = run_n_epochs(model, lr, params, 20)"
      ],
      "execution_count": 84,
      "outputs": [
        {
          "output_type": "stream",
          "text": [
            "291:0.9125 292:0.9125 293:0.9125 294:0.9125 295:0.9125 296:0.9125 297:0.9125 298:0.9124 299:0.9124 300:0.9124\n",
            "301:0.9124 302:0.9124 303:0.9124 304:0.9124 305:0.9124 306:0.9124 307:0.9124 308:0.9124 309:0.9124 310:0.9124\n",
            "\n",
            "Last:0.9124\n"
          ],
          "name": "stdout"
        },
        {
          "output_type": "display_data",
          "data": {
            "image/png": "[encoded data removed]",
            "text/plain": [
              "<Figure size 864x288 with 1 Axes>"
            ]
          },
          "metadata": {
            "tags": [],
            "needs_background": "light"
          }
        }
      ]
    },
    {
      "cell_type": "code",
      "metadata": {
        "id": "OLHLIkcEhDHy"
      },
      "source": [
        ""
      ],
      "execution_count": null,
      "outputs": []
    }
  ]
}