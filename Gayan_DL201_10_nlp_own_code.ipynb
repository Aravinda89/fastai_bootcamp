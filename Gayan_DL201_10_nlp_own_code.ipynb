{
  "nbformat": 4,
  "nbformat_minor": 0,
  "metadata": {
    "colab": {
      "name": "Gayan_DL201_10_nlp_own_code.ipynb",
      "provenance": [],
      "collapsed_sections": [],
      "include_colab_link": true
    },
    "kernelspec": {
      "name": "python3",
      "display_name": "Python 3"
    },
    "language_info": {
      "name": "python"
    },
    "accelerator": "GPU"
  },
  "cells": [
    {
      "cell_type": "markdown",
      "metadata": {
        "id": "view-in-github",
        "colab_type": "text"
      },
      "source": [
        "<a href=\"https://colab.research.google.com/github/Aravinda89/fastai_bootcamp/blob/main/Gayan_DL201_10_nlp_own_code.ipynb\" target=\"_parent\"><img src=\"https://colab.research.google.com/assets/colab-badge.svg\" alt=\"Open In Colab\"/></a>"
      ]
    },
    {
      "cell_type": "markdown",
      "metadata": {
        "id": "j3T-2NPIRRE-"
      },
      "source": [
        "# NLP Deep Dive - Own Code"
      ]
    },
    {
      "cell_type": "markdown",
      "metadata": {
        "id": "bcF86rzkRV0m"
      },
      "source": [
        "Own refactored code and notes for *Chapter 10: NLP Deep Dive: RNNs* ([`10_nlp.ipynb`](https://colab.research.google.com/github/vtecftwy/fastbook/blob/master/10_nlp.ipynb))."
      ]
    },
    {
      "cell_type": "markdown",
      "metadata": {
        "id": "OsaHv4EvRhEn"
      },
      "source": [
        "## Instructions"
      ]
    },
    {
      "cell_type": "markdown",
      "metadata": {
        "id": "RPjNlZiJTrp4"
      },
      "source": [
        "It is recommended that you work in two steps:\n",
        "1. Copy the code from the fastbook notebook and make sure it works\n",
        "2. Refactor (i.e. rewrite the code in your own style) by \n",
        "    - regrouping things together that make sense ro you\n",
        "    - adding text cells to explain what to code does in your own words and possible references to the doc you may have consulsted\n",
        "    - deleting code you think was only there to explain things but are not required once you run models end to end\n",
        "\n",
        "When you have done that, you get a customized reference notebook for you which you can consult later on when you forgot the details, withouht having to read the full notebook from fastbook."
      ]
    },
    {
      "cell_type": "markdown",
      "metadata": {
        "id": "I0HodndDt7ih"
      },
      "source": [
        "## Your code"
      ]
    },
    {
      "cell_type": "code",
      "metadata": {
        "id": "FQ_iZ_G0t9sD",
        "colab": {
          "base_uri": "https://localhost:8080/"
        },
        "outputId": "23add783-65d0-4b8b-9576-5b2071e6d21d"
      },
      "source": [
        "!pip install -Uqq fastbook\n",
        "import fastbook\n",
        "# fastbook.setup_book(bind_drive=False)\n",
        "\n",
        "from fastbook import *\n",
        "from IPython.display import display,HTML"
      ],
      "execution_count": null,
      "outputs": [
        {
          "output_type": "stream",
          "text": [
            "\u001b[K     |████████████████████████████████| 727kB 14.2MB/s \n",
            "\u001b[K     |████████████████████████████████| 1.2MB 27.3MB/s \n",
            "\u001b[K     |████████████████████████████████| 194kB 48.1MB/s \n",
            "\u001b[K     |████████████████████████████████| 51kB 7.3MB/s \n",
            "\u001b[K     |████████████████████████████████| 61kB 8.2MB/s \n",
            "\u001b[K     |████████████████████████████████| 61kB 9.2MB/s \n",
            "\u001b[?25h"
          ],
          "name": "stdout"
        }
      ]
    },
    {
      "cell_type": "code",
      "metadata": {
        "id": "EK0N92VKI8Uf",
        "colab": {
          "base_uri": "https://localhost:8080/",
          "height": 17
        },
        "outputId": "a8fe18cf-dea7-4d9a-dce8-aed29afad1d2"
      },
      "source": [
        "from fastai.text.all import *\n",
        "path = untar_data(URLs.IMDB)"
      ],
      "execution_count": null,
      "outputs": [
        {
          "output_type": "display_data",
          "data": {
            "text/html": [
              ""
            ],
            "text/plain": [
              "<IPython.core.display.HTML object>"
            ]
          },
          "metadata": {
            "tags": []
          }
        }
      ]
    },
    {
      "cell_type": "code",
      "metadata": {
        "colab": {
          "base_uri": "https://localhost:8080/"
        },
        "id": "Cw3BITfXTSKH",
        "outputId": "162a6a31-8712-4271-9fa0-d8a4e4fb4845"
      },
      "source": [
        "path"
      ],
      "execution_count": null,
      "outputs": [
        {
          "output_type": "execute_result",
          "data": {
            "text/plain": [
              "Path('/root/.fastai/data/imdb')"
            ]
          },
          "metadata": {
            "tags": []
          },
          "execution_count": 5
        }
      ]
    },
    {
      "cell_type": "code",
      "metadata": {
        "colab": {
          "base_uri": "https://localhost:8080/"
        },
        "id": "sA_sanE2TYSW",
        "outputId": "312962cc-1386-47e0-c2ec-bcf163206f13"
      },
      "source": [
        "path.absolute()"
      ],
      "execution_count": null,
      "outputs": [
        {
          "output_type": "execute_result",
          "data": {
            "text/plain": [
              "Path('/root/.fastai/data/imdb')"
            ]
          },
          "metadata": {
            "tags": []
          },
          "execution_count": 6
        }
      ]
    },
    {
      "cell_type": "code",
      "metadata": {
        "colab": {
          "base_uri": "https://localhost:8080/"
        },
        "id": "9oce62-WI8p-",
        "outputId": "438276c5-f809-4a35-d85f-4316f96fa11e"
      },
      "source": [
        "# 1. List all the folders under path (using the path.iterdir() method)\n",
        "print(f\"path to dataset: {path.absolute()}\")\n",
        "[f\"{'file:  ' if p.is_file() else 'folder:'} {p.name}\" for p in path.iterdir()]"
      ],
      "execution_count": null,
      "outputs": [
        {
          "output_type": "stream",
          "text": [
            "path to dataset: /root/.fastai/data/imdb\n"
          ],
          "name": "stdout"
        },
        {
          "output_type": "execute_result",
          "data": {
            "text/plain": [
              "['file:   README',\n",
              " 'folder: train',\n",
              " 'folder: tmp_clas',\n",
              " 'folder: unsup',\n",
              " 'folder: tmp_lm',\n",
              " 'folder: test',\n",
              " 'file:   imdb.vocab']"
            ]
          },
          "metadata": {
            "tags": []
          },
          "execution_count": 7
        }
      ]
    },
    {
      "cell_type": "code",
      "metadata": {
        "id": "iBgsrqWNJCZ4",
        "colab": {
          "base_uri": "https://localhost:8080/"
        },
        "outputId": "5b8c7252-a2cf-46df-fb10-49ab9dd79b0f"
      },
      "source": [
        "# 2. Get the full text of README\n",
        "with open(path/'README', mode='r') as f:\n",
        "    txt = f.readlines()\n",
        "print(''.join(txt))"
      ],
      "execution_count": null,
      "outputs": [
        {
          "output_type": "stream",
          "text": [
            "Large Movie Review Dataset v1.0\n",
            "\n",
            "Overview\n",
            "\n",
            "This dataset contains movie reviews along with their associated binary\n",
            "sentiment polarity labels. It is intended to serve as a benchmark for\n",
            "sentiment classification. This document outlines how the dataset was\n",
            "gathered, and how to use the files provided. \n",
            "\n",
            "Dataset \n",
            "\n",
            "The core dataset contains 50,000 reviews split evenly into 25k train\n",
            "and 25k test sets. The overall distribution of labels is balanced (25k\n",
            "pos and 25k neg). We also include an additional 50,000 unlabeled\n",
            "documents for unsupervised learning. \n",
            "\n",
            "In the entire collection, no more than 30 reviews are allowed for any\n",
            "given movie because reviews for the same movie tend to have correlated\n",
            "ratings. Further, the train and test sets contain a disjoint set of\n",
            "movies, so no significant performance is obtained by memorizing\n",
            "movie-unique terms and their associated with observed labels.  In the\n",
            "labeled train/test sets, a negative review has a score <= 4 out of 10,\n",
            "and a positive review has a score >= 7 out of 10. Thus reviews with\n",
            "more neutral ratings are not included in the train/test sets. In the\n",
            "unsupervised set, reviews of any rating are included and there are an\n",
            "even number of reviews > 5 and <= 5.\n",
            "\n",
            "Files\n",
            "\n",
            "There are two top-level directories [train/, test/] corresponding to\n",
            "the training and test sets. Each contains [pos/, neg/] directories for\n",
            "the reviews with binary labels positive and negative. Within these\n",
            "directories, reviews are stored in text files named following the\n",
            "convention [[id]_[rating].txt] where [id] is a unique id and [rating] is\n",
            "the star rating for that review on a 1-10 scale. For example, the file\n",
            "[test/pos/200_8.txt] is the text for a positive-labeled test set\n",
            "example with unique id 200 and star rating 8/10 from IMDb. The\n",
            "[train/unsup/] directory has 0 for all ratings because the ratings are\n",
            "omitted for this portion of the dataset.\n",
            "\n",
            "We also include the IMDb URLs for each review in a separate\n",
            "[urls_[pos, neg, unsup].txt] file. A review with unique id 200 will\n",
            "have its URL on line 200 of this file. Due the ever-changing IMDb, we\n",
            "are unable to link directly to the review, but only to the movie's\n",
            "review page.\n",
            "\n",
            "In addition to the review text files, we include already-tokenized bag\n",
            "of words (BoW) features that were used in our experiments. These \n",
            "are stored in .feat files in the train/test directories. Each .feat\n",
            "file is in LIBSVM format, an ascii sparse-vector format for labeled\n",
            "data.  The feature indices in these files start from 0, and the text\n",
            "tokens corresponding to a feature index is found in [imdb.vocab]. So a\n",
            "line with 0:7 in a .feat file means the first word in [imdb.vocab]\n",
            "(the) appears 7 times in that review.\n",
            "\n",
            "LIBSVM page for details on .feat file format:\n",
            "http://www.csie.ntu.edu.tw/~cjlin/libsvm/\n",
            "\n",
            "We also include [imdbEr.txt] which contains the expected rating for\n",
            "each token in [imdb.vocab] as computed by (Potts, 2011). The expected\n",
            "rating is a good way to get a sense for the average polarity of a word\n",
            "in the dataset.\n",
            "\n",
            "Citing the dataset\n",
            "\n",
            "When using this dataset please cite our ACL 2011 paper which\n",
            "introduces it. This paper also contains classification results which\n",
            "you may want to compare against.\n",
            "\n",
            "\n",
            "@InProceedings{maas-EtAl:2011:ACL-HLT2011,\n",
            "  author    = {Maas, Andrew L.  and  Daly, Raymond E.  and  Pham, Peter T.  and  Huang, Dan  and  Ng, Andrew Y.  and  Potts, Christopher},\n",
            "  title     = {Learning Word Vectors for Sentiment Analysis},\n",
            "  booktitle = {Proceedings of the 49th Annual Meeting of the Association for Computational Linguistics: Human Language Technologies},\n",
            "  month     = {June},\n",
            "  year      = {2011},\n",
            "  address   = {Portland, Oregon, USA},\n",
            "  publisher = {Association for Computational Linguistics},\n",
            "  pages     = {142--150},\n",
            "  url       = {http://www.aclweb.org/anthology/P11-1015}\n",
            "}\n",
            "\n",
            "References\n",
            "\n",
            "Potts, Christopher. 2011. On the negativity of negation. In Nan Li and\n",
            "David Lutz, eds., Proceedings of Semantics and Linguistic Theory 20,\n",
            "636-659.\n",
            "\n",
            "Contact\n",
            "\n",
            "For questions/comments/corrections please contact Andrew Maas\n",
            "amaas@cs.stanford.edu\n",
            "\n"
          ],
          "name": "stdout"
        }
      ]
    },
    {
      "cell_type": "code",
      "metadata": {
        "id": "q2hjrDddJEXw",
        "colab": {
          "base_uri": "https://localhost:8080/",
          "height": 86
        },
        "outputId": "1f9c6063-716b-446c-ff40-48fb6540f0a8"
      },
      "source": [
        "# List the folders and list the files\n",
        "print('Folders:')\n",
        "display([p.name for p in path.iterdir() if p.is_dir()])\n",
        "print('Files:')\n",
        "display([p.name for p in path.iterdir() if p.is_file()])"
      ],
      "execution_count": null,
      "outputs": [
        {
          "output_type": "stream",
          "text": [
            "Folders:\n"
          ],
          "name": "stdout"
        },
        {
          "output_type": "display_data",
          "data": {
            "text/plain": [
              "['train', 'tmp_clas', 'unsup', 'tmp_lm', 'test']"
            ]
          },
          "metadata": {
            "tags": []
          }
        },
        {
          "output_type": "stream",
          "text": [
            "Files:\n"
          ],
          "name": "stdout"
        },
        {
          "output_type": "display_data",
          "data": {
            "text/plain": [
              "['README', 'imdb.vocab']"
            ]
          },
          "metadata": {
            "tags": []
          }
        }
      ]
    },
    {
      "cell_type": "code",
      "metadata": {
        "id": "lxwhnGxyJHhn",
        "colab": {
          "base_uri": "https://localhost:8080/"
        },
        "outputId": "d11e102e-e151-4a29-d91b-97fa7367dab9"
      },
      "source": [
        "# Content of the training set (in train folder), test/validation set (in test folder) and in unsupervised (excluding text files)\n",
        "[p.name for p in (path/'train').iterdir()], [p.name for p in (path/'test').iterdir()], [p.name for p in (path/'unsup').iterdir() if 'txt' not in p.suffix]"
      ],
      "execution_count": null,
      "outputs": [
        {
          "output_type": "execute_result",
          "data": {
            "text/plain": [
              "(['neg', 'pos', 'labeledBow.feat', 'unsupBow.feat'],\n",
              " ['neg', 'pos', 'labeledBow.feat'],\n",
              " [])"
            ]
          },
          "metadata": {
            "tags": []
          },
          "execution_count": 10
        }
      ]
    },
    {
      "cell_type": "code",
      "metadata": {
        "colab": {
          "base_uri": "https://localhost:8080/"
        },
        "id": "AeJ7nbx4UjBH",
        "outputId": "1f7e6080-7c2a-456c-d36e-b7a70aa0077b"
      },
      "source": [
        "# First files for training in the positive review folder (pos) and negative review (neg). As mentioned in read.me the format is id_rating.txt\n",
        "[p.name for p in (path/'train/pos').iterdir()][:5], [p.name for p in (path/'train/neg').iterdir()][:5]"
      ],
      "execution_count": null,
      "outputs": [
        {
          "output_type": "execute_result",
          "data": {
            "text/plain": [
              "(['11302_8.txt', '7374_10.txt', '1971_9.txt', '10207_10.txt', '4016_10.txt'],\n",
              " ['7594_2.txt', '4828_1.txt', '4232_1.txt', '9133_2.txt', '10783_2.txt'])"
            ]
          },
          "metadata": {
            "tags": []
          },
          "execution_count": 11
        }
      ]
    },
    {
      "cell_type": "code",
      "metadata": {
        "colab": {
          "base_uri": "https://localhost:8080/"
        },
        "id": "wc-3G5zWUjmO",
        "outputId": "8c075e4e-0344-4121-b32a-590df3397e90"
      },
      "source": [
        "# First files for testing in the positive review folder (pos) and negative review (neg). As mentioned in read.me the format is id_rating.txt\n",
        "[p.name for p in (path/'test/pos').iterdir()][:5], [p.name for p in (path/'test/neg').iterdir()][:5]"
      ],
      "execution_count": null,
      "outputs": [
        {
          "output_type": "execute_result",
          "data": {
            "text/plain": [
              "(['9667_8.txt', '8396_10.txt', '7150_10.txt', '1561_10.txt', '10207_10.txt'],\n",
              " ['4676_1.txt', '7594_2.txt', '6474_1.txt', '2282_2.txt', '9061_4.txt'])"
            ]
          },
          "metadata": {
            "tags": []
          },
          "execution_count": 12
        }
      ]
    },
    {
      "cell_type": "code",
      "metadata": {
        "colab": {
          "base_uri": "https://localhost:8080/"
        },
        "id": "i7IAUJ3zUsdY",
        "outputId": "37807b70-a198-4044-ffb8-a67605ab149f"
      },
      "source": [
        "# First files in unsup folder (pos). As mentioned in read.me the format is id_rating.txt, where rating is 0\n",
        "[p.name for p in (path/'unsup').iterdir()][:5]"
      ],
      "execution_count": null,
      "outputs": [
        {
          "output_type": "execute_result",
          "data": {
            "text/plain": [
              "['5123_0.txt', '24961_0.txt', '7179_0.txt', '37452_0.txt', '27840_0.txt']"
            ]
          },
          "metadata": {
            "tags": []
          },
          "execution_count": 13
        }
      ]
    },
    {
      "cell_type": "code",
      "metadata": {
        "colab": {
          "base_uri": "https://localhost:8080/"
        },
        "id": "uOP3fc3KU2Vg",
        "outputId": "a5e20d8e-fceb-47f0-9d13-05e80ab2d421"
      },
      "source": [
        "files = get_text_files(path, folders = ['train', 'test', 'unsup'])\n",
        "files"
      ],
      "execution_count": null,
      "outputs": [
        {
          "output_type": "execute_result",
          "data": {
            "text/plain": [
              "(#100000) [Path('/root/.fastai/data/imdb/train/neg/7594_2.txt'),Path('/root/.fastai/data/imdb/train/neg/4828_1.txt'),Path('/root/.fastai/data/imdb/train/neg/4232_1.txt'),Path('/root/.fastai/data/imdb/train/neg/9133_2.txt'),Path('/root/.fastai/data/imdb/train/neg/10783_2.txt'),Path('/root/.fastai/data/imdb/train/neg/9061_4.txt'),Path('/root/.fastai/data/imdb/train/neg/5695_1.txt'),Path('/root/.fastai/data/imdb/train/neg/8920_1.txt'),Path('/root/.fastai/data/imdb/train/neg/6956_2.txt'),Path('/root/.fastai/data/imdb/train/neg/10118_4.txt')...]"
            ]
          },
          "metadata": {
            "tags": []
          },
          "execution_count": 14
        }
      ]
    },
    {
      "cell_type": "code",
      "metadata": {
        "colab": {
          "base_uri": "https://localhost:8080/"
        },
        "id": "lGU5Ld6mVLvB",
        "outputId": "72fc6121-4c6b-4085-8a94-61d9fe6273d6"
      },
      "source": [
        "len(files)"
      ],
      "execution_count": null,
      "outputs": [
        {
          "output_type": "execute_result",
          "data": {
            "text/plain": [
              "100000"
            ]
          },
          "metadata": {
            "tags": []
          },
          "execution_count": 15
        }
      ]
    },
    {
      "cell_type": "markdown",
      "metadata": {
        "id": "0JLNL0jog6Ev"
      },
      "source": [
        "Tokenization"
      ]
    },
    {
      "cell_type": "code",
      "metadata": {
        "colab": {
          "base_uri": "https://localhost:8080/",
          "height": 53
        },
        "id": "-yeX2CJNVvD3",
        "outputId": "9fc5fdda-f5ba-4e0a-e082-d5ff2d19739f"
      },
      "source": [
        "txt = files[1].open().read()\n",
        "txt[:150]"
      ],
      "execution_count": null,
      "outputs": [
        {
          "output_type": "execute_result",
          "data": {
            "application/vnd.google.colaboratory.intrinsic+json": {
              "type": "string"
            },
            "text/plain": [
              "'I picked up TRAN SCAN from the library and brought it home. We have considered taking a trip out east and thought it would give us a feel of what it w'"
            ]
          },
          "metadata": {
            "tags": []
          },
          "execution_count": 16
        }
      ]
    },
    {
      "cell_type": "code",
      "metadata": {
        "colab": {
          "base_uri": "https://localhost:8080/"
        },
        "id": "KDdcG-0kXEQw",
        "outputId": "4ef9c3ff-1d9d-4ed9-c793-2669edf56980"
      },
      "source": [
        "spacy = WordTokenizer()\n",
        "toks = first(spacy([txt]))\n",
        "print(coll_repr(toks, 30))"
      ],
      "execution_count": null,
      "outputs": [
        {
          "output_type": "stream",
          "text": [
            "(#257) ['I','picked','up','TRAN','SCAN','from','the','library','and','brought','it','home','.','We','have','considered','taking','a','trip','out','east','and','thought','it','would','give','us','a','feel','of'...]\n"
          ],
          "name": "stdout"
        }
      ]
    },
    {
      "cell_type": "code",
      "metadata": {
        "colab": {
          "base_uri": "https://localhost:8080/"
        },
        "id": "5GqkUi6RHSF_",
        "outputId": "abc9ae13-4f4a-48dd-ec97-928811da49dc"
      },
      "source": [
        "len(toks)"
      ],
      "execution_count": null,
      "outputs": [
        {
          "output_type": "execute_result",
          "data": {
            "text/plain": [
              "257"
            ]
          },
          "metadata": {
            "tags": []
          },
          "execution_count": 18
        }
      ]
    },
    {
      "cell_type": "code",
      "metadata": {
        "colab": {
          "base_uri": "https://localhost:8080/"
        },
        "id": "WuZEv8mTYTjo",
        "outputId": "7cde386c-ff3d-42f3-df8a-dc564060c82d"
      },
      "source": [
        "first(spacy(['The U.S. dollar $1 is $1.00.']))"
      ],
      "execution_count": null,
      "outputs": [
        {
          "output_type": "execute_result",
          "data": {
            "text/plain": [
              "(#9) ['The','U.S.','dollar','$','1','is','$','1.00','.']"
            ]
          },
          "metadata": {
            "tags": []
          },
          "execution_count": 19
        }
      ]
    },
    {
      "cell_type": "code",
      "metadata": {
        "colab": {
          "base_uri": "https://localhost:8080/"
        },
        "id": "mUa9ID5mb-dQ",
        "outputId": "18032301-6025-4df7-a4d0-80e38ad8e26b"
      },
      "source": [
        "tkn = Tokenizer(spacy)\n",
        "print(coll_repr(tkn('The U.S. dollar $1 is $1.00.'),20))"
      ],
      "execution_count": null,
      "outputs": [
        {
          "output_type": "stream",
          "text": [
            "(#13) ['xxbos','xxmaj','the','xxup','u.s','.','dollar','$','1','is','$','1.00','.']\n"
          ],
          "name": "stdout"
        }
      ]
    },
    {
      "cell_type": "code",
      "metadata": {
        "colab": {
          "base_uri": "https://localhost:8080/"
        },
        "id": "DEtAUz9ncLs5",
        "outputId": "14aeae31-12e4-49f4-f9c7-879157203f8d"
      },
      "source": [
        "tkn = Tokenizer(spacy)\n",
        "print(coll_repr(tkn(txt), 31))"
      ],
      "execution_count": null,
      "outputs": [
        {
          "output_type": "stream",
          "text": [
            "(#288) ['xxbos','i','picked','up','xxup','tran','xxup','scan','from','the','library','and','brought','it','home','.','xxmaj','we','have','considered','taking','a','trip','out','east','and','thought','it','would','give','us'...]\n"
          ],
          "name": "stdout"
        }
      ]
    },
    {
      "cell_type": "code",
      "metadata": {
        "colab": {
          "base_uri": "https://localhost:8080/"
        },
        "id": "HY8AHYXTcQY6",
        "outputId": "365a05db-40f0-41b5-bd7b-0b2be8a82229"
      },
      "source": [
        "defaults.text_proc_rules"
      ],
      "execution_count": null,
      "outputs": [
        {
          "output_type": "execute_result",
          "data": {
            "text/plain": [
              "[<function fastai.text.core.fix_html>,\n",
              " <function fastai.text.core.replace_rep>,\n",
              " <function fastai.text.core.replace_wrep>,\n",
              " <function fastai.text.core.spec_add_spaces>,\n",
              " <function fastai.text.core.rm_useless_spaces>,\n",
              " <function fastai.text.core.replace_all_caps>,\n",
              " <function fastai.text.core.replace_maj>,\n",
              " <function fastai.text.core.lowercase>]"
            ]
          },
          "metadata": {
            "tags": []
          },
          "execution_count": 22
        }
      ]
    },
    {
      "cell_type": "code",
      "metadata": {
        "id": "bVDy03nZc8sT"
      },
      "source": [
        "replace_rep??"
      ],
      "execution_count": null,
      "outputs": []
    },
    {
      "cell_type": "code",
      "metadata": {
        "colab": {
          "base_uri": "https://localhost:8080/",
          "height": 35
        },
        "id": "NnWd9r56c_ia",
        "outputId": "4d84ecf1-b607-47e3-b0e7-b9b4ca404247"
      },
      "source": [
        "coll_repr(tkn('&copy;   Fast.ai www.fast.ai/INDEX'), 31)"
      ],
      "execution_count": null,
      "outputs": [
        {
          "output_type": "execute_result",
          "data": {
            "application/vnd.google.colaboratory.intrinsic+json": {
              "type": "string"
            },
            "text/plain": [
              "\"(#11) ['xxbos','©','xxmaj','fast.ai','xxrep','3','w','.fast.ai','/','xxup','index']\""
            ]
          },
          "metadata": {
            "tags": []
          },
          "execution_count": 24
        }
      ]
    },
    {
      "cell_type": "code",
      "metadata": {
        "colab": {
          "base_uri": "https://localhost:8080/"
        },
        "id": "Z81FB86QjkvT",
        "outputId": "a75cfbaa-2459-4656-8885-2b10b578ce29"
      },
      "source": [
        "spacy([txt])"
      ],
      "execution_count": null,
      "outputs": [
        {
          "output_type": "execute_result",
          "data": {
            "text/plain": [
              "<generator object SpacyTokenizer.__call__.<locals>.<genexpr> at 0x7fa572dad850>"
            ]
          },
          "metadata": {
            "tags": []
          },
          "execution_count": 25
        }
      ]
    },
    {
      "cell_type": "code",
      "metadata": {
        "colab": {
          "base_uri": "https://localhost:8080/"
        },
        "id": "rzh9g9Qfj5i6",
        "outputId": "3217244d-770e-4e1a-fb68-a5cbb741e9b1"
      },
      "source": [
        "tokens = spacy([txt])\n",
        "tokens"
      ],
      "execution_count": null,
      "outputs": [
        {
          "output_type": "execute_result",
          "data": {
            "text/plain": [
              "<generator object SpacyTokenizer.__call__.<locals>.<genexpr> at 0x7fa572dade50>"
            ]
          },
          "metadata": {
            "tags": []
          },
          "execution_count": 26
        }
      ]
    },
    {
      "cell_type": "code",
      "metadata": {
        "colab": {
          "base_uri": "https://localhost:8080/"
        },
        "id": "9OigLzH2jyzi",
        "outputId": "78e26e7e-8796-4b47-aa5b-176a66bd312c"
      },
      "source": [
        "next(tokens, None)"
      ],
      "execution_count": null,
      "outputs": [
        {
          "output_type": "execute_result",
          "data": {
            "text/plain": [
              "(#257) ['I','picked','up','TRAN','SCAN','from','the','library','and','brought'...]"
            ]
          },
          "metadata": {
            "tags": []
          },
          "execution_count": 27
        }
      ]
    },
    {
      "cell_type": "code",
      "metadata": {
        "colab": {
          "base_uri": "https://localhost:8080/"
        },
        "id": "22fPC3lvj7WX",
        "outputId": "4fb6e6d4-c686-4fc7-c6f2-e962326e0bfd"
      },
      "source": [
        "tokens = spacy([txt])\n",
        "first(tokens)"
      ],
      "execution_count": null,
      "outputs": [
        {
          "output_type": "execute_result",
          "data": {
            "text/plain": [
              "(#257) ['I','picked','up','TRAN','SCAN','from','the','library','and','brought'...]"
            ]
          },
          "metadata": {
            "tags": []
          },
          "execution_count": 28
        }
      ]
    },
    {
      "cell_type": "code",
      "metadata": {
        "colab": {
          "base_uri": "https://localhost:8080/",
          "height": 190
        },
        "id": "X77LuxTOkCGS",
        "outputId": "5f78a650-c41d-4337-97c5-5c31fa3e3bb9"
      },
      "source": [
        "tokens = spacy([txt])\n",
        "display(tokens)\n",
        "\n",
        "tokens = spacy([txt])\n",
        "display(next(tokens, None))\n",
        "\n",
        "tokens = spacy([txt])\n",
        "display(first(tokens))\n",
        "\n",
        "txt0 = files[0].open().read()\n",
        "print(1, ': ', txt0[0:90])\n",
        "\n",
        "txt1 = files[1].open().read()\n",
        "print(2, ': ', txt1[0:90])\n",
        "\n",
        "txt2 = files[2].open().read()\n",
        "print(3, ': ', txt2[0:90])\n",
        "\n",
        "txt_collection = [txt0, txt1, txt2]\n",
        "toks_collection = spacy(txt_collection)\n",
        "\n",
        "print(\"\")\n",
        "display(first(toks_collection))\n",
        "display(first(toks_collection))\n",
        "display(first(toks_collection))"
      ],
      "execution_count": null,
      "outputs": [
        {
          "output_type": "display_data",
          "data": {
            "text/plain": [
              "<generator object SpacyTokenizer.__call__.<locals>.<genexpr> at 0x7fa572dadbd0>"
            ]
          },
          "metadata": {
            "tags": []
          }
        },
        {
          "output_type": "display_data",
          "data": {
            "text/plain": [
              "(#257) ['I','picked','up','TRAN','SCAN','from','the','library','and','brought'...]"
            ]
          },
          "metadata": {
            "tags": []
          }
        },
        {
          "output_type": "display_data",
          "data": {
            "text/plain": [
              "(#257) ['I','picked','up','TRAN','SCAN','from','the','library','and','brought'...]"
            ]
          },
          "metadata": {
            "tags": []
          }
        },
        {
          "output_type": "stream",
          "text": [
            "1 :  Given the history of the director of this movie, it is hard to believe that this was such \n",
            "2 :  I picked up TRAN SCAN from the library and brought it home. We have considered taking a tr\n",
            "3 :  Karl Jr and his dad are now running an army on a remote island. They capture a trio of guy\n",
            "\n"
          ],
          "name": "stdout"
        },
        {
          "output_type": "display_data",
          "data": {
            "text/plain": [
              "(#310) ['Given','the','history','of','the','director','of','this','movie',','...]"
            ]
          },
          "metadata": {
            "tags": []
          }
        },
        {
          "output_type": "display_data",
          "data": {
            "text/plain": [
              "(#257) ['I','picked','up','TRAN','SCAN','from','the','library','and','brought'...]"
            ]
          },
          "metadata": {
            "tags": []
          }
        },
        {
          "output_type": "display_data",
          "data": {
            "text/plain": [
              "(#197) ['Karl','Jr','and','his','dad','are','now','running','an','army'...]"
            ]
          },
          "metadata": {
            "tags": []
          }
        }
      ]
    },
    {
      "cell_type": "markdown",
      "metadata": {
        "id": "6OEvpKgMg-7M"
      },
      "source": [
        "Subword Tokenization"
      ]
    },
    {
      "cell_type": "code",
      "metadata": {
        "id": "rnHnGNXLkND_"
      },
      "source": [
        "txts = L(o.open().read() for o in files[:2000])"
      ],
      "execution_count": null,
      "outputs": []
    },
    {
      "cell_type": "code",
      "metadata": {
        "colab": {
          "base_uri": "https://localhost:8080/",
          "height": 191
        },
        "id": "ypRWwSgnw0Wp",
        "outputId": "c593feb0-6caf-4cc2-ff1b-693246a575c2"
      },
      "source": [
        "txts[0]"
      ],
      "execution_count": null,
      "outputs": [
        {
          "output_type": "execute_result",
          "data": {
            "application/vnd.google.colaboratory.intrinsic+json": {
              "type": "string"
            },
            "text/plain": [
              "'Given the history of the director of this movie, it is hard to believe that this was such a painfully bad movie to sit through. I was at the European premiere last night and one of the Executive Producers was there. He was yet to see the movie and, boy, was he in for a surprise. I have not read the book that this is based upon, nor do I know if it highly rated or appreciated, but I have read \"Captain Correlli\\'s Mandolin\" and given how poorly that was adapted for screen and how bad this movie was, I can only presume that something similar has happened here. The acting wasn\\'t bad albeit that there were a couple-too-many raised eyebrows from Farrell. Honestly, I can\\'t believed how little I cared for any character in this movie. Situations play out on the screen in an empty sequence of nothingness. Donald Sutherland\\'s part comprises a few scenes where he opens a door, says something and closes it again. I kept looking at my watch when I wasn\\'t cringing at the dialogue on the screen. I have never walked out on a movie but I was tempted to start during this. I gave this movie a score of \\'2\\' for reasons which seem horrendously shallow to me but these are the best things that I can say about this movie. The first is that I really enjoyed the all-too-short earthquake scene and the second is that Salma Hayek got naked and looked beautiful. I can say little else positive about this movie. Don\\'t ask the dust anything, it can\\'t talk!'"
            ]
          },
          "metadata": {
            "tags": []
          },
          "execution_count": 31
        }
      ]
    },
    {
      "cell_type": "code",
      "metadata": {
        "id": "2cn3mAbtlY9T"
      },
      "source": [
        "def subword(sz):\n",
        "    sp = SubwordTokenizer(vocab_sz=sz)\n",
        "    sp.setup(txts)\n",
        "    return ' '.join(first(sp([txt]))[:40])"
      ],
      "execution_count": null,
      "outputs": []
    },
    {
      "cell_type": "code",
      "metadata": {
        "colab": {
          "base_uri": "https://localhost:8080/",
          "height": 53
        },
        "id": "cqOxxPd2liqY",
        "outputId": "9cf47cd7-e959-4ee7-a674-0324109c1627"
      },
      "source": [
        "subword(1000)"
      ],
      "execution_count": null,
      "outputs": [
        {
          "output_type": "display_data",
          "data": {
            "text/html": [
              ""
            ],
            "text/plain": [
              "<IPython.core.display.HTML object>"
            ]
          },
          "metadata": {
            "tags": []
          }
        },
        {
          "output_type": "execute_result",
          "data": {
            "application/vnd.google.colaboratory.intrinsic+json": {
              "type": "string"
            },
            "text/plain": [
              "'▁I ▁p ick ed ▁up ▁T R AN ▁S C AN ▁from ▁the ▁li br ary ▁and ▁ br ough t ▁it ▁home . ▁W e ▁have ▁consider ed ▁ta k ing ▁a ▁tri p ▁out ▁e as t ▁and'"
            ]
          },
          "metadata": {
            "tags": []
          },
          "execution_count": 33
        }
      ]
    },
    {
      "cell_type": "code",
      "metadata": {
        "colab": {
          "base_uri": "https://localhost:8080/",
          "height": 53
        },
        "id": "ReHs5NcMlkgA",
        "outputId": "8709c8eb-8fe4-4a54-c6aa-3a8a1a26ffa7"
      },
      "source": [
        "subword(200)"
      ],
      "execution_count": null,
      "outputs": [
        {
          "output_type": "display_data",
          "data": {
            "text/html": [
              ""
            ],
            "text/plain": [
              "<IPython.core.display.HTML object>"
            ]
          },
          "metadata": {
            "tags": []
          }
        },
        {
          "output_type": "execute_result",
          "data": {
            "application/vnd.google.colaboratory.intrinsic+json": {
              "type": "string"
            },
            "text/plain": [
              "'▁I ▁p i ck ed ▁ u p ▁ T R A N ▁S C A N ▁f ro m ▁the ▁ li br ar y ▁and ▁b ro u g h t ▁it ▁h o m e . ▁'"
            ]
          },
          "metadata": {
            "tags": []
          },
          "execution_count": 34
        }
      ]
    },
    {
      "cell_type": "code",
      "metadata": {
        "colab": {
          "base_uri": "https://localhost:8080/",
          "height": 70
        },
        "id": "btvFuhh6lpJP",
        "outputId": "680d5bbc-0a87-4595-fbc1-757266d0f982"
      },
      "source": [
        "subword(10000)"
      ],
      "execution_count": null,
      "outputs": [
        {
          "output_type": "display_data",
          "data": {
            "text/html": [
              ""
            ],
            "text/plain": [
              "<IPython.core.display.HTML object>"
            ]
          },
          "metadata": {
            "tags": []
          }
        },
        {
          "output_type": "execute_result",
          "data": {
            "application/vnd.google.colaboratory.intrinsic+json": {
              "type": "string"
            },
            "text/plain": [
              "'▁I ▁pick ed ▁up ▁TRAN ▁SC AN ▁from ▁the ▁library ▁and ▁brough t ▁it ▁home . ▁We ▁have ▁considered ▁ taking ▁a ▁trip ▁out ▁ east ▁and ▁thought ▁it ▁would ▁give ▁us ▁a ▁feel ▁of ▁what ▁it ▁was ▁like .'"
            ]
          },
          "metadata": {
            "tags": []
          },
          "execution_count": 35
        }
      ]
    },
    {
      "cell_type": "markdown",
      "metadata": {
        "id": "o-XJhwrqyhys"
      },
      "source": [
        "Numericalization with fastai"
      ]
    },
    {
      "cell_type": "code",
      "metadata": {
        "colab": {
          "base_uri": "https://localhost:8080/"
        },
        "id": "kSaMeqcKls_Z",
        "outputId": "117a4f72-6ac9-42a3-e866-6c8761a745d5"
      },
      "source": [
        "toks = tkn(txt)\n",
        "print(coll_repr(tkn(txt), 31))"
      ],
      "execution_count": null,
      "outputs": [
        {
          "output_type": "stream",
          "text": [
            "(#288) ['xxbos','i','picked','up','xxup','tran','xxup','scan','from','the','library','and','brought','it','home','.','xxmaj','we','have','considered','taking','a','trip','out','east','and','thought','it','would','give','us'...]\n"
          ],
          "name": "stdout"
        }
      ]
    },
    {
      "cell_type": "code",
      "metadata": {
        "colab": {
          "base_uri": "https://localhost:8080/"
        },
        "id": "UZVpnLT-mH3d",
        "outputId": "bdce57e2-cd6d-4de9-9ffa-d9e67cd95a81"
      },
      "source": [
        "toks200 = txts[:200].map(tkn)\n",
        "toks200[0]"
      ],
      "execution_count": null,
      "outputs": [
        {
          "output_type": "execute_result",
          "data": {
            "text/plain": [
              "(#328) ['xxbos','xxmaj','given','the','history','of','the','director','of','this'...]"
            ]
          },
          "metadata": {
            "tags": []
          },
          "execution_count": 37
        }
      ]
    },
    {
      "cell_type": "code",
      "metadata": {
        "colab": {
          "base_uri": "https://localhost:8080/",
          "height": 53
        },
        "id": "KjA-6gG8mL0I",
        "outputId": "6d760df1-edb1-4ff6-e501-013a45f2007f"
      },
      "source": [
        "num = Numericalize()\n",
        "num.setup(toks200)\n",
        "coll_repr(num.vocab,20)"
      ],
      "execution_count": null,
      "outputs": [
        {
          "output_type": "execute_result",
          "data": {
            "application/vnd.google.colaboratory.intrinsic+json": {
              "type": "string"
            },
            "text/plain": [
              "\"(#1960) ['xxunk','xxpad','xxbos','xxeos','xxfld','xxrep','xxwrep','xxup','xxmaj','the','.',',','a','and','of','to','it','is','i','in'...]\""
            ]
          },
          "metadata": {
            "tags": []
          },
          "execution_count": 38
        }
      ]
    },
    {
      "cell_type": "code",
      "metadata": {
        "colab": {
          "base_uri": "https://localhost:8080/"
        },
        "id": "-mo2Q6XjmPi3",
        "outputId": "c9c70b16-6374-473e-fa00-8611871aa87c"
      },
      "source": [
        "nums = num(toks)[:20]\n",
        "nums"
      ],
      "execution_count": null,
      "outputs": [
        {
          "output_type": "execute_result",
          "data": {
            "text/plain": [
              "TensorText([   2,   18,  947,   87,    7,    0,    7,    0,   62,    9,    0,   13, 1446,   16,  380,   10,    8,  100,   39, 1447])"
            ]
          },
          "metadata": {
            "tags": []
          },
          "execution_count": 39
        }
      ]
    },
    {
      "cell_type": "code",
      "metadata": {
        "colab": {
          "base_uri": "https://localhost:8080/",
          "height": 35
        },
        "id": "9-sKtPDTmeEE",
        "outputId": "6e96c0aa-637b-4082-a6d1-7244bc38d3eb"
      },
      "source": [
        "' '.join(num.vocab[o] for o in nums)"
      ],
      "execution_count": null,
      "outputs": [
        {
          "output_type": "execute_result",
          "data": {
            "application/vnd.google.colaboratory.intrinsic+json": {
              "type": "string"
            },
            "text/plain": [
              "'xxbos i picked up xxup xxunk xxup xxunk from the xxunk and brought it home . xxmaj we have considered'"
            ]
          },
          "metadata": {
            "tags": []
          },
          "execution_count": 40
        }
      ]
    },
    {
      "cell_type": "markdown",
      "metadata": {
        "id": "yBqdZAOU0UWy"
      },
      "source": [
        "Putting Our Texts into Batches for a Language Model"
      ]
    },
    {
      "cell_type": "code",
      "metadata": {
        "id": "dascfmAH4VhH"
      },
      "source": [
        "stream = \"In this chapter, we will go back over the example of classifying movie reviews we studied in chapter 1 and dig deeper under the surface. First we will look at the processing steps necessary to convert text into numbers and how to customize it. By doing this, we'll have another example of the PreProcessor used in the data block API.\\nThen we will study how we build a language model and train it for a while.\"\n",
        "tokens = tkn(stream)"
      ],
      "execution_count": null,
      "outputs": []
    },
    {
      "cell_type": "code",
      "metadata": {
        "colab": {
          "base_uri": "https://localhost:8080/"
        },
        "id": "_ZcTiAe84XaK",
        "outputId": "ae344202-9b4a-4a91-8a45-0c84b3be5b9a"
      },
      "source": [
        "tokens"
      ],
      "execution_count": null,
      "outputs": [
        {
          "output_type": "execute_result",
          "data": {
            "text/plain": [
              "(#90) ['xxbos','xxmaj','in','this','chapter',',','we','will','go','back'...]"
            ]
          },
          "metadata": {
            "tags": []
          },
          "execution_count": 42
        }
      ]
    },
    {
      "cell_type": "code",
      "metadata": {
        "id": "7jvW410m4Z_h"
      },
      "source": [
        "bs, seq_len = 6, 15"
      ],
      "execution_count": null,
      "outputs": []
    },
    {
      "cell_type": "code",
      "metadata": {
        "id": "mF4naTpJ4cAh"
      },
      "source": [
        "d_tokens = np.array([tokens[i*seq_len:(i+1)*seq_len] for i in range(bs)])"
      ],
      "execution_count": null,
      "outputs": []
    },
    {
      "cell_type": "code",
      "metadata": {
        "colab": {
          "base_uri": "https://localhost:8080/"
        },
        "id": "Ws9YUXBi4fE1",
        "outputId": "9ab111ad-36e5-409e-ebc4-614d6cfb7434"
      },
      "source": [
        "d_tokens"
      ],
      "execution_count": null,
      "outputs": [
        {
          "output_type": "execute_result",
          "data": {
            "text/plain": [
              "array([['xxbos', 'xxmaj', 'in', 'this', 'chapter', ',', 'we', 'will', 'go', 'back', 'over', 'the', 'example', 'of', 'classifying'],\n",
              "       ['movie', 'reviews', 'we', 'studied', 'in', 'chapter', '1', 'and', 'dig', 'deeper', 'under', 'the', 'surface', '.', 'xxmaj'],\n",
              "       ['first', 'we', 'will', 'look', 'at', 'the', 'processing', 'steps', 'necessary', 'to', 'convert', 'text', 'into', 'numbers', 'and'],\n",
              "       ['how', 'to', 'customize', 'it', '.', 'xxmaj', 'by', 'doing', 'this', ',', 'we', \"'ll\", 'have', 'another', 'example'],\n",
              "       ['of', 'the', 'preprocessor', 'used', 'in', 'the', 'data', 'block', 'xxup', 'api', '.', '\\n', 'xxmaj', 'then', 'we'],\n",
              "       ['will', 'study', 'how', 'we', 'build', 'a', 'language', 'model', 'and', 'train', 'it', 'for', 'a', 'while', '.']], dtype='<U12')"
            ]
          },
          "metadata": {
            "tags": []
          },
          "execution_count": 45
        }
      ]
    },
    {
      "cell_type": "code",
      "metadata": {
        "colab": {
          "base_uri": "https://localhost:8080/",
          "height": 225
        },
        "id": "sunpvhAS0Wa0",
        "outputId": "ba0f997e-3835-4357-954a-9f9980cf909f"
      },
      "source": [
        "df = pd.DataFrame(d_tokens)\n",
        "\n",
        "display(HTML(df.to_html(index=False,header=None)))"
      ],
      "execution_count": null,
      "outputs": [
        {
          "output_type": "display_data",
          "data": {
            "text/html": [
              "<table border=\"1\" class=\"dataframe\">\n",
              "  <tbody>\n",
              "    <tr>\n",
              "      <td>xxbos</td>\n",
              "      <td>xxmaj</td>\n",
              "      <td>in</td>\n",
              "      <td>this</td>\n",
              "      <td>chapter</td>\n",
              "      <td>,</td>\n",
              "      <td>we</td>\n",
              "      <td>will</td>\n",
              "      <td>go</td>\n",
              "      <td>back</td>\n",
              "      <td>over</td>\n",
              "      <td>the</td>\n",
              "      <td>example</td>\n",
              "      <td>of</td>\n",
              "      <td>classifying</td>\n",
              "    </tr>\n",
              "    <tr>\n",
              "      <td>movie</td>\n",
              "      <td>reviews</td>\n",
              "      <td>we</td>\n",
              "      <td>studied</td>\n",
              "      <td>in</td>\n",
              "      <td>chapter</td>\n",
              "      <td>1</td>\n",
              "      <td>and</td>\n",
              "      <td>dig</td>\n",
              "      <td>deeper</td>\n",
              "      <td>under</td>\n",
              "      <td>the</td>\n",
              "      <td>surface</td>\n",
              "      <td>.</td>\n",
              "      <td>xxmaj</td>\n",
              "    </tr>\n",
              "    <tr>\n",
              "      <td>first</td>\n",
              "      <td>we</td>\n",
              "      <td>will</td>\n",
              "      <td>look</td>\n",
              "      <td>at</td>\n",
              "      <td>the</td>\n",
              "      <td>processing</td>\n",
              "      <td>steps</td>\n",
              "      <td>necessary</td>\n",
              "      <td>to</td>\n",
              "      <td>convert</td>\n",
              "      <td>text</td>\n",
              "      <td>into</td>\n",
              "      <td>numbers</td>\n",
              "      <td>and</td>\n",
              "    </tr>\n",
              "    <tr>\n",
              "      <td>how</td>\n",
              "      <td>to</td>\n",
              "      <td>customize</td>\n",
              "      <td>it</td>\n",
              "      <td>.</td>\n",
              "      <td>xxmaj</td>\n",
              "      <td>by</td>\n",
              "      <td>doing</td>\n",
              "      <td>this</td>\n",
              "      <td>,</td>\n",
              "      <td>we</td>\n",
              "      <td>'ll</td>\n",
              "      <td>have</td>\n",
              "      <td>another</td>\n",
              "      <td>example</td>\n",
              "    </tr>\n",
              "    <tr>\n",
              "      <td>of</td>\n",
              "      <td>the</td>\n",
              "      <td>preprocessor</td>\n",
              "      <td>used</td>\n",
              "      <td>in</td>\n",
              "      <td>the</td>\n",
              "      <td>data</td>\n",
              "      <td>block</td>\n",
              "      <td>xxup</td>\n",
              "      <td>api</td>\n",
              "      <td>.</td>\n",
              "      <td>\\n</td>\n",
              "      <td>xxmaj</td>\n",
              "      <td>then</td>\n",
              "      <td>we</td>\n",
              "    </tr>\n",
              "    <tr>\n",
              "      <td>will</td>\n",
              "      <td>study</td>\n",
              "      <td>how</td>\n",
              "      <td>we</td>\n",
              "      <td>build</td>\n",
              "      <td>a</td>\n",
              "      <td>language</td>\n",
              "      <td>model</td>\n",
              "      <td>and</td>\n",
              "      <td>train</td>\n",
              "      <td>it</td>\n",
              "      <td>for</td>\n",
              "      <td>a</td>\n",
              "      <td>while</td>\n",
              "      <td>.</td>\n",
              "    </tr>\n",
              "  </tbody>\n",
              "</table>"
            ],
            "text/plain": [
              "<IPython.core.display.HTML object>"
            ]
          },
          "metadata": {
            "tags": []
          }
        }
      ]
    },
    {
      "cell_type": "code",
      "metadata": {
        "colab": {
          "base_uri": "https://localhost:8080/",
          "height": 205
        },
        "id": "ypoIjvEl4pYE",
        "outputId": "745286bd-3754-4aa4-fbb5-5add08478822"
      },
      "source": [
        "bs,seq_len = 6, 5\n",
        "d_tokens = np.array([tokens[i*15:i*15+seq_len] for i in range(bs)])\n",
        "df = pd.DataFrame(d_tokens)\n",
        "display(HTML(df.to_html(index=False,header=None)))"
      ],
      "execution_count": null,
      "outputs": [
        {
          "output_type": "display_data",
          "data": {
            "text/html": [
              "<table border=\"1\" class=\"dataframe\">\n",
              "  <tbody>\n",
              "    <tr>\n",
              "      <td>xxbos</td>\n",
              "      <td>xxmaj</td>\n",
              "      <td>in</td>\n",
              "      <td>this</td>\n",
              "      <td>chapter</td>\n",
              "    </tr>\n",
              "    <tr>\n",
              "      <td>movie</td>\n",
              "      <td>reviews</td>\n",
              "      <td>we</td>\n",
              "      <td>studied</td>\n",
              "      <td>in</td>\n",
              "    </tr>\n",
              "    <tr>\n",
              "      <td>first</td>\n",
              "      <td>we</td>\n",
              "      <td>will</td>\n",
              "      <td>look</td>\n",
              "      <td>at</td>\n",
              "    </tr>\n",
              "    <tr>\n",
              "      <td>how</td>\n",
              "      <td>to</td>\n",
              "      <td>customize</td>\n",
              "      <td>it</td>\n",
              "      <td>.</td>\n",
              "    </tr>\n",
              "    <tr>\n",
              "      <td>of</td>\n",
              "      <td>the</td>\n",
              "      <td>preprocessor</td>\n",
              "      <td>used</td>\n",
              "      <td>in</td>\n",
              "    </tr>\n",
              "    <tr>\n",
              "      <td>will</td>\n",
              "      <td>study</td>\n",
              "      <td>how</td>\n",
              "      <td>we</td>\n",
              "      <td>build</td>\n",
              "    </tr>\n",
              "  </tbody>\n",
              "</table>"
            ],
            "text/plain": [
              "<IPython.core.display.HTML object>"
            ]
          },
          "metadata": {
            "tags": []
          }
        }
      ]
    },
    {
      "cell_type": "code",
      "metadata": {
        "colab": {
          "base_uri": "https://localhost:8080/",
          "height": 205
        },
        "id": "29ojPRx98VMI",
        "outputId": "bc11a8a9-e9ec-4ea2-da1a-6fc4824a1514"
      },
      "source": [
        "bs, seq_len = 6, 5\n",
        "d_tokens = np.array([tokens[i*15+seq_len:i*15+2*seq_len] for i in range(bs)])\n",
        "df = pd.DataFrame(d_tokens)\n",
        "display(HTML(df.to_html(index=False,header=None)))"
      ],
      "execution_count": null,
      "outputs": [
        {
          "output_type": "display_data",
          "data": {
            "text/html": [
              "<table border=\"1\" class=\"dataframe\">\n",
              "  <tbody>\n",
              "    <tr>\n",
              "      <td>,</td>\n",
              "      <td>we</td>\n",
              "      <td>will</td>\n",
              "      <td>go</td>\n",
              "      <td>back</td>\n",
              "    </tr>\n",
              "    <tr>\n",
              "      <td>chapter</td>\n",
              "      <td>1</td>\n",
              "      <td>and</td>\n",
              "      <td>dig</td>\n",
              "      <td>deeper</td>\n",
              "    </tr>\n",
              "    <tr>\n",
              "      <td>the</td>\n",
              "      <td>processing</td>\n",
              "      <td>steps</td>\n",
              "      <td>necessary</td>\n",
              "      <td>to</td>\n",
              "    </tr>\n",
              "    <tr>\n",
              "      <td>xxmaj</td>\n",
              "      <td>by</td>\n",
              "      <td>doing</td>\n",
              "      <td>this</td>\n",
              "      <td>,</td>\n",
              "    </tr>\n",
              "    <tr>\n",
              "      <td>the</td>\n",
              "      <td>data</td>\n",
              "      <td>block</td>\n",
              "      <td>xxup</td>\n",
              "      <td>api</td>\n",
              "    </tr>\n",
              "    <tr>\n",
              "      <td>a</td>\n",
              "      <td>language</td>\n",
              "      <td>model</td>\n",
              "      <td>and</td>\n",
              "      <td>train</td>\n",
              "    </tr>\n",
              "  </tbody>\n",
              "</table>"
            ],
            "text/plain": [
              "<IPython.core.display.HTML object>"
            ]
          },
          "metadata": {
            "tags": []
          }
        }
      ]
    },
    {
      "cell_type": "code",
      "metadata": {
        "colab": {
          "base_uri": "https://localhost:8080/",
          "height": 205
        },
        "id": "Dqpy68PR8mpb",
        "outputId": "e86196b5-9fc8-4e7c-917b-e4c4a47ecea5"
      },
      "source": [
        "bs,seq_len = 6,5\n",
        "d_tokens = np.array([tokens[i*15+10:i*15+15] for i in range(bs)])\n",
        "df = pd.DataFrame(d_tokens)\n",
        "display(HTML(df.to_html(index=False,header=None)))"
      ],
      "execution_count": null,
      "outputs": [
        {
          "output_type": "display_data",
          "data": {
            "text/html": [
              "<table border=\"1\" class=\"dataframe\">\n",
              "  <tbody>\n",
              "    <tr>\n",
              "      <td>over</td>\n",
              "      <td>the</td>\n",
              "      <td>example</td>\n",
              "      <td>of</td>\n",
              "      <td>classifying</td>\n",
              "    </tr>\n",
              "    <tr>\n",
              "      <td>under</td>\n",
              "      <td>the</td>\n",
              "      <td>surface</td>\n",
              "      <td>.</td>\n",
              "      <td>xxmaj</td>\n",
              "    </tr>\n",
              "    <tr>\n",
              "      <td>convert</td>\n",
              "      <td>text</td>\n",
              "      <td>into</td>\n",
              "      <td>numbers</td>\n",
              "      <td>and</td>\n",
              "    </tr>\n",
              "    <tr>\n",
              "      <td>we</td>\n",
              "      <td>'ll</td>\n",
              "      <td>have</td>\n",
              "      <td>another</td>\n",
              "      <td>example</td>\n",
              "    </tr>\n",
              "    <tr>\n",
              "      <td>.</td>\n",
              "      <td>\\n</td>\n",
              "      <td>xxmaj</td>\n",
              "      <td>then</td>\n",
              "      <td>we</td>\n",
              "    </tr>\n",
              "    <tr>\n",
              "      <td>it</td>\n",
              "      <td>for</td>\n",
              "      <td>a</td>\n",
              "      <td>while</td>\n",
              "      <td>.</td>\n",
              "    </tr>\n",
              "  </tbody>\n",
              "</table>"
            ],
            "text/plain": [
              "<IPython.core.display.HTML object>"
            ]
          },
          "metadata": {
            "tags": []
          }
        }
      ]
    },
    {
      "cell_type": "code",
      "metadata": {
        "colab": {
          "base_uri": "https://localhost:8080/"
        },
        "id": "5XhWKk4B9_vF",
        "outputId": "abb86dee-de3a-4297-e1b0-e87f1c61e0c5"
      },
      "source": [
        "toks200[:5]"
      ],
      "execution_count": null,
      "outputs": [
        {
          "output_type": "execute_result",
          "data": {
            "text/plain": [
              "(#5) [['xxbos', 'xxmaj', 'given', 'the', 'history', 'of', 'the', 'director', 'of', 'this', 'movie', ',', 'it', 'is', 'hard', 'to', 'believe', 'that', 'this', 'was', 'such', 'a', 'painfully', 'bad', 'movie', 'to', 'sit', 'through', '.', 'i', 'was', 'at', 'the', 'xxmaj', 'european', 'premiere', 'last', 'night', 'and', 'one', 'of', 'the', 'xxmaj', 'executive', 'xxmaj', 'producers', 'was', 'there', '.', 'xxmaj', 'he', 'was', 'yet', 'to', 'see', 'the', 'movie', 'and', ',', 'boy', ',', 'was', 'he', 'in', 'for', 'a', 'surprise', '.', 'i', 'have', 'not', 'read', 'the', 'book', 'that', 'this', 'is', 'based', 'upon', ',', 'nor', 'do', 'i', 'know', 'if', 'it', 'highly', 'rated', 'or', 'appreciated', ',', 'but', 'i', 'have', 'read', '\"', 'captain', 'xxmaj', 'correlli', \"'s\", 'xxmaj', 'mandolin', '\"', 'and', 'given', 'how', 'poorly', 'that', 'was', 'adapted', 'for', 'screen', 'and', 'how', 'bad', 'this', 'movie', 'was', ',', 'i', 'can', 'only', 'presume', 'that', 'something', 'similar', 'has', 'happened', 'here', '.', 'xxmaj', 'the', 'acting', 'was', \"n't\", 'bad', 'albeit', 'that', 'there', 'were', 'a', 'couple', '-', 'too', '-', 'many', 'raised', 'eyebrows', 'from', 'xxmaj', 'farrell', '.', 'xxmaj', 'honestly', ',', 'i', 'ca', \"n't\", 'believed', 'how', 'little', 'i', 'cared', 'for', 'any', 'character', 'in', 'this', 'movie', '.', 'xxmaj', 'situations', 'play', 'out', 'on', 'the', 'screen', 'in', 'an', 'empty', 'sequence', 'of', 'nothingness', '.', 'xxmaj', 'donald', 'xxmaj', 'sutherland', \"'s\", 'part', 'comprises', 'a', 'few', 'scenes', 'where', 'he', 'opens', 'a', 'door', ',', 'says', 'something', 'and', 'closes', 'it', 'again', '.', 'i', 'kept', 'looking', 'at', 'my', 'watch', 'when', 'i', 'was', \"n't\", 'cringing', 'at', 'the', 'dialogue', 'on', 'the', 'screen', '.', 'i', 'have', 'never', 'walked', 'out', 'on', 'a', 'movie', 'but', 'i', 'was', 'tempted', 'to', 'start', 'during', 'this', '.', 'i', 'gave', 'this', 'movie', 'a', 'score', 'of', \"'\", '2', \"'\", 'for', 'reasons', 'which', 'seem', 'horrendously', 'shallow', 'to', 'me', 'but', 'these', 'are', 'the', 'best', 'things', 'that', 'i', 'can', 'say', 'about', 'this', 'movie', '.', 'xxmaj', 'the', 'first', 'is', 'that', 'i', 'really', 'enjoyed', 'the', 'all', '-', 'too', '-', 'short', 'earthquake', 'scene', 'and', 'the', 'second', 'is', 'that', 'xxmaj', 'salma', 'xxmaj', 'hayek', 'got', 'naked', 'and', 'looked', 'beautiful', '.', 'i', 'can', 'say', 'little', 'else', 'positive', 'about', 'this', 'movie', '.', 'xxmaj', 'do', \"n't\", 'ask', 'the', 'dust', 'anything', ',', 'it', 'ca', \"n't\", 'talk', '!'],['xxbos', 'i', 'picked', 'up', 'xxup', 'tran', 'xxup', 'scan', 'from', 'the', 'library', 'and', 'brought', 'it', 'home', '.', 'xxmaj', 'we', 'have', 'considered', 'taking', 'a', 'trip', 'out', 'east', 'and', 'thought', 'it', 'would', 'give', 'us', 'a', 'feel', 'of', 'what', 'it', 'was', 'like', '.', 'xxmaj', 'the', 'film', 'was', 'a', 'total', 'waste', 'of', 'time', ',', 'if', 'i', 'went', 'out', 'to', 'buy', 'it', 'i', 'would', 'call', 'it', 'xxup', 'tran', 'xxup', 'scam', 'when', 'i', 'saw', 'that', 'it', 'costs', '$', '49', '.', '\\n\\n', 'xxmaj', 'the', 'xxup', 'dvd', 'ran', 'for', '8', 'minutes', 'and', 'showed', 'a', 'roller', 'coaster', 'ride', 'across', 'xxmaj', 'canada', 'with', 'my', 'stomach', 'feeling', 'ill', 'as', 'they', 'went', 'up', 'and', 'down', 'and', 'around', 'curve', 'with', 'the', 'film', 'at', 'high', 'speed', '.', '\\n\\n', 'xxmaj', 'there', 'was', 'a', 'lot', 'of', 'footage', 'they', 'probably', 'shot', 'on', 'this', 'and', 'you', 'would', 'think', 'that', 'they', 'could', 'have', 'made', 'a', 'better', 'product', '.', 'xxmaj', 'if', 'i', 'would', 'of', 'done', 'this', 'project', 'i', 'would', 'of', 'provided', 'more', 'footage', ',', 'paused', 'on', 'road', 'signs', 'to', 'let', 'people', 'know', 'where', 'they', 'were', 'and', 'linger', 'in', 'places', 'to', 'view', 'the', 'scenery', '.', 'xxmaj', 'to', 'make', 'a', 'film', 'like', 'this', 'it', 'should', 'of', 'been', '60', 'to', '90min', '.', 'xxmaj', 'oh', 'yes', 'the', 'case', 'said', 'it', 'was', 'in', 'stereo', ',', 'the', 'whole', 'film', 'was', 'a', 'hissing', 'sound', 'from', 'sped', 'up', 'car', 'sound', ',', 'thet', 'could', 'of', 'at', 'least', 'put', 'some', 'music', 'to', 'it', '.', '\\n\\n', 'xxmaj', 'if', 'you', 'want', 'a', 'good', 'cross', 'xxmaj', 'canada', 'film', 'watch', 'xxmaj', 'the', 'railrodder', '/', 'xxmaj', 'national', 'xxmaj', 'film', 'xxmaj', 'board', 'of', 'xxmaj', 'canada', 'starring', 'xxmaj', 'buster', 'keaton', '(', 'the', 'one', 'of', 'the', 'last', 'film', 'he', 'made', ')', 'in', 'this', 'comical', 'film', 'xxmaj', 'buster', 'xxmaj', 'keaton', 'gets', 'on', 'to', 'a', 'railway', 'trackspeeder', 'in', 'xxmaj', 'nova', 'xxmaj', 'scotia', 'and', 'travels', 'to', 'xxmaj', 'british', 'xxmaj', 'columbia'],['xxbos', 'xxmaj', 'karl', 'xxmaj', 'jr', 'and', 'his', 'dad', 'are', 'now', 'running', 'an', 'army', 'on', 'a', 'remote', 'island', '.', 'xxmaj', 'they', 'capture', 'a', 'trio', 'of', 'guys', 'who', 'stumble', 'upon', 'the', 'island', '.', 'xxmaj', 'whom', 'after', 'a', 'while', 'fight', 'back', '.', '(', 'well', 'the', 'survivors', ')', 'xxmaj', 'this', 'one', 'has', 'non', '-', 'stop', 'blood', ',', 'gore', 'and', 'carnage', ',', 'which', 'would', 'have', 'been', 'good', 'if', 'any', 'of', 'it', 'looked', 'remotely', 'real', ',', 'or', 'if', 'the', 'production', 'did', \"n't\", 'look', 'like', 'it', 'was', 'made', 'with', 'a', 'weeks', 'worth', 'of', 'saved', 'up', 'lunch', 'money', '(', 'i', 'may', 'be', 'overexxagerating', 'there', '.', 'it', 'was', 'probably', 'just', 'a', 'couple', 'days', 'worth', ')', '.', 'xxmaj', 'the', 'horrendous', 'dubbing', 'did', \"n't\", 'bother', 'me', 'as', 'much', 'and', 'i', 'suspect', 'if', 'i', 'had', 'been', 'really', 'drunk', ',', 'some', 'of', 'it', 'xxup', 'might', 'have', 'been', 'slightly', 'humorous', '…', '.maybe', '.', 'xxmaj', 'but', 'as', 'it', 'is', ',', 'at', 'merely', '78', 'minutes', 'the', 'movie', 'still', 'felt', 'way', 'too', 'long', 'by', '..', 'xxmaj', 'oh', 'i', 'do', \"n't\", 'know', '…', '78', 'minutes', '.', 'xxmaj', 'do', \"n't\", 'waste', 'your', 'time', '.', '\\n\\n', 'xxmaj', 'my', 'xxmaj', 'grade', ':', 'f', '\\n\\n', 'xxup', 'dvd', 'xxmaj', 'extras', ':', 'xxmaj', 'bonus', 'movie', ':', '\"', 'zombie', \"'\", '90', ':', 'xxmaj', 'extreme', 'xxmaj', 'pestilence', '\"', ';', 'and', 'xxmaj', 'trailers', 'for', 'other', 'shock', '-', 'o', '-', 'rama', 'released', 'films'],['xxbos', 'xxmaj', 'this', 'is', 'strictly', 'a', 'review', 'of', 'the', 'pilot', 'episode', 'as', 'it', 'appears', 'on', 'xxup', 'dvd', '.', '\\n\\n', 'xxmaj', 'television', 'moved', 'out', 'of', 'my', 'life', 'in', '1981', ',', 'so', 'i', 'never', 'followed', 'the', 'series', 'or', 'any', 'part', 'of', 'it', '-', 'which', 'means', 'that', 'xxmaj', 'i', \"'m\", 'immune', 'to', 'the', 'nostalgic', 'charm', 'that', 'xxmaj', 'moonlighting', 'appears', 'to', 'have', 'for', 'most', 'reviewers', '.', '\\n\\n', '(', 'possible', 'spoiler', 'warning', ')', '\\n\\n', 'xxmaj', 'the', 'pilot', 'of', 'xxmaj', 'moonlighting', 'is', 'your', 'basic', '\"', 'caveman', 'meets', 'fluffball', '\"', 'yarn', ',', 'where', 'a', '\"', 'charming', '\"', 'red', '-', 'blooded', 'he', '-', 'man', 'manipulates', 'a', 'misguided', 'woman', 'into', 'realizing', 'what', 'she', 'really', 'wants', 'and', 'needs', '.', 'xxmaj', 'the', 'premises', 'that', 'the', 'script', \"'s\", '\"', 'wit', '\"', 'is', 'based', 'on', 'must', 'have', 'already', 'felt', 'stale', 'around', '1950', '.', 'xxmaj', 'it', 'also', 'contains', 'some', 'frankly', 'bad', 'writing', ',', 'as', 'in', 'the', 'scene', 'where', 'xxmaj', 'maddie', 'demolishes', 'the', 'furnishings', 'instead', 'of', 'shooting', 'the', 'villain', ',', 'strictly', 'in', 'order', 'to', 'prove', 'herself', 'the', 'inept', 'female', 'in', 'need', 'of', 'masculine', 'assistance', '.', '\\n\\n', 'i', 'often', 'feel', 'that', 'xxmaj', 'susan', 'xxmaj', 'faludi', 'overreacts', 'in', 'seeing', 'male', 'chauvinist', 'conspiracy', 'in', 'simple', 'entertainment', ',', 'but', 'in', 'this', 'particular', 'case', 'xxmaj', 'i', \"'m\", 'all', 'with', 'her', '-', 'xxmaj', 'moonlighting', 'has', 'xxup', 'backlash', 'stamped', 'all', 'over', 'it', '.', '\\n\\n', 'xxmaj', 'in', 'one', 'sense', ',', 'however', ',', 'this', 'xxup', 'dvd', 'is', 'a', 'must', 'for', 'all', 'serious', 'xxmaj', 'bruce', 'xxmaj', 'willis', 'fans', ':', 'in', 'addition', 'to', 'the', 'pilot', 'episode', ',', 'it', 'contains', 'the', 'screen', 'test', 'that', 'landed', 'xxmaj', 'willis', 'the', 'job', '.', 'xxmaj', 'both', 'features', 'show', 'to', 'what', 'amazing', 'extent', 'xxmaj', 'willis', \"'\", 'acting', 'ability', 'developed', 'between', '1985', 'and', '1988', '/', '89', '(', 'die', 'xxmaj', 'hard', '1', ',', 'xxmaj', 'in', 'xxmaj', 'country', ')', '.', 'xxmaj', 'impressive', '!', '\\n\\n', 'xxmaj', 'rating', '(', 'and', 'i', '_', 'am', '_', 'a', 'xxmaj', 'bruce', 'xxmaj', 'willis', 'fan', ')', ':', '2', 'out', 'of', '10'],['xxbos', 'i', 'have', 'seen', 'a', 'lot', 'of', 'bad', 'movies', 'with', 'big', 'actors', 'in', 'it', '.', 'xxmaj', 'but', 'this', 'movie', 'was', 'terrible', '.', 'i', 'have', 'yet', 'to', 'see', 'why', 'people', 'thought', 'it', 'was', 'funny', '.', 'xxmaj', 'the', 'idea', 'behind', 'it', 'is', 'stupid', '.', 'xxmaj', 'plus', 'all', 'the', 'things', 'that', 'are', 'supposed', 'to', 'be', 'funny', 'are', 'just', 'dumb', '.', 'xxmaj', 'why', 'anyone', 'would', 'want', 'to', 'watch', 'this', 'more', 'than', 'once', 'just', 'baffles', 'me', '!']]"
            ]
          },
          "metadata": {
            "tags": []
          },
          "execution_count": 50
        }
      ]
    },
    {
      "cell_type": "code",
      "metadata": {
        "colab": {
          "base_uri": "https://localhost:8080/"
        },
        "id": "wmU41vh--Dy0",
        "outputId": "ab24779a-b77b-4888-94e6-a4f31ba35f93"
      },
      "source": [
        "num"
      ],
      "execution_count": null,
      "outputs": [
        {
          "output_type": "execute_result",
          "data": {
            "text/plain": [
              "Numericalize:\n",
              "encodes: (object,object) -> encodes\n",
              "decodes: (object,object) -> decodes"
            ]
          },
          "metadata": {
            "tags": []
          },
          "execution_count": 51
        }
      ]
    },
    {
      "cell_type": "code",
      "metadata": {
        "id": "AE_AGrLV8pEa"
      },
      "source": [
        "nums200 = toks200.map(num)"
      ],
      "execution_count": null,
      "outputs": []
    },
    {
      "cell_type": "code",
      "metadata": {
        "colab": {
          "base_uri": "https://localhost:8080/"
        },
        "id": "PTENQgYw9F1a",
        "outputId": "3df7ecc3-cdf0-4545-db35-1e9f209cfa63"
      },
      "source": [
        "nums200[0]"
      ],
      "execution_count": null,
      "outputs": [
        {
          "output_type": "execute_result",
          "data": {
            "text/plain": [
              "TensorText([   2,    8,  444,    9,  622,   14,    9,  286,   14,   20,   25,   11,   16,   17,  227,   15,  228,   21,   20,   22,  172,   12,    0,   82,   25,   15,  710,  150,   10,   18,   22,   50,\n",
              "           9,    8,  623,    0,  273,  240,   13,   46,   14,    9,    8,    0,    8,  711,   22,   56,   10,    8,   42,   22,  262,   15,   96,    9,   25,   13,   11,  569,   11,   22,   42,   19,\n",
              "          30,   12,  512,   10,   18,   39,   37,  341,    9,  379,   21,   20,   17,  357,  570,   11,  943,   48,   18,  124,   49,   16,  808,  624,   52,    0,   11,   27,   18,   39,  341,   23,\n",
              "           0,    8,    0,   24,    8,    0,   23,   13,  444,   95,  513,   21,   22,    0,   30,  241,   13,   95,   82,   20,   25,   22,   11,   18,   83,   86,    0,   21,  154,  712,   75,  445,\n",
              "         181,   10,    8,    9,  106,   22,   28,   82,    0,   21,   56,   80,   12,  446,   26,  110,   26,  136,    0,    0,   62,    8,    0,   10,    8,  944,   11,   18,  155,   28,    0,   95,\n",
              "         118,   18, 1441,   30,  111,  116,   19,   20,   25,   10,    8,    0,  625,   63,   36,    9,  241,   19,   57,    0,  571,   14,    0,   10,    8, 1442,    8,  626,   24,  165,    0,   12,\n",
              "         242,  166,  149,   42,    0,   12, 1443,   11,  514,  154,   13,    0,   16,  313,   10,   18,  809,  252,   50,   88,  113,   85,   18,   22,   28,    0,   50,    9,  420,   36,    9,  241,\n",
              "          10,   18,   39,  137,    0,   63,   36,   12,   25,   27,   18,   22,    0,   15,  447,  342,   20,   10,   18,  448,   20,   25,   12,  945,   14,   66,  217,   66,   30, 1444,  104,  253,\n",
              "           0, 1445,   15,   67,   27,  156,   41,    9,  173,  202,   21,   18,   83,  126,   59,   20,   25,   10,    8,    9,  127,   17,   21,   18,   92, 1147,    9,   43,   26,  110,   26,  343,\n",
              "           0,  128,   13,    9,  515,   17,   21,    8,    0,    8,    0,  186,  516,   13,  517,  421,   10,   18,   83,  126,  118,  287,  449,   59,   20,   25,   10,    8,   48,   28,  946,    9,\n",
              "           0,  211,   11,   16,  155,   28,  572,   58])"
            ]
          },
          "metadata": {
            "tags": []
          },
          "execution_count": 53
        }
      ]
    },
    {
      "cell_type": "code",
      "metadata": {
        "colab": {
          "base_uri": "https://localhost:8080/"
        },
        "id": "oOSLgKuT9HZK",
        "outputId": "bc75fa40-1b8f-474f-d8a3-988b2939e57c"
      },
      "source": [
        "len(nums200[0])"
      ],
      "execution_count": null,
      "outputs": [
        {
          "output_type": "execute_result",
          "data": {
            "text/plain": [
              "328"
            ]
          },
          "metadata": {
            "tags": []
          },
          "execution_count": 54
        }
      ]
    },
    {
      "cell_type": "code",
      "metadata": {
        "id": "xj8tS63Z-T2e"
      },
      "source": [
        "dl = LMDataLoader(nums200)"
      ],
      "execution_count": null,
      "outputs": []
    },
    {
      "cell_type": "code",
      "metadata": {
        "colab": {
          "base_uri": "https://localhost:8080/"
        },
        "id": "IgSzyWbu_SgA",
        "outputId": "584e85d5-9859-4512-de2f-aeec39d788e7"
      },
      "source": [
        "dl"
      ],
      "execution_count": null,
      "outputs": [
        {
          "output_type": "execute_result",
          "data": {
            "text/plain": [
              "<fastai.text.data.LMDataLoader at 0x7fa5727dae50>"
            ]
          },
          "metadata": {
            "tags": []
          },
          "execution_count": 56
        }
      ]
    },
    {
      "cell_type": "code",
      "metadata": {
        "colab": {
          "base_uri": "https://localhost:8080/"
        },
        "id": "RMD6E1dk_f0_",
        "outputId": "412c24d2-054d-4fad-8056-77c6fdc1b9de"
      },
      "source": [
        "x, y = first(dl)\n",
        "x.shape, y.shape"
      ],
      "execution_count": null,
      "outputs": [
        {
          "output_type": "execute_result",
          "data": {
            "text/plain": [
              "(torch.Size([64, 72]), torch.Size([64, 72]))"
            ]
          },
          "metadata": {
            "tags": []
          },
          "execution_count": 57
        }
      ]
    },
    {
      "cell_type": "code",
      "metadata": {
        "colab": {
          "base_uri": "https://localhost:8080/"
        },
        "id": "LXvRC4a6_zWZ",
        "outputId": "872dab8f-3c2c-402f-81d7-3378d91fbd2e"
      },
      "source": [
        "x"
      ],
      "execution_count": null,
      "outputs": [
        {
          "output_type": "execute_result",
          "data": {
            "text/plain": [
              "LMTensorText([[   2,    8,  444,  ...,   39,   37,  341],\n",
              "        [  38,  576,  954,  ...,  158, 1164,   71],\n",
              "        [   0,   11,  970,  ...,  288,   11,   27],\n",
              "        ...,\n",
              "        [  28,  209,   63,  ..., 1794,   19,    8],\n",
              "        [ 287,   19,  986,  ...,   38,  504,   62],\n",
              "        [   0,  490,   14,  ...,   33,    8,  709]])"
            ]
          },
          "metadata": {
            "tags": []
          },
          "execution_count": 58
        }
      ]
    },
    {
      "cell_type": "code",
      "metadata": {
        "colab": {
          "base_uri": "https://localhost:8080/"
        },
        "id": "DgDnnwK6_0wf",
        "outputId": "d59efa92-5cda-4faa-ce3f-8269d7e745d9"
      },
      "source": [
        "y"
      ],
      "execution_count": null,
      "outputs": [
        {
          "output_type": "execute_result",
          "data": {
            "text/plain": [
              "TensorText([[   8,  444,    9,  ...,   37,  341,    9],\n",
              "        [ 576,  954, 1461,  ..., 1164,   71,  718],\n",
              "        [  11,  970,   11,  ...,   11,   27,    0],\n",
              "        ...,\n",
              "        [ 209,   63,  213,  ...,   19,    8,    0],\n",
              "        [  19,  986,   10,  ...,  504,   62,    0],\n",
              "        [ 490,   14,    8,  ...,    8,  709,   10]])"
            ]
          },
          "metadata": {
            "tags": []
          },
          "execution_count": 59
        }
      ]
    },
    {
      "cell_type": "code",
      "metadata": {
        "colab": {
          "base_uri": "https://localhost:8080/",
          "height": 35
        },
        "id": "eBB9hsBx_16v",
        "outputId": "db298322-56c0-49c9-c253-850506d06917"
      },
      "source": [
        "' '.join(num.vocab[o] for o in x[0][:20])"
      ],
      "execution_count": null,
      "outputs": [
        {
          "output_type": "execute_result",
          "data": {
            "application/vnd.google.colaboratory.intrinsic+json": {
              "type": "string"
            },
            "text/plain": [
              "'xxbos xxmaj given the history of the director of this movie , it is hard to believe that this was'"
            ]
          },
          "metadata": {
            "tags": []
          },
          "execution_count": 60
        }
      ]
    },
    {
      "cell_type": "code",
      "metadata": {
        "colab": {
          "base_uri": "https://localhost:8080/",
          "height": 35
        },
        "id": "SPkqegB2AD8z",
        "outputId": "2d144a94-2c4f-4321-d223-48e9291d032d"
      },
      "source": [
        "' '.join(num.vocab[o] for o in y[0][:20])"
      ],
      "execution_count": null,
      "outputs": [
        {
          "output_type": "execute_result",
          "data": {
            "application/vnd.google.colaboratory.intrinsic+json": {
              "type": "string"
            },
            "text/plain": [
              "'xxmaj given the history of the director of this movie , it is hard to believe that this was such'"
            ]
          },
          "metadata": {
            "tags": []
          },
          "execution_count": 61
        }
      ]
    },
    {
      "cell_type": "markdown",
      "metadata": {
        "id": "UNFvlhwrBwi8"
      },
      "source": [
        "## Training a Text Classifier\n"
      ]
    },
    {
      "cell_type": "markdown",
      "metadata": {
        "id": "q8-1jw3MEBEn"
      },
      "source": [
        "Language Model Using DataBlock"
      ]
    },
    {
      "cell_type": "code",
      "metadata": {
        "id": "QE8if-ItEB8-"
      },
      "source": [
        "get_imdb = partial(get_text_files, folders=['train', 'test', 'unsup'])"
      ],
      "execution_count": null,
      "outputs": []
    },
    {
      "cell_type": "code",
      "metadata": {
        "colab": {
          "base_uri": "https://localhost:8080/"
        },
        "id": "97TljmeAFQQi",
        "outputId": "78ba9377-03a5-4dbd-f8c3-c944221045b1"
      },
      "source": [
        "path"
      ],
      "execution_count": null,
      "outputs": [
        {
          "output_type": "execute_result",
          "data": {
            "text/plain": [
              "Path('/root/.fastai/data/imdb')"
            ]
          },
          "metadata": {
            "tags": []
          },
          "execution_count": 63
        }
      ]
    },
    {
      "cell_type": "code",
      "metadata": {
        "colab": {
          "base_uri": "https://localhost:8080/",
          "height": 17
        },
        "id": "ZeDLZ5ZlEIpl",
        "outputId": "0d1bc5e1-e698-4f60-9ee4-0ef40caf1a90"
      },
      "source": [
        "dls_lm = DataBlock(blocks=TextBlock.from_folder(path, is_lm=True),\n",
        "                   get_items=get_imdb, splitter=RandomSplitter(0.1)\n",
        "                   ).dataloaders(path, path=path, bs=128, seq_len=80)"
      ],
      "execution_count": null,
      "outputs": [
        {
          "output_type": "display_data",
          "data": {
            "text/html": [
              ""
            ],
            "text/plain": [
              "<IPython.core.display.HTML object>"
            ]
          },
          "metadata": {
            "tags": []
          }
        }
      ]
    },
    {
      "cell_type": "code",
      "metadata": {
        "colab": {
          "base_uri": "https://localhost:8080/",
          "height": 655
        },
        "id": "CaAow7zvJXZm",
        "outputId": "266746ad-9ed7-4373-bc1c-1e3ca55ac651"
      },
      "source": [
        "dls_lm.show_batch(max_n=5)"
      ],
      "execution_count": null,
      "outputs": [
        {
          "output_type": "display_data",
          "data": {
            "text/html": [
              "<table border=\"1\" class=\"dataframe\">\n",
              "  <thead>\n",
              "    <tr style=\"text-align: right;\">\n",
              "      <th></th>\n",
              "      <th>text</th>\n",
              "      <th>text_</th>\n",
              "    </tr>\n",
              "  </thead>\n",
              "  <tbody>\n",
              "    <tr>\n",
              "      <th>0</th>\n",
              "      <td>xxbos xxmaj this movie reminds me of \" irréversible ( 2002 ) \" , another art - work movie with is a violent and radical approach of human nature . i did not like the movie but i can not say that it is a bad movie , it is just special . i reminds me also of \" camping xxmaj cosmos ( 1996 ) \" where a bunch of low - class figures are residents of a camp at</td>\n",
              "      <td>xxmaj this movie reminds me of \" irréversible ( 2002 ) \" , another art - work movie with is a violent and radical approach of human nature . i did not like the movie but i can not say that it is a bad movie , it is just special . i reminds me also of \" camping xxmaj cosmos ( 1996 ) \" where a bunch of low - class figures are residents of a camp at the</td>\n",
              "    </tr>\n",
              "    <tr>\n",
              "      <th>1</th>\n",
              "      <td>xxmaj santini , a girl claiming to be the most popular girl at her school , a title that xxmaj lola must have no matter what . xxmaj after trying to nab the lead role in the school play , the competition between the two girls culminates at a sold - out concert by xxmaj lola 's favorite band that xxmaj carla conveniently has tickets to see . \\n\\n xxmaj the previews made the film seem boring and for the</td>\n",
              "      <td>santini , a girl claiming to be the most popular girl at her school , a title that xxmaj lola must have no matter what . xxmaj after trying to nab the lead role in the school play , the competition between the two girls culminates at a sold - out concert by xxmaj lola 's favorite band that xxmaj carla conveniently has tickets to see . \\n\\n xxmaj the previews made the film seem boring and for the most</td>\n",
              "    </tr>\n",
              "    <tr>\n",
              "      <th>2</th>\n",
              "      <td>the mini - series was shown only a couple of times on xxup pbs at the beginning of the 1980s and then apparently vanished into oblivion . \\n\\n ' oppenheimer ' compares favorably to the more recent ' fat xxmaj man &amp; xxmaj little xxmaj boy ' feature film with xxmaj paul xxmaj newman as xxmaj leslie xxmaj groves ( the chronically overweight and rather homely xxmaj general would be thoroughly flattered ) and xxmaj dwight xxmaj schultz ( alumnus</td>\n",
              "      <td>mini - series was shown only a couple of times on xxup pbs at the beginning of the 1980s and then apparently vanished into oblivion . \\n\\n ' oppenheimer ' compares favorably to the more recent ' fat xxmaj man &amp; xxmaj little xxmaj boy ' feature film with xxmaj paul xxmaj newman as xxmaj leslie xxmaj groves ( the chronically overweight and rather homely xxmaj general would be thoroughly flattered ) and xxmaj dwight xxmaj schultz ( alumnus of</td>\n",
              "    </tr>\n",
              "    <tr>\n",
              "      <th>3</th>\n",
              "      <td>weak in places : xxmaj jay 's explanation of why he had introduced xxmaj max to xxmaj sam provoked for me the biggest guffaw of the film ( one of the very few ) . xxmaj best part of the film ? xxmaj the xxmaj harry xxmaj connick xxmaj jr . song over the opening credits . \\n\\n xxmaj overall , it gets a 3 ; a waste of my time and money - it was i who was the</td>\n",
              "      <td>in places : xxmaj jay 's explanation of why he had introduced xxmaj max to xxmaj sam provoked for me the biggest guffaw of the film ( one of the very few ) . xxmaj best part of the film ? xxmaj the xxmaj harry xxmaj connick xxmaj jr . song over the opening credits . \\n\\n xxmaj overall , it gets a 3 ; a waste of my time and money - it was i who was the xxup</td>\n",
              "    </tr>\n",
              "    <tr>\n",
              "      <th>4</th>\n",
              "      <td>, trying to hold together the disparate subplots to the point of xxmaj keystone xxmaj cop tactics . \\n\\n xxmaj jimi ( chris xxmaj xxunk ) is a medical school student who is gay and has a lover xxmaj jack ( peter xxmaj ash ) and they live with xxmaj jack 's obese , alcoholic , loose morals aunt xxmaj vanessa ( sally xxmaj xxunk ) and xxmaj sally 's chubby daughter xxmaj hannah ( katy xxmaj clayton ) .</td>\n",
              "      <td>trying to hold together the disparate subplots to the point of xxmaj keystone xxmaj cop tactics . \\n\\n xxmaj jimi ( chris xxmaj xxunk ) is a medical school student who is gay and has a lover xxmaj jack ( peter xxmaj ash ) and they live with xxmaj jack 's obese , alcoholic , loose morals aunt xxmaj vanessa ( sally xxmaj xxunk ) and xxmaj sally 's chubby daughter xxmaj hannah ( katy xxmaj clayton ) . xxmaj</td>\n",
              "    </tr>\n",
              "  </tbody>\n",
              "</table>"
            ],
            "text/plain": [
              "<IPython.core.display.HTML object>"
            ]
          },
          "metadata": {
            "tags": []
          }
        }
      ]
    },
    {
      "cell_type": "markdown",
      "metadata": {
        "id": "zgj4Wt0wll5m"
      },
      "source": [
        "### Fine-Tuning the Language Model"
      ]
    },
    {
      "cell_type": "code",
      "metadata": {
        "colab": {
          "base_uri": "https://localhost:8080/",
          "height": 17
        },
        "id": "hn5iW8TulD-c",
        "outputId": "c90ee4cf-3507-4b66-ef48-cd0eb8f65520"
      },
      "source": [
        "learn = language_model_learner(dls_lm, AWD_LSTM, drop_mult=0.3, \n",
        "                               metrics=[accuracy, Perplexity()]\n",
        "                               ).to_fp16()"
      ],
      "execution_count": null,
      "outputs": [
        {
          "output_type": "display_data",
          "data": {
            "text/html": [
              ""
            ],
            "text/plain": [
              "<IPython.core.display.HTML object>"
            ]
          },
          "metadata": {
            "tags": []
          }
        }
      ]
    },
    {
      "cell_type": "code",
      "metadata": {
        "colab": {
          "base_uri": "https://localhost:8080/",
          "height": 587
        },
        "id": "7xitRU5ml1a2",
        "outputId": "04bec644-69a1-4944-f2cd-15d7003bb370"
      },
      "source": [
        "learn.summary()"
      ],
      "execution_count": null,
      "outputs": [
        {
          "output_type": "display_data",
          "data": {
            "text/html": [
              ""
            ],
            "text/plain": [
              "<IPython.core.display.HTML object>"
            ]
          },
          "metadata": {
            "tags": []
          }
        },
        {
          "output_type": "execute_result",
          "data": {
            "application/vnd.google.colaboratory.intrinsic+json": {
              "type": "string"
            },
            "text/plain": [
              "SequentialRNN (Input shape: 128)\n",
              "============================================================================\n",
              "Layer (type)         Output Shape         Param #    Trainable \n",
              "============================================================================\n",
              "                     []                  \n",
              "LSTM                                                           \n",
              "LSTM                                                           \n",
              "LSTM                                                           \n",
              "RNNDropout                                                     \n",
              "RNNDropout                                                     \n",
              "RNNDropout                                                     \n",
              "____________________________________________________________________________\n",
              "                     128 x 80 x 60008    \n",
              "Linear                                    24063208   True      \n",
              "RNNDropout                                                     \n",
              "____________________________________________________________________________\n",
              "\n",
              "Total params: 24,063,208\n",
              "Total trainable params: 24,063,208\n",
              "Total non-trainable params: 0\n",
              "\n",
              "Optimizer used: <function Adam at 0x7fa5ba5fb9e0>\n",
              "Loss function: FlattenedLoss of CrossEntropyLoss()\n",
              "\n",
              "Model frozen up to parameter group #3\n",
              "\n",
              "Callbacks:\n",
              "  - TrainEvalCallback\n",
              "  - ModelResetter\n",
              "  - RNNCallback\n",
              "  - MixedPrecision\n",
              "  - Recorder\n",
              "  - ProgressCallback"
            ]
          },
          "metadata": {
            "tags": []
          },
          "execution_count": 78
        }
      ]
    },
    {
      "cell_type": "code",
      "metadata": {
        "colab": {
          "base_uri": "https://localhost:8080/",
          "height": 81
        },
        "id": "PBR2IfANmIJ5",
        "outputId": "506d8489-934c-43f7-cfe1-b24470362f49"
      },
      "source": [
        "learn.fit_one_cycle(1, 2e-2)"
      ],
      "execution_count": null,
      "outputs": [
        {
          "output_type": "display_data",
          "data": {
            "text/html": [
              "<table border=\"1\" class=\"dataframe\">\n",
              "  <thead>\n",
              "    <tr style=\"text-align: left;\">\n",
              "      <th>epoch</th>\n",
              "      <th>train_loss</th>\n",
              "      <th>valid_loss</th>\n",
              "      <th>accuracy</th>\n",
              "      <th>perplexity</th>\n",
              "      <th>time</th>\n",
              "    </tr>\n",
              "  </thead>\n",
              "  <tbody>\n",
              "    <tr>\n",
              "      <td>0</td>\n",
              "      <td>4.015022</td>\n",
              "      <td>3.905670</td>\n",
              "      <td>0.300373</td>\n",
              "      <td>49.683365</td>\n",
              "      <td>12:47</td>\n",
              "    </tr>\n",
              "  </tbody>\n",
              "</table>"
            ],
            "text/plain": [
              "<IPython.core.display.HTML object>"
            ]
          },
          "metadata": {
            "tags": []
          }
        }
      ]
    },
    {
      "cell_type": "code",
      "metadata": {
        "colab": {
          "base_uri": "https://localhost:8080/"
        },
        "id": "NqRHqNnGqsrq",
        "outputId": "eeb263f3-cb39-46c5-8ba6-416e8ed3f8b8"
      },
      "source": [
        "from google.colab import drive\n",
        "\n",
        "drive.mount(\"/content/gdrive\", force_remount=True)"
      ],
      "execution_count": null,
      "outputs": [
        {
          "output_type": "stream",
          "text": [
            "Mounted at /content/gdrive\n"
          ],
          "name": "stdout"
        }
      ]
    },
    {
      "cell_type": "code",
      "metadata": {
        "colab": {
          "base_uri": "https://localhost:8080/"
        },
        "id": "wsNWYPUWq_wX",
        "outputId": "ae08c318-7491-412a-81ce-6680f1dfe4e5"
      },
      "source": [
        "cd models"
      ],
      "execution_count": null,
      "outputs": [
        {
          "output_type": "stream",
          "text": [
            "/content/gdrive/MyDrive/models\n"
          ],
          "name": "stdout"
        }
      ]
    },
    {
      "cell_type": "markdown",
      "metadata": {
        "id": "sESqDkM6nKAB"
      },
      "source": [
        "Saving and Loading Models"
      ]
    },
    {
      "cell_type": "code",
      "metadata": {
        "colab": {
          "base_uri": "https://localhost:8080/"
        },
        "id": "mZ42pA1_nKYf",
        "outputId": "50230dbb-7d31-486b-8f1e-917cba632cc9"
      },
      "source": [
        "learn.save('/content/gdrive/MyDrive/models/1epoch_nlp_class')"
      ],
      "execution_count": null,
      "outputs": [
        {
          "output_type": "execute_result",
          "data": {
            "text/plain": [
              "Path('/content/gdrive/MyDrive/models/1epoch_nlp_class.pth')"
            ]
          },
          "metadata": {
            "tags": []
          },
          "execution_count": 91
        }
      ]
    },
    {
      "cell_type": "code",
      "metadata": {
        "id": "vBlvl4qEnNqD"
      },
      "source": [
        "learn = learn.load('/content/gdrive/MyDrive/models/1epoch_nlp_class')"
      ],
      "execution_count": null,
      "outputs": []
    },
    {
      "cell_type": "code",
      "metadata": {
        "colab": {
          "base_uri": "https://localhost:8080/",
          "height": 81
        },
        "id": "cjgbqYAHnqvk",
        "outputId": "fdd4ff75-6c06-48ba-e905-0cb3165ef2cc"
      },
      "source": [
        "learn.unfreeze()\n",
        "learn.fit_one_cycle(1, 2e-3)"
      ],
      "execution_count": null,
      "outputs": [
        {
          "output_type": "display_data",
          "data": {
            "text/html": [
              "<table border=\"1\" class=\"dataframe\">\n",
              "  <thead>\n",
              "    <tr style=\"text-align: left;\">\n",
              "      <th>epoch</th>\n",
              "      <th>train_loss</th>\n",
              "      <th>valid_loss</th>\n",
              "      <th>accuracy</th>\n",
              "      <th>perplexity</th>\n",
              "      <th>time</th>\n",
              "    </tr>\n",
              "  </thead>\n",
              "  <tbody>\n",
              "    <tr>\n",
              "      <td>0</td>\n",
              "      <td>3.681549</td>\n",
              "      <td>3.677847</td>\n",
              "      <td>0.326890</td>\n",
              "      <td>39.561123</td>\n",
              "      <td>13:22</td>\n",
              "    </tr>\n",
              "  </tbody>\n",
              "</table>"
            ],
            "text/plain": [
              "<IPython.core.display.HTML object>"
            ]
          },
          "metadata": {
            "tags": []
          }
        }
      ]
    },
    {
      "cell_type": "code",
      "metadata": {
        "id": "zdeage2gn3fR"
      },
      "source": [
        "learn.save_encoder('/content/gdrive/MyDrive/models/1epoch_nlp_class_finetuned')"
      ],
      "execution_count": null,
      "outputs": []
    },
    {
      "cell_type": "markdown",
      "metadata": {
        "id": "WdoNYbEHuzTZ"
      },
      "source": [
        "Text Generation"
      ]
    },
    {
      "cell_type": "code",
      "metadata": {
        "colab": {
          "base_uri": "https://localhost:8080/",
          "height": 17
        },
        "id": "zMKt0hXzsW83",
        "outputId": "71905350-dafb-4d89-98fc-022369dd4d34"
      },
      "source": [
        "TEXT = \"I liked this movie because\"\n",
        "N_WORDS = 40\n",
        "N_SENTENCES = 2\n",
        "\n",
        "preds = [learn.predict(TEXT, N_WORDS, temperature=0.75) \n",
        "         for _ in range(N_SENTENCES)]"
      ],
      "execution_count": null,
      "outputs": [
        {
          "output_type": "display_data",
          "data": {
            "text/html": [
              ""
            ],
            "text/plain": [
              "<IPython.core.display.HTML object>"
            ]
          },
          "metadata": {
            "tags": []
          }
        },
        {
          "output_type": "display_data",
          "data": {
            "text/html": [
              ""
            ],
            "text/plain": [
              "<IPython.core.display.HTML object>"
            ]
          },
          "metadata": {
            "tags": []
          }
        }
      ]
    },
    {
      "cell_type": "code",
      "metadata": {
        "colab": {
          "base_uri": "https://localhost:8080/"
        },
        "id": "3DoPmGi9sYSG",
        "outputId": "2a86b332-4fc4-4182-a1f1-98efaa33d758"
      },
      "source": [
        "print(\"\\n\".join(preds))"
      ],
      "execution_count": null,
      "outputs": [
        {
          "output_type": "stream",
          "text": [
            "i liked this movie because it was a bit of a horror movie . It 's a typical Universal horror movie that goes from show to movie . It 's fun to watch , such as the villain - in - a\n",
            "i liked this movie because it was a classic . The acting was great , the story was great . The story was very interesting , the special effects were very good , and the blood of the game was great .\n"
          ],
          "name": "stdout"
        }
      ]
    },
    {
      "cell_type": "markdown",
      "metadata": {
        "id": "1bdSc1_BsoDA"
      },
      "source": [
        "Creating the Classifier DataLoaders"
      ]
    },
    {
      "cell_type": "code",
      "metadata": {
        "id": "dRa-ITzTsnO1"
      },
      "source": [
        "dls_clas = DataBlock(\n",
        "    blocks=(TextBlock.from_folder(path, vocab=dls_lm.vocab),CategoryBlock),\n",
        "    get_y = parent_label,\n",
        "    get_items=partial(get_text_files, folders=['train', 'test']),\n",
        "    splitter=GrandparentSplitter(valid_name='test')\n",
        ").dataloaders(path, path=path, bs=128, seq_len=72)"
      ],
      "execution_count": null,
      "outputs": []
    },
    {
      "cell_type": "code",
      "metadata": {
        "colab": {
          "base_uri": "https://localhost:8080/",
          "height": 419
        },
        "id": "zxrBVcRLvwwx",
        "outputId": "fc07f538-2d3c-41c1-f80b-bca181efb8ca"
      },
      "source": [
        "dls_clas.show_batch(max_n=3)"
      ],
      "execution_count": null,
      "outputs": [
        {
          "output_type": "display_data",
          "data": {
            "text/html": [
              "<table border=\"1\" class=\"dataframe\">\n",
              "  <thead>\n",
              "    <tr style=\"text-align: right;\">\n",
              "      <th></th>\n",
              "      <th>text</th>\n",
              "      <th>category</th>\n",
              "    </tr>\n",
              "  </thead>\n",
              "  <tbody>\n",
              "    <tr>\n",
              "      <th>0</th>\n",
              "      <td>xxbos xxmaj match 1 : xxmaj tag xxmaj team xxmaj table xxmaj match xxmaj bubba xxmaj ray and xxmaj spike xxmaj dudley vs xxmaj eddie xxmaj guerrero and xxmaj chris xxmaj benoit xxmaj bubba xxmaj ray and xxmaj spike xxmaj dudley started things off with a xxmaj tag xxmaj team xxmaj table xxmaj match against xxmaj eddie xxmaj guerrero and xxmaj chris xxmaj benoit . xxmaj according to the rules of the match , both opponents have to go through tables in order to get the win . xxmaj benoit and xxmaj guerrero heated up early on by taking turns hammering first xxmaj spike and then xxmaj bubba xxmaj ray . a xxmaj german xxunk by xxmaj benoit to xxmaj bubba took the wind out of the xxmaj dudley brother . xxmaj spike tried to help his brother , but the referee restrained him while xxmaj benoit and xxmaj guerrero</td>\n",
              "      <td>pos</td>\n",
              "    </tr>\n",
              "    <tr>\n",
              "      <th>1</th>\n",
              "      <td>xxbos xxmaj by now you 've probably heard a bit about the new xxmaj disney dub of xxmaj miyazaki 's classic film , xxmaj laputa : xxmaj castle xxmaj in xxmaj the xxmaj sky . xxmaj during late summer of 1998 , xxmaj disney released \" kiki 's xxmaj delivery xxmaj service \" on video which included a preview of the xxmaj laputa dub saying it was due out in \" 1 xxrep 3 9 \" . xxmaj it 's obviously way past that year now , but the dub has been finally completed . xxmaj and it 's not \" laputa : xxmaj castle xxmaj in xxmaj the xxmaj sky \" , just \" castle xxmaj in xxmaj the xxmaj sky \" for the dub , since xxmaj laputa is not such a nice word in xxmaj spanish ( even though they use the word xxmaj laputa many times</td>\n",
              "      <td>pos</td>\n",
              "    </tr>\n",
              "    <tr>\n",
              "      <th>2</th>\n",
              "      <td>xxbos xxmaj warning : xxmaj does contain spoilers . \\n\\n xxmaj open xxmaj your xxmaj eyes \\n\\n xxmaj if you have not seen this film and plan on doing so , just stop reading here and take my word for it . xxmaj you have to see this film . i have seen it four times so far and i still have n't made up my mind as to what exactly happened in the film . xxmaj that is all i am going to say because if you have not seen this film , then stop reading right now . \\n\\n xxmaj if you are still reading then i am going to pose some questions to you and maybe if anyone has any answers you can email me and let me know what you think . \\n\\n i remember my xxmaj grade 11 xxmaj english teacher quite well . xxmaj</td>\n",
              "      <td>pos</td>\n",
              "    </tr>\n",
              "  </tbody>\n",
              "</table>"
            ],
            "text/plain": [
              "<IPython.core.display.HTML object>"
            ]
          },
          "metadata": {
            "tags": []
          }
        }
      ]
    },
    {
      "cell_type": "code",
      "metadata": {
        "id": "R9QxucGkw5jM"
      },
      "source": [
        "nums_samp = toks200[:10].map(num)"
      ],
      "execution_count": null,
      "outputs": []
    },
    {
      "cell_type": "code",
      "metadata": {
        "colab": {
          "base_uri": "https://localhost:8080/"
        },
        "id": "ukgxfD5qxjHU",
        "outputId": "5fad607f-b732-4174-f0ed-5c17eeff184f"
      },
      "source": [
        "nums_samp.map(len)"
      ],
      "execution_count": null,
      "outputs": [
        {
          "output_type": "execute_result",
          "data": {
            "text/plain": [
              "(#10) [328,288,215,309,72,172,146,165,197,92]"
            ]
          },
          "metadata": {
            "tags": []
          },
          "execution_count": 102
        }
      ]
    },
    {
      "cell_type": "code",
      "metadata": {
        "id": "oAcyFy6gxsib"
      },
      "source": [
        "learn = text_classifier_learner(dls_clas, AWD_LSTM, drop_mult=0.5, \n",
        "                                metrics=accuracy).to_fp16()"
      ],
      "execution_count": null,
      "outputs": []
    },
    {
      "cell_type": "code",
      "metadata": {
        "colab": {
          "base_uri": "https://localhost:8080/",
          "height": 708
        },
        "id": "dR3xlTn8x_kY",
        "outputId": "4feddd0b-a8b4-453c-ea5f-67babec1618d"
      },
      "source": [
        "learn.summary()"
      ],
      "execution_count": null,
      "outputs": [
        {
          "output_type": "display_data",
          "data": {
            "text/html": [
              ""
            ],
            "text/plain": [
              "<IPython.core.display.HTML object>"
            ]
          },
          "metadata": {
            "tags": []
          }
        },
        {
          "output_type": "execute_result",
          "data": {
            "application/vnd.google.colaboratory.intrinsic+json": {
              "type": "string"
            },
            "text/plain": [
              "SequentialRNN (Input shape: 128)\n",
              "============================================================================\n",
              "Layer (type)         Output Shape         Param #    Trainable \n",
              "============================================================================\n",
              "                     []                  \n",
              "LSTM                                                           \n",
              "LSTM                                                           \n",
              "LSTM                                                           \n",
              "RNNDropout                                                     \n",
              "RNNDropout                                                     \n",
              "RNNDropout                                                     \n",
              "BatchNorm1d                               2400       True      \n",
              "Dropout                                                        \n",
              "____________________________________________________________________________\n",
              "                     128 x 50            \n",
              "Linear                                    60000      True      \n",
              "ReLU                                                           \n",
              "BatchNorm1d                               100        True      \n",
              "Dropout                                                        \n",
              "____________________________________________________________________________\n",
              "                     128 x 2             \n",
              "Linear                                    100        True      \n",
              "____________________________________________________________________________\n",
              "\n",
              "Total params: 62,600\n",
              "Total trainable params: 62,600\n",
              "Total non-trainable params: 0\n",
              "\n",
              "Optimizer used: <function Adam at 0x7fa5ba5fb9e0>\n",
              "Loss function: FlattenedLoss of CrossEntropyLoss()\n",
              "\n",
              "Model frozen up to parameter group #4\n",
              "\n",
              "Callbacks:\n",
              "  - TrainEvalCallback\n",
              "  - ModelResetter\n",
              "  - RNNCallback\n",
              "  - MixedPrecision\n",
              "  - Recorder\n",
              "  - ProgressCallback"
            ]
          },
          "metadata": {
            "tags": []
          },
          "execution_count": 105
        }
      ]
    },
    {
      "cell_type": "code",
      "metadata": {
        "id": "TBZWptgfyA0U"
      },
      "source": [
        "learn = learn.load_encoder('/content/gdrive/MyDrive/models/1epoch_nlp_class_finetuned')"
      ],
      "execution_count": null,
      "outputs": []
    },
    {
      "cell_type": "markdown",
      "metadata": {
        "id": "GQOSiaXfzO8a"
      },
      "source": [
        "# Fine-Tuning the Classifier"
      ]
    },
    {
      "cell_type": "code",
      "metadata": {
        "colab": {
          "base_uri": "https://localhost:8080/",
          "height": 81
        },
        "id": "sdWGe9GSzQVF",
        "outputId": "3132f97e-6a1b-4d33-d1ab-b3fcffdc3d33"
      },
      "source": [
        "learn.fit_one_cycle(1, 2e-2)"
      ],
      "execution_count": null,
      "outputs": [
        {
          "output_type": "display_data",
          "data": {
            "text/html": [
              "<table border=\"1\" class=\"dataframe\">\n",
              "  <thead>\n",
              "    <tr style=\"text-align: left;\">\n",
              "      <th>epoch</th>\n",
              "      <th>train_loss</th>\n",
              "      <th>valid_loss</th>\n",
              "      <th>accuracy</th>\n",
              "      <th>time</th>\n",
              "    </tr>\n",
              "  </thead>\n",
              "  <tbody>\n",
              "    <tr>\n",
              "      <td>0</td>\n",
              "      <td>0.286729</td>\n",
              "      <td>0.225543</td>\n",
              "      <td>0.909440</td>\n",
              "      <td>01:02</td>\n",
              "    </tr>\n",
              "  </tbody>\n",
              "</table>"
            ],
            "text/plain": [
              "<IPython.core.display.HTML object>"
            ]
          },
          "metadata": {
            "tags": []
          }
        }
      ]
    },
    {
      "cell_type": "code",
      "metadata": {
        "colab": {
          "base_uri": "https://localhost:8080/",
          "height": 81
        },
        "id": "TANZ09dqzbf-",
        "outputId": "1ee56840-8461-4717-a340-f0a4179cbbb1"
      },
      "source": [
        "learn.freeze_to(-2)\n",
        "learn.fit_one_cycle(1, slice(1e-2/(2.6**4),1e-2))"
      ],
      "execution_count": null,
      "outputs": [
        {
          "output_type": "display_data",
          "data": {
            "text/html": [
              "<table border=\"1\" class=\"dataframe\">\n",
              "  <thead>\n",
              "    <tr style=\"text-align: left;\">\n",
              "      <th>epoch</th>\n",
              "      <th>train_loss</th>\n",
              "      <th>valid_loss</th>\n",
              "      <th>accuracy</th>\n",
              "      <th>time</th>\n",
              "    </tr>\n",
              "  </thead>\n",
              "  <tbody>\n",
              "    <tr>\n",
              "      <td>0</td>\n",
              "      <td>0.247361</td>\n",
              "      <td>0.197575</td>\n",
              "      <td>0.922800</td>\n",
              "      <td>01:04</td>\n",
              "    </tr>\n",
              "  </tbody>\n",
              "</table>"
            ],
            "text/plain": [
              "<IPython.core.display.HTML object>"
            ]
          },
          "metadata": {
            "tags": []
          }
        }
      ]
    },
    {
      "cell_type": "code",
      "metadata": {
        "colab": {
          "base_uri": "https://localhost:8080/",
          "height": 81
        },
        "id": "pB6din_p0QRv",
        "outputId": "96ef36f3-bec1-4756-f55f-f91fa9894a19"
      },
      "source": [
        "learn.freeze_to(-3)\n",
        "learn.fit_one_cycle(1, slice(5e-3/(2.6**4),5e-3))"
      ],
      "execution_count": null,
      "outputs": [
        {
          "output_type": "display_data",
          "data": {
            "text/html": [
              "<table border=\"1\" class=\"dataframe\">\n",
              "  <thead>\n",
              "    <tr style=\"text-align: left;\">\n",
              "      <th>epoch</th>\n",
              "      <th>train_loss</th>\n",
              "      <th>valid_loss</th>\n",
              "      <th>accuracy</th>\n",
              "      <th>time</th>\n",
              "    </tr>\n",
              "  </thead>\n",
              "  <tbody>\n",
              "    <tr>\n",
              "      <td>0</td>\n",
              "      <td>0.202670</td>\n",
              "      <td>0.166143</td>\n",
              "      <td>0.937400</td>\n",
              "      <td>01:09</td>\n",
              "    </tr>\n",
              "  </tbody>\n",
              "</table>"
            ],
            "text/plain": [
              "<IPython.core.display.HTML object>"
            ]
          },
          "metadata": {
            "tags": []
          }
        }
      ]
    },
    {
      "cell_type": "code",
      "metadata": {
        "colab": {
          "base_uri": "https://localhost:8080/",
          "height": 112
        },
        "id": "I4poUx4B0TQU",
        "outputId": "081f372c-4461-4636-9a6b-bbda492de67d"
      },
      "source": [
        "learn.unfreeze()\n",
        "learn.fit_one_cycle(2, slice(1e-3/(2.6**4),1e-3))"
      ],
      "execution_count": null,
      "outputs": [
        {
          "output_type": "display_data",
          "data": {
            "text/html": [
              "<table border=\"1\" class=\"dataframe\">\n",
              "  <thead>\n",
              "    <tr style=\"text-align: left;\">\n",
              "      <th>epoch</th>\n",
              "      <th>train_loss</th>\n",
              "      <th>valid_loss</th>\n",
              "      <th>accuracy</th>\n",
              "      <th>time</th>\n",
              "    </tr>\n",
              "  </thead>\n",
              "  <tbody>\n",
              "    <tr>\n",
              "      <td>0</td>\n",
              "      <td>0.164385</td>\n",
              "      <td>0.163494</td>\n",
              "      <td>0.937000</td>\n",
              "      <td>01:16</td>\n",
              "    </tr>\n",
              "    <tr>\n",
              "      <td>1</td>\n",
              "      <td>0.151970</td>\n",
              "      <td>0.165391</td>\n",
              "      <td>0.937720</td>\n",
              "      <td>01:18</td>\n",
              "    </tr>\n",
              "  </tbody>\n",
              "</table>"
            ],
            "text/plain": [
              "<IPython.core.display.HTML object>"
            ]
          },
          "metadata": {
            "tags": []
          }
        }
      ]
    },
    {
      "cell_type": "code",
      "metadata": {
        "colab": {
          "base_uri": "https://localhost:8080/"
        },
        "id": "h6hFOIXJ13Y6",
        "outputId": "dc43ca34-8cf7-4682-8cd9-d1ea359ffcff"
      },
      "source": [
        "learn.save('/content/gdrive/MyDrive/models/final_1epoch_nlp_class')"
      ],
      "execution_count": null,
      "outputs": [
        {
          "output_type": "execute_result",
          "data": {
            "text/plain": [
              "Path('/content/gdrive/MyDrive/models/final_1epoch_nlp_class.pth')"
            ]
          },
          "metadata": {
            "tags": []
          },
          "execution_count": 111
        }
      ]
    },
    {
      "cell_type": "code",
      "metadata": {
        "id": "Ui6uqN4d15Tt"
      },
      "source": [
        ""
      ],
      "execution_count": null,
      "outputs": []
    }
  ]
}