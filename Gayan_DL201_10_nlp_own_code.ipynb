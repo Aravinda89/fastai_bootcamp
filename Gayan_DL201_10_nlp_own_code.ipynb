{
  "nbformat": 4,
  "nbformat_minor": 0,
  "metadata": {
    "colab": {
      "name": "Gayan_DL201_10_nlp_own_code.ipynb",
      "provenance": [],
      "collapsed_sections": [],
      "include_colab_link": true
    },
    "kernelspec": {
      "name": "python3",
      "display_name": "Python 3"
    },
    "language_info": {
      "name": "python"
    }
  },
  "cells": [
    {
      "cell_type": "markdown",
      "metadata": {
        "id": "view-in-github",
        "colab_type": "text"
      },
      "source": [
        "<a href=\"https://colab.research.google.com/github/Aravinda89/fastai_bootcamp/blob/main/Gayan_DL201_10_nlp_own_code.ipynb\" target=\"_parent\"><img src=\"https://colab.research.google.com/assets/colab-badge.svg\" alt=\"Open In Colab\"/></a>"
      ]
    },
    {
      "cell_type": "markdown",
      "metadata": {
        "id": "j3T-2NPIRRE-"
      },
      "source": [
        "# NLP Deep Dive - Own Code"
      ]
    },
    {
      "cell_type": "markdown",
      "metadata": {
        "id": "bcF86rzkRV0m"
      },
      "source": [
        "Own refactored code and notes for *Chapter 10: NLP Deep Dive: RNNs* ([`10_nlp.ipynb`](https://colab.research.google.com/github/vtecftwy/fastbook/blob/master/10_nlp.ipynb))."
      ]
    },
    {
      "cell_type": "markdown",
      "metadata": {
        "id": "OsaHv4EvRhEn"
      },
      "source": [
        "## Instructions"
      ]
    },
    {
      "cell_type": "markdown",
      "metadata": {
        "id": "RPjNlZiJTrp4"
      },
      "source": [
        "It is recommended that you work in two steps:\n",
        "1. Copy the code from the fastbook notebook and make sure it works\n",
        "2. Refactor (i.e. rewrite the code in your own style) by \n",
        "    - regrouping things together that make sense ro you\n",
        "    - adding text cells to explain what to code does in your own words and possible references to the doc you may have consulsted\n",
        "    - deleting code you think was only there to explain things but are not required once you run models end to end\n",
        "\n",
        "When you have done that, you get a customized reference notebook for you which you can consult later on when you forgot the details, withouht having to read the full notebook from fastbook."
      ]
    },
    {
      "cell_type": "markdown",
      "metadata": {
        "id": "I0HodndDt7ih"
      },
      "source": [
        "## Your code"
      ]
    },
    {
      "cell_type": "code",
      "metadata": {
        "id": "FQ_iZ_G0t9sD",
        "colab": {
          "base_uri": "https://localhost:8080/"
        },
        "outputId": "a1b2512e-cb67-4d4c-d7df-f7ae5856ee89"
      },
      "source": [
        "!pip install -Uqq fastbook\n",
        "import fastbook\n",
        "# fastbook.setup_book(bind_drive=False)\n",
        "\n",
        "from fastbook import *\n",
        "from IPython.display import display,HTML"
      ],
      "execution_count": 1,
      "outputs": [
        {
          "output_type": "stream",
          "text": [
            "\u001b[K     |████████████████████████████████| 727kB 5.0MB/s \n",
            "\u001b[K     |████████████████████████████████| 194kB 45.0MB/s \n",
            "\u001b[K     |████████████████████████████████| 51kB 6.7MB/s \n",
            "\u001b[K     |████████████████████████████████| 1.2MB 30.1MB/s \n",
            "\u001b[K     |████████████████████████████████| 61kB 8.2MB/s \n",
            "\u001b[K     |████████████████████████████████| 61kB 7.9MB/s \n",
            "\u001b[?25h"
          ],
          "name": "stdout"
        }
      ]
    },
    {
      "cell_type": "code",
      "metadata": {
        "colab": {
          "base_uri": "https://localhost:8080/",
          "height": 17
        },
        "id": "EK0N92VKI8Uf",
        "outputId": "f2cea4f6-0c40-48e5-c241-368dbbd5cd5b"
      },
      "source": [
        "from fastai.text.all import *\n",
        "path = untar_data(URLs.IMDB)"
      ],
      "execution_count": 2,
      "outputs": [
        {
          "output_type": "display_data",
          "data": {
            "text/html": [
              ""
            ],
            "text/plain": [
              "<IPython.core.display.HTML object>"
            ]
          },
          "metadata": {
            "tags": []
          }
        }
      ]
    },
    {
      "cell_type": "code",
      "metadata": {
        "colab": {
          "base_uri": "https://localhost:8080/"
        },
        "id": "Cw3BITfXTSKH",
        "outputId": "eea1f749-7f74-4a53-d3b3-1f1b6873c9cb"
      },
      "source": [
        "path"
      ],
      "execution_count": 3,
      "outputs": [
        {
          "output_type": "execute_result",
          "data": {
            "text/plain": [
              "Path('/root/.fastai/data/imdb')"
            ]
          },
          "metadata": {
            "tags": []
          },
          "execution_count": 3
        }
      ]
    },
    {
      "cell_type": "code",
      "metadata": {
        "colab": {
          "base_uri": "https://localhost:8080/"
        },
        "id": "sA_sanE2TYSW",
        "outputId": "92a1754e-4887-489b-f642-e5636962f6a0"
      },
      "source": [
        "path.absolute()"
      ],
      "execution_count": 4,
      "outputs": [
        {
          "output_type": "execute_result",
          "data": {
            "text/plain": [
              "Path('/root/.fastai/data/imdb')"
            ]
          },
          "metadata": {
            "tags": []
          },
          "execution_count": 4
        }
      ]
    },
    {
      "cell_type": "code",
      "metadata": {
        "colab": {
          "base_uri": "https://localhost:8080/"
        },
        "id": "9oce62-WI8p-",
        "outputId": "d6ac55a6-1f66-48e5-d055-a26edb3e8af3"
      },
      "source": [
        "# 1. List all the folders under path (using the path.iterdir() method)\n",
        "print(f\"path to dataset: {path.absolute()}\")\n",
        "[f\"{'file:  ' if p.is_file() else 'folder:'} {p.name}\" for p in path.iterdir()]"
      ],
      "execution_count": 5,
      "outputs": [
        {
          "output_type": "stream",
          "text": [
            "path to dataset: /root/.fastai/data/imdb\n"
          ],
          "name": "stdout"
        },
        {
          "output_type": "execute_result",
          "data": {
            "text/plain": [
              "['folder: unsup',\n",
              " 'folder: tmp_lm',\n",
              " 'folder: test',\n",
              " 'folder: train',\n",
              " 'folder: tmp_clas',\n",
              " 'file:   imdb.vocab',\n",
              " 'file:   README']"
            ]
          },
          "metadata": {
            "tags": []
          },
          "execution_count": 5
        }
      ]
    },
    {
      "cell_type": "code",
      "metadata": {
        "id": "iBgsrqWNJCZ4",
        "colab": {
          "base_uri": "https://localhost:8080/"
        },
        "outputId": "3edf1360-493d-4b8b-e9e1-d41d70cc7a69"
      },
      "source": [
        "# 2. Get the full text of README\n",
        "with open(path/'README', mode='r') as f:\n",
        "    txt = f.readlines()\n",
        "print(''.join(txt))"
      ],
      "execution_count": 6,
      "outputs": [
        {
          "output_type": "stream",
          "text": [
            "Large Movie Review Dataset v1.0\n",
            "\n",
            "Overview\n",
            "\n",
            "This dataset contains movie reviews along with their associated binary\n",
            "sentiment polarity labels. It is intended to serve as a benchmark for\n",
            "sentiment classification. This document outlines how the dataset was\n",
            "gathered, and how to use the files provided. \n",
            "\n",
            "Dataset \n",
            "\n",
            "The core dataset contains 50,000 reviews split evenly into 25k train\n",
            "and 25k test sets. The overall distribution of labels is balanced (25k\n",
            "pos and 25k neg). We also include an additional 50,000 unlabeled\n",
            "documents for unsupervised learning. \n",
            "\n",
            "In the entire collection, no more than 30 reviews are allowed for any\n",
            "given movie because reviews for the same movie tend to have correlated\n",
            "ratings. Further, the train and test sets contain a disjoint set of\n",
            "movies, so no significant performance is obtained by memorizing\n",
            "movie-unique terms and their associated with observed labels.  In the\n",
            "labeled train/test sets, a negative review has a score <= 4 out of 10,\n",
            "and a positive review has a score >= 7 out of 10. Thus reviews with\n",
            "more neutral ratings are not included in the train/test sets. In the\n",
            "unsupervised set, reviews of any rating are included and there are an\n",
            "even number of reviews > 5 and <= 5.\n",
            "\n",
            "Files\n",
            "\n",
            "There are two top-level directories [train/, test/] corresponding to\n",
            "the training and test sets. Each contains [pos/, neg/] directories for\n",
            "the reviews with binary labels positive and negative. Within these\n",
            "directories, reviews are stored in text files named following the\n",
            "convention [[id]_[rating].txt] where [id] is a unique id and [rating] is\n",
            "the star rating for that review on a 1-10 scale. For example, the file\n",
            "[test/pos/200_8.txt] is the text for a positive-labeled test set\n",
            "example with unique id 200 and star rating 8/10 from IMDb. The\n",
            "[train/unsup/] directory has 0 for all ratings because the ratings are\n",
            "omitted for this portion of the dataset.\n",
            "\n",
            "We also include the IMDb URLs for each review in a separate\n",
            "[urls_[pos, neg, unsup].txt] file. A review with unique id 200 will\n",
            "have its URL on line 200 of this file. Due the ever-changing IMDb, we\n",
            "are unable to link directly to the review, but only to the movie's\n",
            "review page.\n",
            "\n",
            "In addition to the review text files, we include already-tokenized bag\n",
            "of words (BoW) features that were used in our experiments. These \n",
            "are stored in .feat files in the train/test directories. Each .feat\n",
            "file is in LIBSVM format, an ascii sparse-vector format for labeled\n",
            "data.  The feature indices in these files start from 0, and the text\n",
            "tokens corresponding to a feature index is found in [imdb.vocab]. So a\n",
            "line with 0:7 in a .feat file means the first word in [imdb.vocab]\n",
            "(the) appears 7 times in that review.\n",
            "\n",
            "LIBSVM page for details on .feat file format:\n",
            "http://www.csie.ntu.edu.tw/~cjlin/libsvm/\n",
            "\n",
            "We also include [imdbEr.txt] which contains the expected rating for\n",
            "each token in [imdb.vocab] as computed by (Potts, 2011). The expected\n",
            "rating is a good way to get a sense for the average polarity of a word\n",
            "in the dataset.\n",
            "\n",
            "Citing the dataset\n",
            "\n",
            "When using this dataset please cite our ACL 2011 paper which\n",
            "introduces it. This paper also contains classification results which\n",
            "you may want to compare against.\n",
            "\n",
            "\n",
            "@InProceedings{maas-EtAl:2011:ACL-HLT2011,\n",
            "  author    = {Maas, Andrew L.  and  Daly, Raymond E.  and  Pham, Peter T.  and  Huang, Dan  and  Ng, Andrew Y.  and  Potts, Christopher},\n",
            "  title     = {Learning Word Vectors for Sentiment Analysis},\n",
            "  booktitle = {Proceedings of the 49th Annual Meeting of the Association for Computational Linguistics: Human Language Technologies},\n",
            "  month     = {June},\n",
            "  year      = {2011},\n",
            "  address   = {Portland, Oregon, USA},\n",
            "  publisher = {Association for Computational Linguistics},\n",
            "  pages     = {142--150},\n",
            "  url       = {http://www.aclweb.org/anthology/P11-1015}\n",
            "}\n",
            "\n",
            "References\n",
            "\n",
            "Potts, Christopher. 2011. On the negativity of negation. In Nan Li and\n",
            "David Lutz, eds., Proceedings of Semantics and Linguistic Theory 20,\n",
            "636-659.\n",
            "\n",
            "Contact\n",
            "\n",
            "For questions/comments/corrections please contact Andrew Maas\n",
            "amaas@cs.stanford.edu\n",
            "\n"
          ],
          "name": "stdout"
        }
      ]
    },
    {
      "cell_type": "code",
      "metadata": {
        "id": "q2hjrDddJEXw",
        "colab": {
          "base_uri": "https://localhost:8080/",
          "height": 86
        },
        "outputId": "024c5b65-852e-4821-acd6-bd3bba549546"
      },
      "source": [
        "# List the folders and list the files\n",
        "print('Folders:')\n",
        "display([p.name for p in path.iterdir() if p.is_dir()])\n",
        "print('Files:')\n",
        "display([p.name for p in path.iterdir() if p.is_file()])"
      ],
      "execution_count": 7,
      "outputs": [
        {
          "output_type": "stream",
          "text": [
            "Folders:\n"
          ],
          "name": "stdout"
        },
        {
          "output_type": "display_data",
          "data": {
            "text/plain": [
              "['unsup', 'tmp_lm', 'test', 'train', 'tmp_clas']"
            ]
          },
          "metadata": {
            "tags": []
          }
        },
        {
          "output_type": "stream",
          "text": [
            "Files:\n"
          ],
          "name": "stdout"
        },
        {
          "output_type": "display_data",
          "data": {
            "text/plain": [
              "['imdb.vocab', 'README']"
            ]
          },
          "metadata": {
            "tags": []
          }
        }
      ]
    },
    {
      "cell_type": "code",
      "metadata": {
        "id": "lxwhnGxyJHhn",
        "colab": {
          "base_uri": "https://localhost:8080/"
        },
        "outputId": "8dae2594-002b-4631-ce80-4e9a5fbb8f49"
      },
      "source": [
        "# Content of the training set (in train folder), test/validation set (in test folder) and in unsupervised (excluding text files)\n",
        "[p.name for p in (path/'train').iterdir()], [p.name for p in (path/'test').iterdir()], [p.name for p in (path/'unsup').iterdir() if 'txt' not in p.suffix]"
      ],
      "execution_count": 8,
      "outputs": [
        {
          "output_type": "execute_result",
          "data": {
            "text/plain": [
              "(['unsupBow.feat', 'neg', 'pos', 'labeledBow.feat'],\n",
              " ['neg', 'pos', 'labeledBow.feat'],\n",
              " [])"
            ]
          },
          "metadata": {
            "tags": []
          },
          "execution_count": 8
        }
      ]
    },
    {
      "cell_type": "code",
      "metadata": {
        "colab": {
          "base_uri": "https://localhost:8080/"
        },
        "id": "AeJ7nbx4UjBH",
        "outputId": "a3369b24-86ff-4d74-bf54-09ff1c5e2c49"
      },
      "source": [
        "# First files for training in the positive review folder (pos) and negative review (neg). As mentioned in read.me the format is id_rating.txt\n",
        "[p.name for p in (path/'train/pos').iterdir()][:5], [p.name for p in (path/'train/neg').iterdir()][:5]"
      ],
      "execution_count": 9,
      "outputs": [
        {
          "output_type": "execute_result",
          "data": {
            "text/plain": [
              "(['11625_7.txt', '3371_8.txt', '2767_8.txt', '12409_7.txt', '2694_10.txt'],\n",
              " ['5733_2.txt', '10743_2.txt', '2380_1.txt', '6850_3.txt', '7259_4.txt'])"
            ]
          },
          "metadata": {
            "tags": []
          },
          "execution_count": 9
        }
      ]
    },
    {
      "cell_type": "code",
      "metadata": {
        "colab": {
          "base_uri": "https://localhost:8080/"
        },
        "id": "wc-3G5zWUjmO",
        "outputId": "940f8c3c-90ca-47a9-d725-2144f5a5302d"
      },
      "source": [
        "# First files for testing in the positive review folder (pos) and negative review (neg). As mentioned in read.me the format is id_rating.txt\n",
        "[p.name for p in (path/'test/pos').iterdir()][:5], [p.name for p in (path/'test/neg').iterdir()][:5]"
      ],
      "execution_count": 10,
      "outputs": [
        {
          "output_type": "execute_result",
          "data": {
            "text/plain": [
              "(['6770_8.txt', '7643_8.txt', '7169_10.txt', '546_7.txt', '6855_7.txt'],\n",
              " ['2380_1.txt', '5907_1.txt', '4026_2.txt', '8691_1.txt', '9146_3.txt'])"
            ]
          },
          "metadata": {
            "tags": []
          },
          "execution_count": 10
        }
      ]
    },
    {
      "cell_type": "code",
      "metadata": {
        "colab": {
          "base_uri": "https://localhost:8080/"
        },
        "id": "i7IAUJ3zUsdY",
        "outputId": "1ae4e52c-ea7e-4882-dbb8-008e418ab7c4"
      },
      "source": [
        "# First files in unsup folder (pos). As mentioned in read.me the format is id_rating.txt, where rating is 0\n",
        "[p.name for p in (path/'unsup').iterdir()][:5]"
      ],
      "execution_count": 11,
      "outputs": [
        {
          "output_type": "execute_result",
          "data": {
            "text/plain": [
              "['31370_0.txt', '14077_0.txt', '12655_0.txt', '42005_0.txt', '11246_0.txt']"
            ]
          },
          "metadata": {
            "tags": []
          },
          "execution_count": 11
        }
      ]
    },
    {
      "cell_type": "code",
      "metadata": {
        "colab": {
          "base_uri": "https://localhost:8080/"
        },
        "id": "uOP3fc3KU2Vg",
        "outputId": "cfbc318f-5616-4a6f-df00-f1842f9fbacf"
      },
      "source": [
        "files = get_text_files(path, folders = ['train', 'test', 'unsup'])\n",
        "files"
      ],
      "execution_count": 12,
      "outputs": [
        {
          "output_type": "execute_result",
          "data": {
            "text/plain": [
              "(#100000) [Path('/root/.fastai/data/imdb/unsup/31370_0.txt'),Path('/root/.fastai/data/imdb/unsup/14077_0.txt'),Path('/root/.fastai/data/imdb/unsup/12655_0.txt'),Path('/root/.fastai/data/imdb/unsup/42005_0.txt'),Path('/root/.fastai/data/imdb/unsup/11246_0.txt'),Path('/root/.fastai/data/imdb/unsup/29343_0.txt'),Path('/root/.fastai/data/imdb/unsup/12214_0.txt'),Path('/root/.fastai/data/imdb/unsup/10198_0.txt'),Path('/root/.fastai/data/imdb/unsup/33536_0.txt'),Path('/root/.fastai/data/imdb/unsup/4347_0.txt')...]"
            ]
          },
          "metadata": {
            "tags": []
          },
          "execution_count": 12
        }
      ]
    },
    {
      "cell_type": "code",
      "metadata": {
        "colab": {
          "base_uri": "https://localhost:8080/"
        },
        "id": "lGU5Ld6mVLvB",
        "outputId": "aff2a39d-3dfb-471c-baa0-7759da4ae4ea"
      },
      "source": [
        "len(files)"
      ],
      "execution_count": 13,
      "outputs": [
        {
          "output_type": "execute_result",
          "data": {
            "text/plain": [
              "100000"
            ]
          },
          "metadata": {
            "tags": []
          },
          "execution_count": 13
        }
      ]
    },
    {
      "cell_type": "code",
      "metadata": {
        "colab": {
          "base_uri": "https://localhost:8080/",
          "height": 52
        },
        "id": "-yeX2CJNVvD3",
        "outputId": "0787fa9c-105d-45c6-9548-9c82de4be836"
      },
      "source": [
        "txt = files[1].open().read()\n",
        "txt[:150]"
      ],
      "execution_count": 14,
      "outputs": [
        {
          "output_type": "execute_result",
          "data": {
            "application/vnd.google.colaboratory.intrinsic+json": {
              "type": "string"
            },
            "text/plain": [
              "\"I can't help but wonder, after reading so many negative reviews, if people really got this movie. Yes, it is a commentary on a depraved culture. But, \""
            ]
          },
          "metadata": {
            "tags": []
          },
          "execution_count": 14
        }
      ]
    },
    {
      "cell_type": "code",
      "metadata": {
        "colab": {
          "base_uri": "https://localhost:8080/"
        },
        "id": "KDdcG-0kXEQw",
        "outputId": "7b4f8ee3-2113-484f-f50a-013a7ea1847f"
      },
      "source": [
        "spacy = WordTokenizer()\n",
        "toks = first(spacy([txt]))\n",
        "print(coll_repr(toks, 30))"
      ],
      "execution_count": 16,
      "outputs": [
        {
          "output_type": "stream",
          "text": [
            "(#647) ['I','ca',\"n't\",'help','but','wonder',',','after','reading','so','many','negative','reviews',',','if','people','really','got','this','movie','.','Yes',',','it','is','a','commentary','on','a','depraved'...]\n"
          ],
          "name": "stdout"
        }
      ]
    },
    {
      "cell_type": "code",
      "metadata": {
        "colab": {
          "base_uri": "https://localhost:8080/"
        },
        "id": "WuZEv8mTYTjo",
        "outputId": "13e695e0-8b26-4ebe-85c3-3acff122a0e6"
      },
      "source": [
        "first(spacy(['The U.S. dollar $1 is $1.00.']))"
      ],
      "execution_count": 17,
      "outputs": [
        {
          "output_type": "execute_result",
          "data": {
            "text/plain": [
              "(#9) ['The','U.S.','dollar','$','1','is','$','1.00','.']"
            ]
          },
          "metadata": {
            "tags": []
          },
          "execution_count": 17
        }
      ]
    },
    {
      "cell_type": "code",
      "metadata": {
        "colab": {
          "base_uri": "https://localhost:8080/"
        },
        "id": "mUa9ID5mb-dQ",
        "outputId": "b4d8da6b-1fe5-4589-aa3c-0ed76b2c421a"
      },
      "source": [
        "tkn = Tokenizer(spacy)\n",
        "print(coll_repr(tkn('The U.S. dollar $1 is $1.00.'),20))"
      ],
      "execution_count": 18,
      "outputs": [
        {
          "output_type": "stream",
          "text": [
            "(#13) ['xxbos','xxmaj','the','xxup','u.s','.','dollar','$','1','is','$','1.00','.']\n"
          ],
          "name": "stdout"
        }
      ]
    },
    {
      "cell_type": "code",
      "metadata": {
        "colab": {
          "base_uri": "https://localhost:8080/"
        },
        "id": "DEtAUz9ncLs5",
        "outputId": "42d644aa-7de8-4b1d-861e-8d162b1a6e7c"
      },
      "source": [
        "tkn = Tokenizer(spacy)\n",
        "print(coll_repr(tkn(txt), 31))"
      ],
      "execution_count": 19,
      "outputs": [
        {
          "output_type": "stream",
          "text": [
            "(#709) ['xxbos','i','ca',\"n't\",'help','but','wonder',',','after','reading','so','many','negative','reviews',',','if','people','really','got','this','movie','.','xxmaj','yes',',','it','is','a','commentary','on','a'...]\n"
          ],
          "name": "stdout"
        }
      ]
    },
    {
      "cell_type": "code",
      "metadata": {
        "colab": {
          "base_uri": "https://localhost:8080/"
        },
        "id": "HY8AHYXTcQY6",
        "outputId": "bf0bb9c3-716d-428e-f541-4fcec50f3948"
      },
      "source": [
        "defaults.text_proc_rules"
      ],
      "execution_count": 20,
      "outputs": [
        {
          "output_type": "execute_result",
          "data": {
            "text/plain": [
              "[<function fastai.text.core.fix_html>,\n",
              " <function fastai.text.core.replace_rep>,\n",
              " <function fastai.text.core.replace_wrep>,\n",
              " <function fastai.text.core.spec_add_spaces>,\n",
              " <function fastai.text.core.rm_useless_spaces>,\n",
              " <function fastai.text.core.replace_all_caps>,\n",
              " <function fastai.text.core.replace_maj>,\n",
              " <function fastai.text.core.lowercase>]"
            ]
          },
          "metadata": {
            "tags": []
          },
          "execution_count": 20
        }
      ]
    },
    {
      "cell_type": "code",
      "metadata": {
        "id": "bVDy03nZc8sT"
      },
      "source": [
        "replace_rep??"
      ],
      "execution_count": 21,
      "outputs": []
    },
    {
      "cell_type": "code",
      "metadata": {
        "colab": {
          "base_uri": "https://localhost:8080/",
          "height": 34
        },
        "id": "NnWd9r56c_ia",
        "outputId": "1b0fa95f-a86b-4875-8d24-e52282d764e6"
      },
      "source": [
        "coll_repr(tkn('&copy;   Fast.ai www.fast.ai/INDEX'), 31)"
      ],
      "execution_count": 22,
      "outputs": [
        {
          "output_type": "execute_result",
          "data": {
            "application/vnd.google.colaboratory.intrinsic+json": {
              "type": "string"
            },
            "text/plain": [
              "\"(#11) ['xxbos','©','xxmaj','fast.ai','xxrep','3','w','.fast.ai','/','xxup','index']\""
            ]
          },
          "metadata": {
            "tags": []
          },
          "execution_count": 22
        }
      ]
    },
    {
      "cell_type": "code",
      "metadata": {
        "colab": {
          "base_uri": "https://localhost:8080/"
        },
        "id": "Z81FB86QjkvT",
        "outputId": "0d1a974c-6ca1-47fa-c058-fcead9f735af"
      },
      "source": [
        "spacy([txt])"
      ],
      "execution_count": 23,
      "outputs": [
        {
          "output_type": "execute_result",
          "data": {
            "text/plain": [
              "<generator object SpacyTokenizer.__call__.<locals>.<genexpr> at 0x7f4bbebd33d0>"
            ]
          },
          "metadata": {
            "tags": []
          },
          "execution_count": 23
        }
      ]
    },
    {
      "cell_type": "code",
      "metadata": {
        "colab": {
          "base_uri": "https://localhost:8080/"
        },
        "id": "rzh9g9Qfj5i6",
        "outputId": "c0e71125-6415-49de-e3b8-808198289551"
      },
      "source": [
        "tokens = spacy([txt])\n",
        "tokens"
      ],
      "execution_count": 28,
      "outputs": [
        {
          "output_type": "execute_result",
          "data": {
            "text/plain": [
              "<generator object SpacyTokenizer.__call__.<locals>.<genexpr> at 0x7f4bbebd3050>"
            ]
          },
          "metadata": {
            "tags": []
          },
          "execution_count": 28
        }
      ]
    },
    {
      "cell_type": "code",
      "metadata": {
        "colab": {
          "base_uri": "https://localhost:8080/"
        },
        "id": "9OigLzH2jyzi",
        "outputId": "87492ff4-23fd-448a-c731-a9f22b8b4716"
      },
      "source": [
        "next(tokens, None)"
      ],
      "execution_count": 29,
      "outputs": [
        {
          "output_type": "execute_result",
          "data": {
            "text/plain": [
              "(#647) ['I','ca',\"n't\",'help','but','wonder',',','after','reading','so'...]"
            ]
          },
          "metadata": {
            "tags": []
          },
          "execution_count": 29
        }
      ]
    },
    {
      "cell_type": "code",
      "metadata": {
        "colab": {
          "base_uri": "https://localhost:8080/"
        },
        "id": "22fPC3lvj7WX",
        "outputId": "e16105b6-4cc6-4db9-f5d4-2ea5389c719a"
      },
      "source": [
        "tokens = spacy([txt])\n",
        "first(tokens)"
      ],
      "execution_count": 30,
      "outputs": [
        {
          "output_type": "execute_result",
          "data": {
            "text/plain": [
              "(#647) ['I','ca',\"n't\",'help','but','wonder',',','after','reading','so'...]"
            ]
          },
          "metadata": {
            "tags": []
          },
          "execution_count": 30
        }
      ]
    },
    {
      "cell_type": "code",
      "metadata": {
        "colab": {
          "base_uri": "https://localhost:8080/",
          "height": 173
        },
        "id": "X77LuxTOkCGS",
        "outputId": "34a23c17-8ed2-47b3-f6d5-f41b97869cc5"
      },
      "source": [
        "tokens = spacy([txt])\n",
        "display(tokens)\n",
        "\n",
        "tokens = spacy([txt])\n",
        "display(next(tokens, None))\n",
        "\n",
        "tokens = spacy([txt])\n",
        "display(first(tokens))\n",
        "\n",
        "txt0 = files[0].open().read()\n",
        "print(1, ': ', txt0[0:90])\n",
        "txt1 = files[1].open().read()\n",
        "print(2, ': ', txt1[0:90])\n",
        "txt2 = files[2].open().read()\n",
        "print(3, ': ', txt2[0:90])\n",
        "\n",
        "txt_collection = [txt0, txt1, txt2]\n",
        "toks_collection = spacy(txt_collection)\n",
        "display(first(toks_collection))\n",
        "display(first(toks_collection))\n",
        "display(first(toks_collection))"
      ],
      "execution_count": 31,
      "outputs": [
        {
          "output_type": "display_data",
          "data": {
            "text/plain": [
              "<generator object SpacyTokenizer.__call__.<locals>.<genexpr> at 0x7f4bbcfbbc50>"
            ]
          },
          "metadata": {
            "tags": []
          }
        },
        {
          "output_type": "display_data",
          "data": {
            "text/plain": [
              "(#647) ['I','ca',\"n't\",'help','but','wonder',',','after','reading','so'...]"
            ]
          },
          "metadata": {
            "tags": []
          }
        },
        {
          "output_type": "display_data",
          "data": {
            "text/plain": [
              "(#647) ['I','ca',\"n't\",'help','but','wonder',',','after','reading','so'...]"
            ]
          },
          "metadata": {
            "tags": []
          }
        },
        {
          "output_type": "stream",
          "text": [
            "1 :  If you liked Freaks and Geeks this is a must-see. Judd Apatow once again created a hysteri\n",
            "2 :  I can't help but wonder, after reading so many negative reviews, if people really got this\n",
            "3 :  First off Ron Perlman needs to get plastic sugary. When I wasn't trying to throw up every \n"
          ],
          "name": "stdout"
        },
        {
          "output_type": "display_data",
          "data": {
            "text/plain": [
              "(#130) ['If','you','liked','Freaks','and','Geeks','this','is','a','must'...]"
            ]
          },
          "metadata": {
            "tags": []
          }
        },
        {
          "output_type": "display_data",
          "data": {
            "text/plain": [
              "(#647) ['I','ca',\"n't\",'help','but','wonder',',','after','reading','so'...]"
            ]
          },
          "metadata": {
            "tags": []
          }
        },
        {
          "output_type": "display_data",
          "data": {
            "text/plain": [
              "(#147) ['First','off','Ron','Perlman','needs','to','get','plastic','sugary','.'...]"
            ]
          },
          "metadata": {
            "tags": []
          }
        }
      ]
    },
    {
      "cell_type": "code",
      "metadata": {
        "id": "rnHnGNXLkND_"
      },
      "source": [
        "txts = L(o.open().read() for o in files[:2000])"
      ],
      "execution_count": 32,
      "outputs": []
    },
    {
      "cell_type": "code",
      "metadata": {
        "id": "2cn3mAbtlY9T"
      },
      "source": [
        "def subword(sz):\n",
        "    sp = SubwordTokenizer(vocab_sz=sz)\n",
        "    sp.setup(txts)\n",
        "    return ' '.join(first(sp([txt]))[:40])"
      ],
      "execution_count": 33,
      "outputs": []
    },
    {
      "cell_type": "code",
      "metadata": {
        "colab": {
          "base_uri": "https://localhost:8080/",
          "height": 52
        },
        "id": "cqOxxPd2liqY",
        "outputId": "38900ac2-b893-43ab-cfae-3070d5473594"
      },
      "source": [
        "subword(1000)"
      ],
      "execution_count": 34,
      "outputs": [
        {
          "output_type": "display_data",
          "data": {
            "text/html": [
              ""
            ],
            "text/plain": [
              "<IPython.core.display.HTML object>"
            ]
          },
          "metadata": {
            "tags": []
          }
        },
        {
          "output_type": "execute_result",
          "data": {
            "application/vnd.google.colaboratory.intrinsic+json": {
              "type": "string"
            },
            "text/plain": [
              "\"▁I ▁can ' t ▁help ▁but ▁wonder , ▁after ▁read ing ▁so ▁many ▁ ne g at ive ▁review s , ▁if ▁people ▁really ▁got ▁this ▁movie . ▁Y es , ▁it ▁is ▁a ▁comment ary ▁on ▁a ▁de p\""
            ]
          },
          "metadata": {
            "tags": []
          },
          "execution_count": 34
        }
      ]
    },
    {
      "cell_type": "code",
      "metadata": {
        "colab": {
          "base_uri": "https://localhost:8080/",
          "height": 34
        },
        "id": "ReHs5NcMlkgA",
        "outputId": "4c8ef5a5-133b-44c7-92e4-83485ad3bfc0"
      },
      "source": [
        "subword(200)"
      ],
      "execution_count": 35,
      "outputs": [
        {
          "output_type": "display_data",
          "data": {
            "text/html": [
              ""
            ],
            "text/plain": [
              "<IPython.core.display.HTML object>"
            ]
          },
          "metadata": {
            "tags": []
          }
        },
        {
          "output_type": "execute_result",
          "data": {
            "application/vnd.google.colaboratory.intrinsic+json": {
              "type": "string"
            },
            "text/plain": [
              "\"▁I ▁c an ' t ▁he l p ▁but ▁w on d er , ▁a f ter ▁re a d ing ▁s o ▁ma n y ▁ ne g a t i ve ▁re v i e w s ,\""
            ]
          },
          "metadata": {
            "tags": []
          },
          "execution_count": 35
        }
      ]
    },
    {
      "cell_type": "code",
      "metadata": {
        "colab": {
          "base_uri": "https://localhost:8080/",
          "height": 52
        },
        "id": "btvFuhh6lpJP",
        "outputId": "13a7f2f5-9fbf-427a-cb94-7350bcb9885d"
      },
      "source": [
        "subword(10000)"
      ],
      "execution_count": 36,
      "outputs": [
        {
          "output_type": "display_data",
          "data": {
            "text/html": [
              ""
            ],
            "text/plain": [
              "<IPython.core.display.HTML object>"
            ]
          },
          "metadata": {
            "tags": []
          }
        },
        {
          "output_type": "execute_result",
          "data": {
            "application/vnd.google.colaboratory.intrinsic+json": {
              "type": "string"
            },
            "text/plain": [
              "\"▁I ▁can ' t ▁help ▁but ▁wonder , ▁after ▁reading ▁so ▁many ▁negative ▁reviews , ▁if ▁people ▁really ▁got ▁this ▁movie . ▁Yes , ▁it ▁is ▁a ▁commentary ▁on ▁a ▁d epraved ▁culture . ▁But , ▁as ▁the ▁narration ▁points\""
            ]
          },
          "metadata": {
            "tags": []
          },
          "execution_count": 36
        }
      ]
    },
    {
      "cell_type": "code",
      "metadata": {
        "colab": {
          "base_uri": "https://localhost:8080/"
        },
        "id": "kSaMeqcKls_Z",
        "outputId": "5a45b98f-4a95-4a05-d582-f8e0a82ceca1"
      },
      "source": [
        "toks = tkn(txt)\n",
        "print(coll_repr(tkn(txt), 31))"
      ],
      "execution_count": 37,
      "outputs": [
        {
          "output_type": "stream",
          "text": [
            "(#709) ['xxbos','i','ca',\"n't\",'help','but','wonder',',','after','reading','so','many','negative','reviews',',','if','people','really','got','this','movie','.','xxmaj','yes',',','it','is','a','commentary','on','a'...]\n"
          ],
          "name": "stdout"
        }
      ]
    },
    {
      "cell_type": "code",
      "metadata": {
        "colab": {
          "base_uri": "https://localhost:8080/"
        },
        "id": "UZVpnLT-mH3d",
        "outputId": "37a957ad-b73f-4ff8-fb04-d1c4c3161667"
      },
      "source": [
        "toks200 = txts[:200].map(tkn)\n",
        "toks200[0]"
      ],
      "execution_count": 38,
      "outputs": [
        {
          "output_type": "execute_result",
          "data": {
            "text/plain": [
              "(#144) ['xxbos','xxmaj','if','you','liked','xxmaj','freaks','and','xxmaj','geeks'...]"
            ]
          },
          "metadata": {
            "tags": []
          },
          "execution_count": 38
        }
      ]
    },
    {
      "cell_type": "code",
      "metadata": {
        "colab": {
          "base_uri": "https://localhost:8080/",
          "height": 34
        },
        "id": "KjA-6gG8mL0I",
        "outputId": "7de25104-757d-484a-eeb9-99495d54b6e4"
      },
      "source": [
        "num = Numericalize()\n",
        "num.setup(toks200)\n",
        "coll_repr(num.vocab,20)"
      ],
      "execution_count": 39,
      "outputs": [
        {
          "output_type": "execute_result",
          "data": {
            "application/vnd.google.colaboratory.intrinsic+json": {
              "type": "string"
            },
            "text/plain": [
              "\"(#2096) ['xxunk','xxpad','xxbos','xxeos','xxfld','xxrep','xxwrep','xxup','xxmaj','the','.',',','a','and','of','to','is','it','in','i'...]\""
            ]
          },
          "metadata": {
            "tags": []
          },
          "execution_count": 39
        }
      ]
    },
    {
      "cell_type": "code",
      "metadata": {
        "colab": {
          "base_uri": "https://localhost:8080/"
        },
        "id": "-mo2Q6XjmPi3",
        "outputId": "410a2e29-b2e5-4645-8ed6-976eb6671825"
      },
      "source": [
        "nums = num(toks)[:20]\n",
        "nums"
      ],
      "execution_count": 40,
      "outputs": [
        {
          "output_type": "execute_result",
          "data": {
            "text/plain": [
              "TensorText([   2,   19,  191,   38,  306,   30, 1534,   11,  152,  649,   51,  133, 1212, 1004,   11,   63,   83,  112,  211,   22])"
            ]
          },
          "metadata": {
            "tags": []
          },
          "execution_count": 40
        }
      ]
    },
    {
      "cell_type": "code",
      "metadata": {
        "colab": {
          "base_uri": "https://localhost:8080/",
          "height": 34
        },
        "id": "9-sKtPDTmeEE",
        "outputId": "12b6b2f1-cc3f-43b5-fa14-3530f5947478"
      },
      "source": [
        "' '.join(num.vocab[o] for o in nums)"
      ],
      "execution_count": 41,
      "outputs": [
        {
          "output_type": "execute_result",
          "data": {
            "application/vnd.google.colaboratory.intrinsic+json": {
              "type": "string"
            },
            "text/plain": [
              "\"xxbos i ca n't help but wonder , after reading so many negative reviews , if people really got this\""
            ]
          },
          "metadata": {
            "tags": []
          },
          "execution_count": 41
        }
      ]
    },
    {
      "cell_type": "code",
      "metadata": {
        "id": "a_5yOxEemg0J"
      },
      "source": [
        ""
      ],
      "execution_count": null,
      "outputs": []
    }
  ]
}