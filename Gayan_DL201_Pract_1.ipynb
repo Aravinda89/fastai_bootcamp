{
  "nbformat": 4,
  "nbformat_minor": 0,
  "metadata": {
    "jupytext": {
      "split_at_heading": true
    },
    "kernelspec": {
      "display_name": "Python 3",
      "language": "python",
      "name": "python3"
    },
    "colab": {
      "name": "Gayan_DL201_Pract_1.ipynb",
      "provenance": [],
      "collapsed_sections": [],
      "include_colab_link": true
    },
    "accelerator": "GPU",
    "widgets": {
      "application/vnd.jupyter.widget-state+json": {
        "c6957e504d3345a88763dcdbe83d655f": {
          "model_module": "@jupyter-widgets/controls",
          "model_name": "HBoxModel",
          "state": {
            "_view_name": "HBoxView",
            "_dom_classes": [],
            "_model_name": "HBoxModel",
            "_view_module": "@jupyter-widgets/controls",
            "_model_module_version": "1.5.0",
            "_view_count": null,
            "_view_module_version": "1.5.0",
            "box_style": "",
            "layout": "IPY_MODEL_8e65750ec5a4440685ab08ae87519677",
            "_model_module": "@jupyter-widgets/controls",
            "children": [
              "IPY_MODEL_a0fb55f2ba3c4522b8f69d69b5194cf4",
              "IPY_MODEL_02c95e4e1d574028b392876798a827c6"
            ]
          }
        },
        "8e65750ec5a4440685ab08ae87519677": {
          "model_module": "@jupyter-widgets/base",
          "model_name": "LayoutModel",
          "state": {
            "_view_name": "LayoutView",
            "grid_template_rows": null,
            "right": null,
            "justify_content": null,
            "_view_module": "@jupyter-widgets/base",
            "overflow": null,
            "_model_module_version": "1.2.0",
            "_view_count": null,
            "flex_flow": null,
            "width": null,
            "min_width": null,
            "border": null,
            "align_items": null,
            "bottom": null,
            "_model_module": "@jupyter-widgets/base",
            "top": null,
            "grid_column": null,
            "overflow_y": null,
            "overflow_x": null,
            "grid_auto_flow": null,
            "grid_area": null,
            "grid_template_columns": null,
            "flex": null,
            "_model_name": "LayoutModel",
            "justify_items": null,
            "grid_row": null,
            "max_height": null,
            "align_content": null,
            "visibility": null,
            "align_self": null,
            "height": null,
            "min_height": null,
            "padding": null,
            "grid_auto_rows": null,
            "grid_gap": null,
            "max_width": null,
            "order": null,
            "_view_module_version": "1.2.0",
            "grid_template_areas": null,
            "object_position": null,
            "object_fit": null,
            "grid_auto_columns": null,
            "margin": null,
            "display": null,
            "left": null
          }
        },
        "a0fb55f2ba3c4522b8f69d69b5194cf4": {
          "model_module": "@jupyter-widgets/controls",
          "model_name": "FloatProgressModel",
          "state": {
            "_view_name": "ProgressView",
            "style": "IPY_MODEL_69a46019a45749c697a5b90542b942d0",
            "_dom_classes": [],
            "description": "100%",
            "_model_name": "FloatProgressModel",
            "bar_style": "success",
            "max": 46827520,
            "_view_module": "@jupyter-widgets/controls",
            "_model_module_version": "1.5.0",
            "value": 46827520,
            "_view_count": null,
            "_view_module_version": "1.5.0",
            "orientation": "horizontal",
            "min": 0,
            "description_tooltip": null,
            "_model_module": "@jupyter-widgets/controls",
            "layout": "IPY_MODEL_ac2066ecec184d1a97eb566a126794c6"
          }
        },
        "02c95e4e1d574028b392876798a827c6": {
          "model_module": "@jupyter-widgets/controls",
          "model_name": "HTMLModel",
          "state": {
            "_view_name": "HTMLView",
            "style": "IPY_MODEL_eea6717969b548ad90d294ba8e5897e9",
            "_dom_classes": [],
            "description": "",
            "_model_name": "HTMLModel",
            "placeholder": "​",
            "_view_module": "@jupyter-widgets/controls",
            "_model_module_version": "1.5.0",
            "value": " 44.7M/44.7M [00:12&lt;00:00, 3.69MB/s]",
            "_view_count": null,
            "_view_module_version": "1.5.0",
            "description_tooltip": null,
            "_model_module": "@jupyter-widgets/controls",
            "layout": "IPY_MODEL_ab8fd0af8c8843ac89a3fcfc5ce50677"
          }
        },
        "69a46019a45749c697a5b90542b942d0": {
          "model_module": "@jupyter-widgets/controls",
          "model_name": "ProgressStyleModel",
          "state": {
            "_view_name": "StyleView",
            "_model_name": "ProgressStyleModel",
            "description_width": "initial",
            "_view_module": "@jupyter-widgets/base",
            "_model_module_version": "1.5.0",
            "_view_count": null,
            "_view_module_version": "1.2.0",
            "bar_color": null,
            "_model_module": "@jupyter-widgets/controls"
          }
        },
        "ac2066ecec184d1a97eb566a126794c6": {
          "model_module": "@jupyter-widgets/base",
          "model_name": "LayoutModel",
          "state": {
            "_view_name": "LayoutView",
            "grid_template_rows": null,
            "right": null,
            "justify_content": null,
            "_view_module": "@jupyter-widgets/base",
            "overflow": null,
            "_model_module_version": "1.2.0",
            "_view_count": null,
            "flex_flow": null,
            "width": null,
            "min_width": null,
            "border": null,
            "align_items": null,
            "bottom": null,
            "_model_module": "@jupyter-widgets/base",
            "top": null,
            "grid_column": null,
            "overflow_y": null,
            "overflow_x": null,
            "grid_auto_flow": null,
            "grid_area": null,
            "grid_template_columns": null,
            "flex": null,
            "_model_name": "LayoutModel",
            "justify_items": null,
            "grid_row": null,
            "max_height": null,
            "align_content": null,
            "visibility": null,
            "align_self": null,
            "height": null,
            "min_height": null,
            "padding": null,
            "grid_auto_rows": null,
            "grid_gap": null,
            "max_width": null,
            "order": null,
            "_view_module_version": "1.2.0",
            "grid_template_areas": null,
            "object_position": null,
            "object_fit": null,
            "grid_auto_columns": null,
            "margin": null,
            "display": null,
            "left": null
          }
        },
        "eea6717969b548ad90d294ba8e5897e9": {
          "model_module": "@jupyter-widgets/controls",
          "model_name": "DescriptionStyleModel",
          "state": {
            "_view_name": "StyleView",
            "_model_name": "DescriptionStyleModel",
            "description_width": "",
            "_view_module": "@jupyter-widgets/base",
            "_model_module_version": "1.5.0",
            "_view_count": null,
            "_view_module_version": "1.2.0",
            "_model_module": "@jupyter-widgets/controls"
          }
        },
        "ab8fd0af8c8843ac89a3fcfc5ce50677": {
          "model_module": "@jupyter-widgets/base",
          "model_name": "LayoutModel",
          "state": {
            "_view_name": "LayoutView",
            "grid_template_rows": null,
            "right": null,
            "justify_content": null,
            "_view_module": "@jupyter-widgets/base",
            "overflow": null,
            "_model_module_version": "1.2.0",
            "_view_count": null,
            "flex_flow": null,
            "width": null,
            "min_width": null,
            "border": null,
            "align_items": null,
            "bottom": null,
            "_model_module": "@jupyter-widgets/base",
            "top": null,
            "grid_column": null,
            "overflow_y": null,
            "overflow_x": null,
            "grid_auto_flow": null,
            "grid_area": null,
            "grid_template_columns": null,
            "flex": null,
            "_model_name": "LayoutModel",
            "justify_items": null,
            "grid_row": null,
            "max_height": null,
            "align_content": null,
            "visibility": null,
            "align_self": null,
            "height": null,
            "min_height": null,
            "padding": null,
            "grid_auto_rows": null,
            "grid_gap": null,
            "max_width": null,
            "order": null,
            "_view_module_version": "1.2.0",
            "grid_template_areas": null,
            "object_position": null,
            "object_fit": null,
            "grid_auto_columns": null,
            "margin": null,
            "display": null,
            "left": null
          }
        }
      }
    }
  },
  "cells": [
    {
      "cell_type": "markdown",
      "metadata": {
        "id": "view-in-github",
        "colab_type": "text"
      },
      "source": [
        "<a href=\"https://colab.research.google.com/github/Aravinda89/fastai_bootcamp/blob/main/Gayan_DL201_Pract_1.ipynb\" target=\"_parent\"><img src=\"https://colab.research.google.com/assets/colab-badge.svg\" alt=\"Open In Colab\"/></a>"
      ]
    },
    {
      "cell_type": "code",
      "metadata": {
        "id": "ismMd5FkAo-6",
        "colab": {
          "base_uri": "https://localhost:8080/"
        },
        "outputId": "5ae8ced7-ada7-4e1f-d510-586a6b4a72bc"
      },
      "source": [
        "!pip install -Uqq fastbook\n",
        "import fastbook\n",
        "fastbook.setup_book()"
      ],
      "execution_count": 2,
      "outputs": [
        {
          "output_type": "stream",
          "text": [
            "\u001b[K     |████████████████████████████████| 727kB 3.0MB/s \n",
            "\u001b[K     |████████████████████████████████| 51kB 5.4MB/s \n",
            "\u001b[K     |████████████████████████████████| 1.2MB 14.4MB/s \n",
            "\u001b[K     |████████████████████████████████| 204kB 17.5MB/s \n",
            "\u001b[K     |████████████████████████████████| 61kB 7.6MB/s \n",
            "\u001b[K     |████████████████████████████████| 61kB 7.2MB/s \n",
            "\u001b[?25hMounted at /content/gdrive\n"
          ],
          "name": "stdout"
        }
      ]
    },
    {
      "cell_type": "code",
      "metadata": {
        "id": "d984jeb0Ao-_"
      },
      "source": [
        "from fastai.vision.all import *\n",
        "from fastbook import *\n",
        "\n",
        "matplotlib.rc('image', cmap='Greys')"
      ],
      "execution_count": 52,
      "outputs": []
    },
    {
      "cell_type": "markdown",
      "metadata": {
        "id": "_88_VvYKZKSl"
      },
      "source": [
        "# MNIST Full Dataset - Challenge against historical leaderboard"
      ]
    },
    {
      "cell_type": "markdown",
      "metadata": {
        "id": "ozaw41kwZPC0"
      },
      "source": [
        "Compare your skills at CV using MNIST and any tool you have at your disposal with fastai, with researchers who have used the same dataset since the late 1990s.\n",
        "\n",
        "1. Build your model using MNIST full dataset and any architecture in fastai\n",
        "2. Test several approached using all the tools at your disposal (architecture, learning rate, augmentation, other tricks)\n",
        "3. Pick the one (few) model(s) with the lowest error rate\n",
        "4. Test this (these) model(s) with the MNIST Test Dataset, and note the error rate."
      ]
    },
    {
      "cell_type": "markdown",
      "metadata": {
        "id": "jB7vA0F3d-se"
      },
      "source": [
        "## Selected Leaderboard\n",
        "The table below lists the best error rates achieved each year. When a year is missing, it means no-one could beat the previous best score.\n",
        "\n",
        "\n",
        "| Model Type         | Year | Error Rate (%) |\n",
        "|--------------------|:----:|:----------:|\n",
        "| SVMs               | 1998 | 12.00         |\n",
        "| Convolutional nets | 1999 | 0.70        |\n",
        "| SVMs               | 2002 | 0.56       |\n",
        "| Convolutional nets | 2003 | 0.40        |\n",
        "| Convolutional nets | 2006 | 0.39       |\n",
        "| Neural Nets        | 2010 | 0.35       |\n",
        "| Convolutional nets | 2011 | 0.27       |\n",
        "| Convolutional nets | 2012 | 0.23       |\n",
        "| Neural Nets        | 2013 | 0.21       |\n",
        "| New Neural Nets    | 2018 | 0.18       |\n",
        "| Convolutional nets | 2020 | 0.17       |\n",
        "| Convolutional nets | 2020 | 0.16       |\n",
        "| Convolutional nets | 2020 | 0.16       |\n",
        "| New Neural Nets    | 2021 | 0.16       |"
      ]
    },
    {
      "cell_type": "markdown",
      "metadata": {
        "id": "g0Rd2_O-esFN"
      },
      "source": [
        "From which year is your model ?"
      ]
    },
    {
      "cell_type": "markdown",
      "metadata": {
        "id": "2oVrDUE_nzmu"
      },
      "source": [
        "## Load full dataset"
      ]
    },
    {
      "cell_type": "markdown",
      "metadata": {
        "id": "ECAC3RfxAo_D"
      },
      "source": [
        "We are try to rerun the two classifiers built before to classify images as a 3 or a 7, but using the full dataset with 10 digits. So let's download the full MNIST datasets:"
      ]
    },
    {
      "cell_type": "code",
      "metadata": {
        "id": "z51wexCkAo_D",
        "colab": {
          "base_uri": "https://localhost:8080/",
          "height": 17
        },
        "outputId": "85c1090e-6d77-405f-8135-96691d603a34"
      },
      "source": [
        "path = untar_data(URLs.MNIST)    # Full dataset (0s to 9s)"
      ],
      "execution_count": 6,
      "outputs": [
        {
          "output_type": "display_data",
          "data": {
            "text/html": [
              ""
            ],
            "text/plain": [
              "<IPython.core.display.HTML object>"
            ]
          },
          "metadata": {
            "tags": []
          }
        }
      ]
    },
    {
      "cell_type": "code",
      "metadata": {
        "colab": {
          "base_uri": "https://localhost:8080/"
        },
        "id": "GDonXw4K8ahx",
        "outputId": "11e1bcea-ed95-4c29-f139-59c0bff5c818"
      },
      "source": [
        "path"
      ],
      "execution_count": 7,
      "outputs": [
        {
          "output_type": "execute_result",
          "data": {
            "text/plain": [
              "Path('/root/.fastai/data/mnist_png')"
            ]
          },
          "metadata": {
            "tags": []
          },
          "execution_count": 7
        }
      ]
    },
    {
      "cell_type": "code",
      "metadata": {
        "id": "8cb6hPXoAo_D"
      },
      "source": [
        "Path.BASE_PATH = path"
      ],
      "execution_count": 8,
      "outputs": []
    },
    {
      "cell_type": "markdown",
      "metadata": {
        "id": "7q8C99uoAo_D"
      },
      "source": [
        "We can see what's in this directory by using `ls`, a method added by fastai. This method returns an object of a special fastai class called `L`, which has all the same functionality of Python's built-in `list`, plus a lot more. One of its handy features is that, when printed, it displays the count of items, before listing the items themselves (if there are more than 10 items, it just shows the first few):"
      ]
    },
    {
      "cell_type": "code",
      "metadata": {
        "id": "1eHnXszSAo_E",
        "colab": {
          "base_uri": "https://localhost:8080/"
        },
        "outputId": "d1bb99d7-9a7d-4ee9-ce19-46e49570dea6"
      },
      "source": [
        "path.ls(), (path / 'training').ls(), (path / 'testing').ls()"
      ],
      "execution_count": 9,
      "outputs": [
        {
          "output_type": "execute_result",
          "data": {
            "text/plain": [
              "((#2) [Path('training'),Path('testing')],\n",
              " (#10) [Path('training/2'),Path('training/0'),Path('training/8'),Path('training/7'),Path('training/3'),Path('training/6'),Path('training/5'),Path('training/1'),Path('training/4'),Path('training/9')],\n",
              " (#10) [Path('testing/2'),Path('testing/0'),Path('testing/8'),Path('testing/7'),Path('testing/3'),Path('testing/6'),Path('testing/5'),Path('testing/1'),Path('testing/4'),Path('testing/9')])"
            ]
          },
          "metadata": {
            "tags": []
          },
          "execution_count": 9
        }
      ]
    },
    {
      "cell_type": "markdown",
      "metadata": {
        "id": "e1Dh6YwKZA8W"
      },
      "source": [
        "## Create your DataBlock and Dataloaders for training"
      ]
    },
    {
      "cell_type": "markdown",
      "metadata": {
        "id": "MNTXF6EDfL1S"
      },
      "source": [
        "The code below is just an illustration, and not optimized. Use your own code to train the best model you can using all the tricks you have learned since Chapter 1."
      ]
    },
    {
      "cell_type": "code",
      "metadata": {
        "id": "AqxW8TP7fr3K"
      },
      "source": [
        "mnist = DataBlock(blocks=(ImageBlock,CategoryBlock),\n",
        "                  get_items=get_image_files,\n",
        "                  splitter=RandomSplitter(valid_pct=0.2),\n",
        "                  get_y=parent_label)"
      ],
      "execution_count": null,
      "outputs": []
    },
    {
      "cell_type": "code",
      "metadata": {
        "id": "3LyVWskrj_b_",
        "colab": {
          "base_uri": "https://localhost:8080/"
        },
        "outputId": "4ead9c24-9485-4366-d071-f69f52a3374e"
      },
      "source": [
        "mnist.summary(path/'training')"
      ],
      "execution_count": null,
      "outputs": [
        {
          "output_type": "stream",
          "text": [
            "Setting-up type transforms pipelines\n",
            "Collecting items from /root/.fastai/data/mnist_png/training\n",
            "Found 60000 items\n",
            "2 datasets of sizes 48000,12000\n",
            "Setting up Pipeline: PILBase.create\n",
            "Setting up Pipeline: parent_label -> Categorize -- {'vocab': None, 'sort': True, 'add_na': False}\n",
            "\n",
            "Building one sample\n",
            "  Pipeline: PILBase.create\n",
            "    starting from\n",
            "      /root/.fastai/data/mnist_png/training/8/56296.png\n",
            "    applying PILBase.create gives\n",
            "      PILImage mode=RGB size=28x28\n",
            "  Pipeline: parent_label -> Categorize -- {'vocab': None, 'sort': True, 'add_na': False}\n",
            "    starting from\n",
            "      /root/.fastai/data/mnist_png/training/8/56296.png\n",
            "    applying parent_label gives\n",
            "      8\n",
            "    applying Categorize -- {'vocab': None, 'sort': True, 'add_na': False} gives\n",
            "      TensorCategory(8)\n",
            "\n",
            "Final sample: (PILImage mode=RGB size=28x28, TensorCategory(8))\n",
            "\n",
            "\n",
            "Collecting items from /root/.fastai/data/mnist_png/training\n",
            "Found 60000 items\n",
            "2 datasets of sizes 48000,12000\n",
            "Setting up Pipeline: PILBase.create\n",
            "Setting up Pipeline: parent_label -> Categorize -- {'vocab': None, 'sort': True, 'add_na': False}\n",
            "Setting up after_item: Pipeline: ToTensor\n",
            "Setting up before_batch: Pipeline: \n",
            "Setting up after_batch: Pipeline: IntToFloatTensor -- {'div': 255.0, 'div_mask': 1}\n",
            "\n",
            "Building one batch\n",
            "Applying item_tfms to the first sample:\n",
            "  Pipeline: ToTensor\n",
            "    starting from\n",
            "      (PILImage mode=RGB size=28x28, TensorCategory(8))\n",
            "    applying ToTensor gives\n",
            "      (TensorImage of size 3x28x28, TensorCategory(8))\n",
            "\n",
            "Adding the next 3 samples\n",
            "\n",
            "No before_batch transform to apply\n",
            "\n",
            "Collating items in a batch\n",
            "\n",
            "Applying batch_tfms to the batch built\n",
            "  Pipeline: IntToFloatTensor -- {'div': 255.0, 'div_mask': 1}\n",
            "    starting from\n",
            "      (TensorImage of size 4x3x28x28, TensorCategory([8, 6, 2, 8], device='cuda:0'))\n",
            "    applying IntToFloatTensor -- {'div': 255.0, 'div_mask': 1} gives\n",
            "      (TensorImage of size 4x3x28x28, TensorCategory([8, 6, 2, 8], device='cuda:0'))\n"
          ],
          "name": "stdout"
        }
      ]
    },
    {
      "cell_type": "code",
      "metadata": {
        "id": "UplRnLhUfAUE"
      },
      "source": [
        "dls = mnist.dataloaders(path/'training')"
      ],
      "execution_count": null,
      "outputs": []
    },
    {
      "cell_type": "code",
      "metadata": {
        "colab": {
          "base_uri": "https://localhost:8080/",
          "height": 210
        },
        "id": "sFVv14bEnEZ-",
        "outputId": "6c4419e4-ae71-432c-9362-4844b9fff10c"
      },
      "source": [
        "dls.show_batch(max_n=9, figsize=(3, 3))"
      ],
      "execution_count": null,
      "outputs": [
        {
          "output_type": "display_data",
          "data": {
            "image/png": "[encoded data removed]",
            "text/plain": [
              "<Figure size 216x216 with 9 Axes>"
            ]
          },
          "metadata": {
            "tags": [],
            "needs_background": "light"
          }
        }
      ]
    },
    {
      "cell_type": "code",
      "metadata": {
        "id": "xpNhR-19nEcx",
        "colab": {
          "base_uri": "https://localhost:8080/",
          "height": 84,
          "referenced_widgets": [
            "c6957e504d3345a88763dcdbe83d655f",
            "8e65750ec5a4440685ab08ae87519677",
            "a0fb55f2ba3c4522b8f69d69b5194cf4",
            "02c95e4e1d574028b392876798a827c6",
            "69a46019a45749c697a5b90542b942d0",
            "ac2066ecec184d1a97eb566a126794c6",
            "eea6717969b548ad90d294ba8e5897e9",
            "ab8fd0af8c8843ac89a3fcfc5ce50677"
          ]
        },
        "outputId": "95068606-b798-445f-e8e8-4ce987c05834"
      },
      "source": [
        "learn = cnn_learner(dls, arch=resnet18, metrics=[error_rate, accuracy])"
      ],
      "execution_count": null,
      "outputs": [
        {
          "output_type": "stream",
          "text": [
            "Downloading: \"https://download.pytorch.org/models/resnet18-5c106cde.pth\" to /root/.cache/torch/hub/checkpoints/resnet18-5c106cde.pth\n"
          ],
          "name": "stderr"
        },
        {
          "output_type": "display_data",
          "data": {
            "application/vnd.jupyter.widget-view+json": {
              "model_id": "c6957e504d3345a88763dcdbe83d655f",
              "version_minor": 0,
              "version_major": 2
            },
            "text/plain": [
              "HBox(children=(FloatProgress(value=0.0, max=46827520.0), HTML(value='')))"
            ]
          },
          "metadata": {
            "tags": []
          }
        },
        {
          "output_type": "stream",
          "text": [
            "\n"
          ],
          "name": "stdout"
        }
      ]
    },
    {
      "cell_type": "code",
      "metadata": {
        "colab": {
          "base_uri": "https://localhost:8080/",
          "height": 300
        },
        "id": "WIAScCNvnEf4",
        "outputId": "a9c4aabf-2001-4411-a791-f1d5f4a77b0b"
      },
      "source": [
        "lr_min, lr_steep = learn.lr_find()\n",
        "print(f\"lr_min: {lr_min:.1e}   lr_steep: {lr_steep:.1e}\")"
      ],
      "execution_count": null,
      "outputs": [
        {
          "output_type": "display_data",
          "data": {
            "text/html": [
              ""
            ],
            "text/plain": [
              "<IPython.core.display.HTML object>"
            ]
          },
          "metadata": {
            "tags": []
          }
        },
        {
          "output_type": "stream",
          "text": [
            "lr_min: 3.0e-02   lr_steep: 9.1e-03\n"
          ],
          "name": "stdout"
        },
        {
          "output_type": "display_data",
          "data": {
            "image/png": "[encoded data removed]",
            "text/plain": [
              "<Figure size 432x288 with 1 Axes>"
            ]
          },
          "metadata": {
            "tags": [],
            "needs_background": "light"
          }
        }
      ]
    },
    {
      "cell_type": "code",
      "metadata": {
        "colab": {
          "base_uri": "https://localhost:8080/",
          "height": 139
        },
        "id": "1uHAgvvWnhPm",
        "outputId": "6493ceb1-b8cc-443b-caff-cb3ed29be2cf"
      },
      "source": [
        "lr = 1.5e-2\n",
        "learn.fine_tune(base_lr=lr, epochs=1, freeze_epochs=1)"
      ],
      "execution_count": null,
      "outputs": [
        {
          "output_type": "display_data",
          "data": {
            "text/html": [
              "<table border=\"1\" class=\"dataframe\">\n",
              "  <thead>\n",
              "    <tr style=\"text-align: left;\">\n",
              "      <th>epoch</th>\n",
              "      <th>train_loss</th>\n",
              "      <th>valid_loss</th>\n",
              "      <th>error_rate</th>\n",
              "      <th>accuracy</th>\n",
              "      <th>time</th>\n",
              "    </tr>\n",
              "  </thead>\n",
              "  <tbody>\n",
              "    <tr>\n",
              "      <td>0</td>\n",
              "      <td>0.331852</td>\n",
              "      <td>0.178234</td>\n",
              "      <td>0.055167</td>\n",
              "      <td>0.944833</td>\n",
              "      <td>00:58</td>\n",
              "    </tr>\n",
              "  </tbody>\n",
              "</table>"
            ],
            "text/plain": [
              "<IPython.core.display.HTML object>"
            ]
          },
          "metadata": {
            "tags": []
          }
        },
        {
          "output_type": "display_data",
          "data": {
            "text/html": [
              "<table border=\"1\" class=\"dataframe\">\n",
              "  <thead>\n",
              "    <tr style=\"text-align: left;\">\n",
              "      <th>epoch</th>\n",
              "      <th>train_loss</th>\n",
              "      <th>valid_loss</th>\n",
              "      <th>error_rate</th>\n",
              "      <th>accuracy</th>\n",
              "      <th>time</th>\n",
              "    </tr>\n",
              "  </thead>\n",
              "  <tbody>\n",
              "    <tr>\n",
              "      <td>0</td>\n",
              "      <td>0.059643</td>\n",
              "      <td>0.035856</td>\n",
              "      <td>0.011083</td>\n",
              "      <td>0.988917</td>\n",
              "      <td>01:00</td>\n",
              "    </tr>\n",
              "  </tbody>\n",
              "</table>"
            ],
            "text/plain": [
              "<IPython.core.display.HTML object>"
            ]
          },
          "metadata": {
            "tags": []
          }
        }
      ]
    },
    {
      "cell_type": "markdown",
      "metadata": {
        "id": "vH-JaNyJkhRs"
      },
      "source": [
        "## Evaluate model with Testing Dataset"
      ]
    },
    {
      "cell_type": "markdown",
      "metadata": {
        "id": "G7UV-zgqfpst"
      },
      "source": [
        "Now that you have a model, it is time to test it with the Testing Dataset, for proper comparison.\n",
        "\n",
        "To do that, we also want to apply exactly the same steps with the test images as withe training images. Therefore we do not recreate a DataBlock and DataLoaders from scratch, but we use the training DataLoaders `dls` and its method `test_dl` to do that.\n",
        "\n",
        "Steps:\n",
        "1. Create a list of test images\n",
        "2. Create a `dls_test` with these images, using `dls.test_df()`\n",
        "3. Evaluate the test set"
      ]
    },
    {
      "cell_type": "code",
      "metadata": {
        "colab": {
          "base_uri": "https://localhost:8080/"
        },
        "id": "mn2bebXUrejK",
        "outputId": "f358ba47-f803-4e71-de2f-65bb5060f562"
      },
      "source": [
        "# Create a list of test images using all images in \n",
        "test_image_fnames = get_image_files(path/'testing')\n",
        "test_image_fnames"
      ],
      "execution_count": null,
      "outputs": [
        {
          "output_type": "execute_result",
          "data": {
            "text/plain": [
              "(#10000) [Path('testing/2/3057.png'),Path('testing/2/690.png'),Path('testing/2/3599.png'),Path('testing/2/8139.png'),Path('testing/2/2184.png'),Path('testing/2/4905.png'),Path('testing/2/9716.png'),Path('testing/2/8318.png'),Path('testing/2/278.png'),Path('testing/2/2959.png')...]"
            ]
          },
          "metadata": {
            "tags": []
          },
          "execution_count": 18
        }
      ]
    },
    {
      "cell_type": "code",
      "metadata": {
        "id": "OxL3djv6nhU4"
      },
      "source": [
        "# Create the dataloader for test images\n",
        "test_dl = dls.test_dl(test_image_fnames, with_labels=True)"
      ],
      "execution_count": null,
      "outputs": []
    },
    {
      "cell_type": "markdown",
      "metadata": {
        "id": "5yNMofIFg2Nb"
      },
      "source": [
        "With `test_dl`, we can access some basic info such as the number of samples, number of classes and views of images"
      ]
    },
    {
      "cell_type": "code",
      "metadata": {
        "colab": {
          "base_uri": "https://localhost:8080/"
        },
        "id": "tguRZx3DrunB",
        "outputId": "888f1c77-a617-4449-d786-889fbf194ae8"
      },
      "source": [
        "test_dl.n"
      ],
      "execution_count": null,
      "outputs": [
        {
          "output_type": "execute_result",
          "data": {
            "text/plain": [
              "10000"
            ]
          },
          "metadata": {
            "tags": []
          },
          "execution_count": 22
        }
      ]
    },
    {
      "cell_type": "code",
      "metadata": {
        "colab": {
          "base_uri": "https://localhost:8080/"
        },
        "id": "keYYiPZXh7Hs",
        "outputId": "f709e5cc-2596-47ef-d941-7779c5688c24"
      },
      "source": [
        "test_dl.c"
      ],
      "execution_count": null,
      "outputs": [
        {
          "output_type": "execute_result",
          "data": {
            "text/plain": [
              "10"
            ]
          },
          "metadata": {
            "tags": []
          },
          "execution_count": 23
        }
      ]
    },
    {
      "cell_type": "code",
      "metadata": {
        "colab": {
          "base_uri": "https://localhost:8080/",
          "height": 210
        },
        "id": "SeELn5DXh7Kd",
        "outputId": "0e680ed4-17ea-4974-8b65-674075e6f518"
      },
      "source": [
        "test_dl.show_batch(max_n=9, figsize=(3, 3))"
      ],
      "execution_count": null,
      "outputs": [
        {
          "output_type": "display_data",
          "data": {
            "image/png": "[encoded data removed]",
            "text/plain": [
              "<Figure size 216x216 with 9 Axes>"
            ]
          },
          "metadata": {
            "tags": [],
            "needs_background": "light"
          }
        }
      ]
    },
    {
      "cell_type": "markdown",
      "metadata": {
        "id": "G1Yb1jqfiH11"
      },
      "source": [
        ""
      ]
    },
    {
      "cell_type": "code",
      "metadata": {
        "colab": {
          "base_uri": "https://localhost:8080/",
          "height": 17
        },
        "id": "ZY2vMtnqh7FC",
        "outputId": "59063e31-7a8a-43fe-d0a4-b9c7cb12861e"
      },
      "source": [
        "preds_test_set = learn.get_preds(dl=test_dl)"
      ],
      "execution_count": null,
      "outputs": [
        {
          "output_type": "display_data",
          "data": {
            "text/html": [
              ""
            ],
            "text/plain": [
              "<IPython.core.display.HTML object>"
            ]
          },
          "metadata": {
            "tags": []
          }
        }
      ]
    },
    {
      "cell_type": "code",
      "metadata": {
        "colab": {
          "base_uri": "https://localhost:8080/"
        },
        "id": "orJozxQCi7AU",
        "outputId": "9ca88d41-3baa-4d23-eb71-734112205574"
      },
      "source": [
        "preds_test_set"
      ],
      "execution_count": null,
      "outputs": [
        {
          "output_type": "execute_result",
          "data": {
            "text/plain": [
              "(tensor([[3.3384e-06, 1.5084e-06, 9.9997e-01,  ..., 4.3668e-06, 7.9694e-06, 6.5659e-06],\n",
              "         [2.7616e-05, 1.6563e-05, 9.9975e-01,  ..., 2.6734e-05, 5.3152e-05, 5.2694e-05],\n",
              "         [1.0068e-03, 7.3863e-04, 9.8750e-01,  ..., 2.3897e-03, 2.5009e-03, 1.7579e-03],\n",
              "         ...,\n",
              "         [9.4315e-06, 1.6218e-06, 4.4801e-06,  ..., 3.0777e-05, 8.7501e-05, 9.9936e-01],\n",
              "         [4.6516e-04, 1.1215e-04, 5.2620e-04,  ..., 6.4213e-04, 2.2724e-03, 9.9036e-01],\n",
              "         [8.7630e-06, 1.2995e-06, 3.0951e-06,  ..., 2.4901e-05, 6.8777e-05, 9.9967e-01]]),\n",
              " TensorCategory([2, 2, 2,  ..., 9, 9, 9]))"
            ]
          },
          "metadata": {
            "tags": []
          },
          "execution_count": 30
        }
      ]
    },
    {
      "cell_type": "code",
      "metadata": {
        "colab": {
          "base_uri": "https://localhost:8080/",
          "height": 17
        },
        "id": "2V-QsX61jGSr",
        "outputId": "32cc2383-d2a4-4ebe-83f5-962ae12184fe"
      },
      "source": [
        "test_results = learn.validate(dl=test_dl)"
      ],
      "execution_count": null,
      "outputs": [
        {
          "output_type": "display_data",
          "data": {
            "text/html": [
              ""
            ],
            "text/plain": [
              "<IPython.core.display.HTML object>"
            ]
          },
          "metadata": {
            "tags": []
          }
        }
      ]
    },
    {
      "cell_type": "code",
      "metadata": {
        "colab": {
          "base_uri": "https://localhost:8080/"
        },
        "id": "pB4K5gwq_WpN",
        "outputId": "c470b505-808c-4578-affd-0707c68af7c8"
      },
      "source": [
        "test_results"
      ],
      "execution_count": null,
      "outputs": [
        {
          "output_type": "execute_result",
          "data": {
            "text/plain": [
              "(#3) [0.029588665813207626,0.007600000128149986,0.9923999905586243]"
            ]
          },
          "metadata": {
            "tags": []
          },
          "execution_count": 32
        }
      ]
    },
    {
      "cell_type": "markdown",
      "metadata": {
        "id": "5lrvXclzlGb1"
      },
      "source": [
        "`.validate()` return the following values:\n",
        "- loss function for the dataset\n",
        "- metric(s) applied to the dataset\n",
        "\n",
        "In the case of the example above:\n",
        "- loss function:\n",
        "- error_rate: \n",
        "- accuracy"
      ]
    },
    {
      "cell_type": "code",
      "metadata": {
        "colab": {
          "base_uri": "https://localhost:8080/"
        },
        "id": "enY0lK8SlgEP",
        "outputId": "622ad70b-7b76-465d-b13c-5d2966051961"
      },
      "source": [
        "print(f\"Loss Function: {test_results[0]*100:.3f}%\")\n",
        "for i, m in enumerate(learn.metrics):\n",
        "    print(f\"{m.name}: {test_results[i+1]*100:.3f}%\")"
      ],
      "execution_count": null,
      "outputs": [
        {
          "output_type": "stream",
          "text": [
            "Loss Function: 2.959%\n",
            "error_rate: 0.760%\n",
            "accuracy: 99.240%\n"
          ],
          "name": "stdout"
        }
      ]
    },
    {
      "cell_type": "code",
      "metadata": {
        "id": "I9jraUB0A71u"
      },
      "source": [
        "## Attempt 1\n",
        "\n",
        "import random\n",
        "import matplotlib.pyplot as plt\n",
        "import matplotlib.image as mpimg"
      ],
      "execution_count": 131,
      "outputs": []
    },
    {
      "cell_type": "code",
      "metadata": {
        "colab": {
          "base_uri": "https://localhost:8080/",
          "height": 265
        },
        "id": "1mVvtDwvkNmY",
        "outputId": "0e61d229-3b1e-4335-ecee-8d0cdee25a60"
      },
      "source": [
        "# Display a random image\n",
        "img = mpimg.imread(random.choice(random.choice((path/'training').ls()).ls()))\n",
        "imgplot = plt.imshow(img)\n",
        "plt.show()"
      ],
      "execution_count": 160,
      "outputs": [
        {
          "output_type": "display_data",
          "data": {
            "image/png": "[encoded data removed]",
            "text/plain": [
              "<Figure size 432x288 with 1 Axes>"
            ]
          },
          "metadata": {
            "tags": [],
            "needs_background": "light"
          }
        }
      ]
    },
    {
      "cell_type": "code",
      "metadata": {
        "colab": {
          "base_uri": "https://localhost:8080/"
        },
        "id": "pEEHmw0hrO_w",
        "outputId": "275baa11-ba9f-4fe0-eb51-a0878cd33f11"
      },
      "source": [
        "img.shape"
      ],
      "execution_count": 161,
      "outputs": [
        {
          "output_type": "execute_result",
          "data": {
            "text/plain": [
              "(28, 28)"
            ]
          },
          "metadata": {
            "tags": []
          },
          "execution_count": 161
        }
      ]
    },
    {
      "cell_type": "code",
      "metadata": {
        "id": "c82xo_DfA_1c"
      },
      "source": [
        "mnist = DataBlock(blocks=(ImageBlock,CategoryBlock),\n",
        "                  get_items=get_image_files,\n",
        "                  splitter=RandomSplitter(valid_pct=0.2),\n",
        "                  get_y=parent_label)\n",
        "\n",
        "dls = mnist.dataloaders(path/'training')"
      ],
      "execution_count": 206,
      "outputs": []
    },
    {
      "cell_type": "code",
      "metadata": {
        "id": "EHSASXaVDAhG",
        "colab": {
          "base_uri": "https://localhost:8080/",
          "height": 210
        },
        "outputId": "0d25e05e-4e7d-4887-c0af-b2fc4e9a49f2"
      },
      "source": [
        "dls.show_batch(max_n=9, figsize=(3, 3))"
      ],
      "execution_count": 211,
      "outputs": [
        {
          "output_type": "display_data",
          "data": {
            "image/png": "[encoded data removed]",
            "text/plain": [
              "<Figure size 216x216 with 9 Axes>"
            ]
          },
          "metadata": {
            "tags": [],
            "needs_background": "light"
          }
        }
      ]
    },
    {
      "cell_type": "code",
      "metadata": {
        "id": "UwV0NixVCP1R"
      },
      "source": [
        "learn = cnn_learner(dls, arch=resnet18, metrics=[error_rate, accuracy])"
      ],
      "execution_count": 187,
      "outputs": []
    },
    {
      "cell_type": "code",
      "metadata": {
        "id": "anqG2KgpDGuu",
        "colab": {
          "base_uri": "https://localhost:8080/",
          "height": 300
        },
        "outputId": "ac7d071e-37d7-459b-b381-12e8ef13c4ef"
      },
      "source": [
        "lr_min, lr_steep = learn.lr_find()\n",
        "print(f\"lr_min: {lr_min:.1e}   lr_steep: {lr_steep:.1e}\")"
      ],
      "execution_count": 188,
      "outputs": [
        {
          "output_type": "display_data",
          "data": {
            "text/html": [
              ""
            ],
            "text/plain": [
              "<IPython.core.display.HTML object>"
            ]
          },
          "metadata": {
            "tags": []
          }
        },
        {
          "output_type": "stream",
          "text": [
            "lr_min: 1.7e-02   lr_steep: 1.1e-06\n"
          ],
          "name": "stdout"
        },
        {
          "output_type": "display_data",
          "data": {
            "image/png": "[encoded data removed]",
            "text/plain": [
              "<Figure size 432x288 with 1 Axes>"
            ]
          },
          "metadata": {
            "tags": [],
            "needs_background": "light"
          }
        }
      ]
    },
    {
      "cell_type": "code",
      "metadata": {
        "id": "jfZtOyenDJbG",
        "colab": {
          "base_uri": "https://localhost:8080/",
          "height": 257
        },
        "outputId": "38c9f244-1e3d-4f29-b3dd-2a7cc8cf5f53"
      },
      "source": [
        "lr = 1.5e-02\n",
        "learn.fine_tune(base_lr=lr, epochs=5, freeze_epochs=1)"
      ],
      "execution_count": 189,
      "outputs": [
        {
          "output_type": "display_data",
          "data": {
            "text/html": [
              "<table border=\"1\" class=\"dataframe\">\n",
              "  <thead>\n",
              "    <tr style=\"text-align: left;\">\n",
              "      <th>epoch</th>\n",
              "      <th>train_loss</th>\n",
              "      <th>valid_loss</th>\n",
              "      <th>error_rate</th>\n",
              "      <th>accuracy</th>\n",
              "      <th>time</th>\n",
              "    </tr>\n",
              "  </thead>\n",
              "  <tbody>\n",
              "    <tr>\n",
              "      <td>0</td>\n",
              "      <td>0.351205</td>\n",
              "      <td>0.185205</td>\n",
              "      <td>0.053500</td>\n",
              "      <td>0.946500</td>\n",
              "      <td>00:57</td>\n",
              "    </tr>\n",
              "  </tbody>\n",
              "</table>"
            ],
            "text/plain": [
              "<IPython.core.display.HTML object>"
            ]
          },
          "metadata": {
            "tags": []
          }
        },
        {
          "output_type": "display_data",
          "data": {
            "text/html": [
              "<table border=\"1\" class=\"dataframe\">\n",
              "  <thead>\n",
              "    <tr style=\"text-align: left;\">\n",
              "      <th>epoch</th>\n",
              "      <th>train_loss</th>\n",
              "      <th>valid_loss</th>\n",
              "      <th>error_rate</th>\n",
              "      <th>accuracy</th>\n",
              "      <th>time</th>\n",
              "    </tr>\n",
              "  </thead>\n",
              "  <tbody>\n",
              "    <tr>\n",
              "      <td>0</td>\n",
              "      <td>0.122686</td>\n",
              "      <td>0.085103</td>\n",
              "      <td>0.022667</td>\n",
              "      <td>0.977333</td>\n",
              "      <td>00:59</td>\n",
              "    </tr>\n",
              "    <tr>\n",
              "      <td>1</td>\n",
              "      <td>0.098858</td>\n",
              "      <td>0.054718</td>\n",
              "      <td>0.014083</td>\n",
              "      <td>0.985917</td>\n",
              "      <td>00:59</td>\n",
              "    </tr>\n",
              "    <tr>\n",
              "      <td>2</td>\n",
              "      <td>0.050353</td>\n",
              "      <td>0.029434</td>\n",
              "      <td>0.008583</td>\n",
              "      <td>0.991417</td>\n",
              "      <td>00:59</td>\n",
              "    </tr>\n",
              "    <tr>\n",
              "      <td>3</td>\n",
              "      <td>0.021402</td>\n",
              "      <td>0.026680</td>\n",
              "      <td>0.006833</td>\n",
              "      <td>0.993167</td>\n",
              "      <td>00:59</td>\n",
              "    </tr>\n",
              "    <tr>\n",
              "      <td>4</td>\n",
              "      <td>0.007227</td>\n",
              "      <td>0.022693</td>\n",
              "      <td>0.006500</td>\n",
              "      <td>0.993500</td>\n",
              "      <td>00:59</td>\n",
              "    </tr>\n",
              "  </tbody>\n",
              "</table>"
            ],
            "text/plain": [
              "<IPython.core.display.HTML object>"
            ]
          },
          "metadata": {
            "tags": []
          }
        }
      ]
    },
    {
      "cell_type": "code",
      "metadata": {
        "id": "g2KneAdkDN5n",
        "colab": {
          "base_uri": "https://localhost:8080/"
        },
        "outputId": "b1e34d8b-0637-4649-c2f0-c5441ccf5db6"
      },
      "source": [
        "test_image_fnames = get_image_files(path/'testing')\n",
        "test_image_fnames"
      ],
      "execution_count": 190,
      "outputs": [
        {
          "output_type": "execute_result",
          "data": {
            "text/plain": [
              "(#10000) [Path('testing/2/3057.png'),Path('testing/2/690.png'),Path('testing/2/3599.png'),Path('testing/2/8139.png'),Path('testing/2/2184.png'),Path('testing/2/4905.png'),Path('testing/2/9716.png'),Path('testing/2/8318.png'),Path('testing/2/278.png'),Path('testing/2/2959.png')...]"
            ]
          },
          "metadata": {
            "tags": []
          },
          "execution_count": 190
        }
      ]
    },
    {
      "cell_type": "code",
      "metadata": {
        "id": "i5Dx2rufDQje"
      },
      "source": [
        "test_dl = dls.test_dl(test_image_fnames, with_labels=True)"
      ],
      "execution_count": 191,
      "outputs": []
    },
    {
      "cell_type": "code",
      "metadata": {
        "id": "BDWI2WfwDUWG"
      },
      "source": [
        "# preds_test_set = learn.get_preds(dl=test_dl)"
      ],
      "execution_count": 175,
      "outputs": []
    },
    {
      "cell_type": "code",
      "metadata": {
        "colab": {
          "base_uri": "https://localhost:8080/",
          "height": 33
        },
        "id": "FsMnkgooyYGx",
        "outputId": "b9d73dee-0586-4b6a-f03f-a1eb461e6bb6"
      },
      "source": [
        "test_results = learn.validate(dl=test_dl)\n",
        "test_results"
      ],
      "execution_count": 192,
      "outputs": [
        {
          "output_type": "display_data",
          "data": {
            "text/html": [
              ""
            ],
            "text/plain": [
              "<IPython.core.display.HTML object>"
            ]
          },
          "metadata": {
            "tags": []
          }
        },
        {
          "output_type": "execute_result",
          "data": {
            "text/plain": [
              "(#3) [0.020409580320119858,0.006000000052154064,0.9940000176429749]"
            ]
          },
          "metadata": {
            "tags": []
          },
          "execution_count": 192
        }
      ]
    },
    {
      "cell_type": "code",
      "metadata": {
        "id": "Sjs38uSWDaUq",
        "colab": {
          "base_uri": "https://localhost:8080/"
        },
        "outputId": "4a5787b6-97f6-4a09-d447-27cc428345e9"
      },
      "source": [
        "print(f\"Loss Function: {test_results[0]*100:.3f}%\")\n",
        "for i, m in enumerate(learn.metrics):\n",
        "    print(f\"{m.name}: {test_results[i+1]*100:.3f}%\")"
      ],
      "execution_count": 193,
      "outputs": [
        {
          "output_type": "stream",
          "text": [
            "Loss Function: 2.041%\n",
            "error_rate: 0.600%\n",
            "accuracy: 99.400%\n"
          ],
          "name": "stdout"
        }
      ]
    },
    {
      "cell_type": "code",
      "metadata": {
        "id": "xSYEnO0c3yIm"
      },
      "source": [
        "# Since val loss is decreacing train for few more epoches"
      ],
      "execution_count": null,
      "outputs": []
    },
    {
      "cell_type": "code",
      "metadata": {
        "id": "BLQJ8b1E4NsI"
      },
      "source": [
        "learn.unfreeze()"
      ],
      "execution_count": 202,
      "outputs": []
    },
    {
      "cell_type": "code",
      "metadata": {
        "colab": {
          "base_uri": "https://localhost:8080/",
          "height": 196
        },
        "id": "Os1ySEV3yPCe",
        "outputId": "1f2be1e1-1255-4893-b226-dd4751292c81"
      },
      "source": [
        "lr = 1.00e-03\n",
        "\n",
        "learn.fit(5,lr)"
      ],
      "execution_count": 203,
      "outputs": [
        {
          "output_type": "display_data",
          "data": {
            "text/html": [
              "<table border=\"1\" class=\"dataframe\">\n",
              "  <thead>\n",
              "    <tr style=\"text-align: left;\">\n",
              "      <th>epoch</th>\n",
              "      <th>train_loss</th>\n",
              "      <th>valid_loss</th>\n",
              "      <th>error_rate</th>\n",
              "      <th>accuracy</th>\n",
              "      <th>time</th>\n",
              "    </tr>\n",
              "  </thead>\n",
              "  <tbody>\n",
              "    <tr>\n",
              "      <td>0</td>\n",
              "      <td>0.036154</td>\n",
              "      <td>0.033473</td>\n",
              "      <td>0.009833</td>\n",
              "      <td>0.990167</td>\n",
              "      <td>00:59</td>\n",
              "    </tr>\n",
              "    <tr>\n",
              "      <td>1</td>\n",
              "      <td>0.030284</td>\n",
              "      <td>0.040147</td>\n",
              "      <td>0.011167</td>\n",
              "      <td>0.988833</td>\n",
              "      <td>00:59</td>\n",
              "    </tr>\n",
              "    <tr>\n",
              "      <td>2</td>\n",
              "      <td>0.020681</td>\n",
              "      <td>0.032000</td>\n",
              "      <td>0.009583</td>\n",
              "      <td>0.990417</td>\n",
              "      <td>00:59</td>\n",
              "    </tr>\n",
              "    <tr>\n",
              "      <td>3</td>\n",
              "      <td>0.023407</td>\n",
              "      <td>0.032394</td>\n",
              "      <td>0.009583</td>\n",
              "      <td>0.990417</td>\n",
              "      <td>00:59</td>\n",
              "    </tr>\n",
              "    <tr>\n",
              "      <td>4</td>\n",
              "      <td>0.036220</td>\n",
              "      <td>0.036292</td>\n",
              "      <td>0.008083</td>\n",
              "      <td>0.991917</td>\n",
              "      <td>00:59</td>\n",
              "    </tr>\n",
              "  </tbody>\n",
              "</table>"
            ],
            "text/plain": [
              "<IPython.core.display.HTML object>"
            ]
          },
          "metadata": {
            "tags": []
          }
        }
      ]
    },
    {
      "cell_type": "code",
      "metadata": {
        "colab": {
          "base_uri": "https://localhost:8080/",
          "height": 33
        },
        "id": "NxYJ6rTG3Lse",
        "outputId": "e393b743-b8d5-4c79-a973-a78d3d0116d3"
      },
      "source": [
        "test_results = learn.validate(dl=test_dl)\n",
        "test_results"
      ],
      "execution_count": 204,
      "outputs": [
        {
          "output_type": "display_data",
          "data": {
            "text/html": [
              ""
            ],
            "text/plain": [
              "<IPython.core.display.HTML object>"
            ]
          },
          "metadata": {
            "tags": []
          }
        },
        {
          "output_type": "execute_result",
          "data": {
            "text/plain": [
              "(#3) [0.03720667213201523,0.011800000444054604,0.9882000088691711]"
            ]
          },
          "metadata": {
            "tags": []
          },
          "execution_count": 204
        }
      ]
    },
    {
      "cell_type": "code",
      "metadata": {
        "colab": {
          "base_uri": "https://localhost:8080/"
        },
        "id": "2ix3Gaga5emY",
        "outputId": "ff55dbdf-2e9b-4676-ecee-dc7bddd5589f"
      },
      "source": [
        "print(f\"Loss Function: {test_results[0]*100:.3f}%\")\n",
        "for i, m in enumerate(learn.metrics):\n",
        "    print(f\"{m.name}: {test_results[i+1]*100:.3f}%\")"
      ],
      "execution_count": 205,
      "outputs": [
        {
          "output_type": "stream",
          "text": [
            "Loss Function: 3.721%\n",
            "error_rate: 1.180%\n",
            "accuracy: 98.820%\n"
          ],
          "name": "stdout"
        }
      ]
    },
    {
      "cell_type": "code",
      "metadata": {
        "id": "rbZm0BLF67es"
      },
      "source": [
        "# Attempt 2"
      ],
      "execution_count": 212,
      "outputs": []
    },
    {
      "cell_type": "code",
      "metadata": {
        "colab": {
          "base_uri": "https://localhost:8080/",
          "height": 300
        },
        "id": "sHlYfNgK5jkV",
        "outputId": "985e9147-3d09-4d09-f21c-469c127b399d"
      },
      "source": [
        "learn = cnn_learner(dls, resnet18, metrics=[error_rate, accuracy])\n",
        "lr_min, lr_steep = learn.lr_find()\n",
        "print(f\"lr_min: {lr_min:.1e}   lr_steep: {lr_steep:.1e}\")"
      ],
      "execution_count": 214,
      "outputs": [
        {
          "output_type": "display_data",
          "data": {
            "text/html": [
              ""
            ],
            "text/plain": [
              "<IPython.core.display.HTML object>"
            ]
          },
          "metadata": {
            "tags": []
          }
        },
        {
          "output_type": "stream",
          "text": [
            "lr_min: 3.0e-02   lr_steep: 3.0e-03\n"
          ],
          "name": "stdout"
        },
        {
          "output_type": "display_data",
          "data": {
            "image/png": "[encoded data removed]",
            "text/plain": [
              "<Figure size 432x288 with 1 Axes>"
            ]
          },
          "metadata": {
            "tags": [],
            "needs_background": "light"
          }
        }
      ]
    },
    {
      "cell_type": "code",
      "metadata": {
        "colab": {
          "base_uri": "https://localhost:8080/",
          "height": 196
        },
        "id": "PvoMiluW6-M8",
        "outputId": "b784afc1-082e-4ec2-9846-5a89ac1e1ca2"
      },
      "source": [
        "learn.fit_one_cycle(5, lr_min/10)"
      ],
      "execution_count": 216,
      "outputs": [
        {
          "output_type": "display_data",
          "data": {
            "text/html": [
              "<table border=\"1\" class=\"dataframe\">\n",
              "  <thead>\n",
              "    <tr style=\"text-align: left;\">\n",
              "      <th>epoch</th>\n",
              "      <th>train_loss</th>\n",
              "      <th>valid_loss</th>\n",
              "      <th>error_rate</th>\n",
              "      <th>accuracy</th>\n",
              "      <th>time</th>\n",
              "    </tr>\n",
              "  </thead>\n",
              "  <tbody>\n",
              "    <tr>\n",
              "      <td>0</td>\n",
              "      <td>0.285703</td>\n",
              "      <td>0.149399</td>\n",
              "      <td>0.045917</td>\n",
              "      <td>0.954083</td>\n",
              "      <td>00:57</td>\n",
              "    </tr>\n",
              "    <tr>\n",
              "      <td>1</td>\n",
              "      <td>0.119709</td>\n",
              "      <td>0.083588</td>\n",
              "      <td>0.024833</td>\n",
              "      <td>0.975167</td>\n",
              "      <td>00:57</td>\n",
              "    </tr>\n",
              "    <tr>\n",
              "      <td>2</td>\n",
              "      <td>0.086154</td>\n",
              "      <td>0.056116</td>\n",
              "      <td>0.015750</td>\n",
              "      <td>0.984250</td>\n",
              "      <td>00:57</td>\n",
              "    </tr>\n",
              "    <tr>\n",
              "      <td>3</td>\n",
              "      <td>0.044326</td>\n",
              "      <td>0.042896</td>\n",
              "      <td>0.013000</td>\n",
              "      <td>0.987000</td>\n",
              "      <td>00:57</td>\n",
              "    </tr>\n",
              "    <tr>\n",
              "      <td>4</td>\n",
              "      <td>0.049336</td>\n",
              "      <td>0.039263</td>\n",
              "      <td>0.012083</td>\n",
              "      <td>0.987917</td>\n",
              "      <td>00:57</td>\n",
              "    </tr>\n",
              "  </tbody>\n",
              "</table>"
            ],
            "text/plain": [
              "<IPython.core.display.HTML object>"
            ]
          },
          "metadata": {
            "tags": []
          }
        }
      ]
    },
    {
      "cell_type": "code",
      "metadata": {
        "id": "mjrT249V7hIt"
      },
      "source": [
        "learn.unfreeze()"
      ],
      "execution_count": 217,
      "outputs": []
    },
    {
      "cell_type": "code",
      "metadata": {
        "colab": {
          "base_uri": "https://localhost:8080/",
          "height": 283
        },
        "id": "o9Zb1jsz8tdA",
        "outputId": "ed004b4f-162f-4328-d53e-485a3b0a66b1"
      },
      "source": [
        "lr_min, lr_steep = learn.lr_find()"
      ],
      "execution_count": 219,
      "outputs": [
        {
          "output_type": "display_data",
          "data": {
            "text/html": [
              ""
            ],
            "text/plain": [
              "<IPython.core.display.HTML object>"
            ]
          },
          "metadata": {
            "tags": []
          }
        },
        {
          "output_type": "display_data",
          "data": {
            "image/png": "[encoded data removed]",
            "text/plain": [
              "<Figure size 432x288 with 1 Axes>"
            ]
          },
          "metadata": {
            "tags": [],
            "needs_background": "light"
          }
        }
      ]
    },
    {
      "cell_type": "code",
      "metadata": {
        "colab": {
          "base_uri": "https://localhost:8080/"
        },
        "id": "GCsMtijt8w-G",
        "outputId": "772bb0f2-4d73-47bc-9c16-1373f1017d41"
      },
      "source": [
        "print(f\"lr_min: {lr_min:.1e}   lr_steep: {lr_steep:.1e}\")"
      ],
      "execution_count": 220,
      "outputs": [
        {
          "output_type": "stream",
          "text": [
            "lr_min: 2.5e-06   lr_steep: 6.3e-07\n"
          ],
          "name": "stdout"
        }
      ]
    },
    {
      "cell_type": "code",
      "metadata": {
        "colab": {
          "base_uri": "https://localhost:8080/",
          "height": 196
        },
        "id": "DILRZiOK85rt",
        "outputId": "f835664e-93df-4934-e0fb-e55c40d296a9"
      },
      "source": [
        "learn.fit_one_cycle(5, 1.00e-04)"
      ],
      "execution_count": 221,
      "outputs": [
        {
          "output_type": "display_data",
          "data": {
            "text/html": [
              "<table border=\"1\" class=\"dataframe\">\n",
              "  <thead>\n",
              "    <tr style=\"text-align: left;\">\n",
              "      <th>epoch</th>\n",
              "      <th>train_loss</th>\n",
              "      <th>valid_loss</th>\n",
              "      <th>error_rate</th>\n",
              "      <th>accuracy</th>\n",
              "      <th>time</th>\n",
              "    </tr>\n",
              "  </thead>\n",
              "  <tbody>\n",
              "    <tr>\n",
              "      <td>0</td>\n",
              "      <td>0.066098</td>\n",
              "      <td>0.052429</td>\n",
              "      <td>0.015833</td>\n",
              "      <td>0.984167</td>\n",
              "      <td>01:00</td>\n",
              "    </tr>\n",
              "    <tr>\n",
              "      <td>1</td>\n",
              "      <td>0.052324</td>\n",
              "      <td>0.033438</td>\n",
              "      <td>0.010500</td>\n",
              "      <td>0.989500</td>\n",
              "      <td>00:59</td>\n",
              "    </tr>\n",
              "    <tr>\n",
              "      <td>2</td>\n",
              "      <td>0.029540</td>\n",
              "      <td>0.025429</td>\n",
              "      <td>0.007667</td>\n",
              "      <td>0.992333</td>\n",
              "      <td>00:59</td>\n",
              "    </tr>\n",
              "    <tr>\n",
              "      <td>3</td>\n",
              "      <td>0.014176</td>\n",
              "      <td>0.022583</td>\n",
              "      <td>0.006833</td>\n",
              "      <td>0.993167</td>\n",
              "      <td>01:00</td>\n",
              "    </tr>\n",
              "    <tr>\n",
              "      <td>4</td>\n",
              "      <td>0.008415</td>\n",
              "      <td>0.022730</td>\n",
              "      <td>0.006583</td>\n",
              "      <td>0.993417</td>\n",
              "      <td>01:00</td>\n",
              "    </tr>\n",
              "  </tbody>\n",
              "</table>"
            ],
            "text/plain": [
              "<IPython.core.display.HTML object>"
            ]
          },
          "metadata": {
            "tags": []
          }
        }
      ]
    },
    {
      "cell_type": "code",
      "metadata": {
        "id": "Jg61Ui63-2MB"
      },
      "source": [
        "test_image_fnames = get_image_files(path/'testing')\n",
        "test_dl = dls.test_dl(test_image_fnames, with_labels=True)"
      ],
      "execution_count": 229,
      "outputs": []
    },
    {
      "cell_type": "code",
      "metadata": {
        "colab": {
          "base_uri": "https://localhost:8080/",
          "height": 17
        },
        "id": "_wxrQj-Y9NDu",
        "outputId": "04381c12-0ae3-46a9-d173-b75185bac9e2"
      },
      "source": [
        "test_results = learn.validate(dl=test_dl)"
      ],
      "execution_count": 231,
      "outputs": [
        {
          "output_type": "display_data",
          "data": {
            "text/html": [
              ""
            ],
            "text/plain": [
              "<IPython.core.display.HTML object>"
            ]
          },
          "metadata": {
            "tags": []
          }
        }
      ]
    },
    {
      "cell_type": "code",
      "metadata": {
        "colab": {
          "base_uri": "https://localhost:8080/"
        },
        "id": "QSPuYEDr-Z6W",
        "outputId": "8a07f3ac-be33-4926-b7f6-de9090ed0253"
      },
      "source": [
        "print(f\"Loss Function: {test_results[0]*100:.3f}%\")\n",
        "for i, m in enumerate(learn.metrics):\n",
        "    print(f\"{m.name}: {test_results[i+1]*100:.3f}%\")"
      ],
      "execution_count": 227,
      "outputs": [
        {
          "output_type": "stream",
          "text": [
            "Loss Function: 2.236%\n",
            "error_rate: 0.600%\n",
            "accuracy: 99.400%\n"
          ],
          "name": "stdout"
        }
      ]
    },
    {
      "cell_type": "code",
      "metadata": {
        "colab": {
          "base_uri": "https://localhost:8080/",
          "height": 137
        },
        "id": "7B1k6VEv-cHl",
        "outputId": "97bef5de-abce-4df9-92bb-84af89a0ff5e"
      },
      "source": [
        "learn.fit_one_cycle(3, 1.00e-04)"
      ],
      "execution_count": 228,
      "outputs": [
        {
          "output_type": "display_data",
          "data": {
            "text/html": [
              "<table border=\"1\" class=\"dataframe\">\n",
              "  <thead>\n",
              "    <tr style=\"text-align: left;\">\n",
              "      <th>epoch</th>\n",
              "      <th>train_loss</th>\n",
              "      <th>valid_loss</th>\n",
              "      <th>error_rate</th>\n",
              "      <th>accuracy</th>\n",
              "      <th>time</th>\n",
              "    </tr>\n",
              "  </thead>\n",
              "  <tbody>\n",
              "    <tr>\n",
              "      <td>0</td>\n",
              "      <td>0.031599</td>\n",
              "      <td>0.037308</td>\n",
              "      <td>0.009750</td>\n",
              "      <td>0.990250</td>\n",
              "      <td>01:00</td>\n",
              "    </tr>\n",
              "    <tr>\n",
              "      <td>1</td>\n",
              "      <td>0.015156</td>\n",
              "      <td>0.024605</td>\n",
              "      <td>0.007250</td>\n",
              "      <td>0.992750</td>\n",
              "      <td>01:00</td>\n",
              "    </tr>\n",
              "    <tr>\n",
              "      <td>2</td>\n",
              "      <td>0.008643</td>\n",
              "      <td>0.019646</td>\n",
              "      <td>0.005333</td>\n",
              "      <td>0.994667</td>\n",
              "      <td>00:59</td>\n",
              "    </tr>\n",
              "  </tbody>\n",
              "</table>"
            ],
            "text/plain": [
              "<IPython.core.display.HTML object>"
            ]
          },
          "metadata": {
            "tags": []
          }
        }
      ]
    },
    {
      "cell_type": "code",
      "metadata": {
        "colab": {
          "base_uri": "https://localhost:8080/",
          "height": 67
        },
        "id": "6ACe9Lfa_CK1",
        "outputId": "b617ee69-6f20-4b7f-bc1a-e0f9647f56a5"
      },
      "source": [
        "test_image_fnames = get_image_files(path/'testing')\n",
        "test_dl = dls.test_dl(test_image_fnames, with_labels=True)\n",
        "test_results = learn.validate(dl=test_dl)\n",
        "\n",
        "print(f\"Loss Function: {test_results[0]*100:.3f}%\")\n",
        "for i, m in enumerate(learn.metrics):\n",
        "    print(f\"{m.name}: {test_results[i+1]*100:.3f}%\")"
      ],
      "execution_count": 232,
      "outputs": [
        {
          "output_type": "display_data",
          "data": {
            "text/html": [
              ""
            ],
            "text/plain": [
              "<IPython.core.display.HTML object>"
            ]
          },
          "metadata": {
            "tags": []
          }
        },
        {
          "output_type": "stream",
          "text": [
            "Loss Function: 2.212%\n",
            "error_rate: 0.530%\n",
            "accuracy: 99.470%\n"
          ],
          "name": "stdout"
        }
      ]
    },
    {
      "cell_type": "code",
      "metadata": {
        "colab": {
          "base_uri": "https://localhost:8080/",
          "height": 137
        },
        "id": "lgV9rLed_5zv",
        "outputId": "bf1dba85-4311-4412-f399-76713ce46643"
      },
      "source": [
        "learn.fit_one_cycle(3, 1.00e-05)"
      ],
      "execution_count": 233,
      "outputs": [
        {
          "output_type": "display_data",
          "data": {
            "text/html": [
              "<table border=\"1\" class=\"dataframe\">\n",
              "  <thead>\n",
              "    <tr style=\"text-align: left;\">\n",
              "      <th>epoch</th>\n",
              "      <th>train_loss</th>\n",
              "      <th>valid_loss</th>\n",
              "      <th>error_rate</th>\n",
              "      <th>accuracy</th>\n",
              "      <th>time</th>\n",
              "    </tr>\n",
              "  </thead>\n",
              "  <tbody>\n",
              "    <tr>\n",
              "      <td>0</td>\n",
              "      <td>0.005238</td>\n",
              "      <td>0.019877</td>\n",
              "      <td>0.005083</td>\n",
              "      <td>0.994917</td>\n",
              "      <td>01:00</td>\n",
              "    </tr>\n",
              "    <tr>\n",
              "      <td>1</td>\n",
              "      <td>0.002741</td>\n",
              "      <td>0.019615</td>\n",
              "      <td>0.005167</td>\n",
              "      <td>0.994833</td>\n",
              "      <td>01:00</td>\n",
              "    </tr>\n",
              "    <tr>\n",
              "      <td>2</td>\n",
              "      <td>0.002548</td>\n",
              "      <td>0.020597</td>\n",
              "      <td>0.005750</td>\n",
              "      <td>0.994250</td>\n",
              "      <td>01:00</td>\n",
              "    </tr>\n",
              "  </tbody>\n",
              "</table>"
            ],
            "text/plain": [
              "<IPython.core.display.HTML object>"
            ]
          },
          "metadata": {
            "tags": []
          }
        }
      ]
    },
    {
      "cell_type": "code",
      "metadata": {
        "colab": {
          "base_uri": "https://localhost:8080/",
          "height": 67
        },
        "id": "6JQNNgpdAO5d",
        "outputId": "3c639a9d-10ac-4f2f-a03d-971acca390fc"
      },
      "source": [
        "test_image_fnames = get_image_files(path/'testing')\n",
        "test_dl = dls.test_dl(test_image_fnames, with_labels=True)\n",
        "test_results = learn.validate(dl=test_dl)\n",
        "\n",
        "print(f\"Loss Function: {test_results[0]*100:.3f}%\")\n",
        "for i, m in enumerate(learn.metrics):\n",
        "    print(f\"{m.name}: {test_results[i+1]*100:.3f}%\")"
      ],
      "execution_count": 234,
      "outputs": [
        {
          "output_type": "display_data",
          "data": {
            "text/html": [
              ""
            ],
            "text/plain": [
              "<IPython.core.display.HTML object>"
            ]
          },
          "metadata": {
            "tags": []
          }
        },
        {
          "output_type": "stream",
          "text": [
            "Loss Function: 2.205%\n",
            "error_rate: 0.550%\n",
            "accuracy: 99.450%\n"
          ],
          "name": "stdout"
        }
      ]
    }
  ]
}